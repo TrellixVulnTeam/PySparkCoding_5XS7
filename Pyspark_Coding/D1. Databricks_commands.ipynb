{
 "cells": [
  {
   "cell_type": "code",
   "execution_count": null,
   "metadata": {},
   "outputs": [],
   "source": [
    "#To remove file in Databricks"
   ]
  },
  {
   "cell_type": "code",
   "execution_count": null,
   "metadata": {},
   "outputs": [],
   "source": [
    "%fs rm /mnt/itv-github-db/sandbox/students -r"
   ]
  },
  {
   "cell_type": "code",
   "execution_count": null,
   "metadata": {},
   "outputs": [],
   "source": [
    "students1_str = \"\"\"\n",
    "{\"students\": [{\"student_id\":1,\"student_first_name\":\"Eduino\",\"student_last_name\":\"Dawdry\",\"student_email\":\"edawdry0@whitehouse.gov\",\"student_gender\":\"Bigender\",\"student_phone_numbers\":[\"5737119029\"],\"student_address\":{\"street\":\"218 Ridgeway Crossing\",\"city\":\"Omaha\",\"state\":\"Nebraska\",\"postal_code\":\"68110\"}},\n",
    "{\"student_id\":2,\"student_first_name\":\"Lacee\",\"student_last_name\":\"Prosek\",\"student_email\":\"lprosek1@barnesandnoble.com\",\"student_gender\":\"Polygender\",\"student_phone_numbers\":[\"9526294997\",\"4699651256\",\"7167123799\",\"7061046839\",\"7013761528\"],\"student_address\":{\"street\":\"188 Meadow Vale Avenue\",\"city\":\"Augusta\",\"state\":\"Georgia\",\"postal_code\":\"30919\"}},\n",
    "{\"student_id\":3,\"student_first_name\":\"Richart\",\"student_last_name\":\"Zimmer\",\"student_email\":\"rzimmer2@ox.ac.uk\",\"student_gender\":\"Non-binary\",\"student_phone_numbers\":[\"3129072019\",\"2815879465\",\"9793774370\",\"6367833815\"],\"student_address\":{\"street\":\"87155 Lunder Court\",\"city\":\"Fort Myers\",\"state\":\"Florida\",\"postal_code\":\"33994\"}},\n",
    "{\"student_id\":4,\"student_first_name\":\"Elyse\",\"student_last_name\":\"Addionisio\",\"student_email\":\"\",\"student_gender\":\"Polygender\",\"student_phone_numbers\":[\"7347984926\",\"3364474838\",\"7136381150\"],\"student_address\":{\"street\":\"77 Sugar Alley\",\"city\":\"Atlanta\",\"state\":\"Georgia\",\"postal_code\":\"31132\"}},\n",
    "{\"student_id\":5,\"student_first_name\":\"Lilian\",\"student_last_name\":\"Warret\",\"student_email\":\"\",\"student_gender\":\"Male\",\"student_phone_numbers\":[\"5031246553\",\"6151432197\",\"2152754201\"],\"student_address\":{\"street\":\"82540 Summer Ridge Point\",\"city\":\"Sioux Falls\",\"state\":\"South Dakota\",\"postal_code\":\"57193\"}}\n",
    "]}\n",
    "\"\"\""
   ]
  },
  {
   "cell_type": "code",
   "execution_count": null,
   "metadata": {},
   "outputs": [],
   "source": [
    "import json\n",
    "students1 = json.loads(students1_str)"
   ]
  },
  {
   "cell_type": "code",
   "execution_count": null,
   "metadata": {},
   "outputs": [],
   "source": [
    "from pyspark.sql import Row\n",
    "students1_df = spark.createDataFrame(Row(**x) for x in students1['students'])"
   ]
  },
  {
   "cell_type": "markdown",
   "metadata": {},
   "source": [
    "Write in delta format \n",
    "# usecase of delta files: internally delta format is parquet format but it alsio exoposes the logs"
   ]
  },
  {
   "cell_type": "code",
   "execution_count": null,
   "metadata": {},
   "outputs": [],
   "source": [
    "student_df.write.format('delta').save('location')"
   ]
  },
  {
   "cell_type": "markdown",
   "metadata": {},
   "source": [
    "read file from delta"
   ]
  },
  {
   "cell_type": "code",
   "execution_count": null,
   "metadata": {},
   "outputs": [],
   "source": [
    "student_df=spark.read.format('delta').load('/mnt/sdatabricks/students')"
   ]
  },
  {
   "cell_type": "code",
   "execution_count": null,
   "metadata": {},
   "outputs": [],
   "source": [
    "from delta.tables import DeltaTable\n",
    "# load delta files\n",
    "student_delta = DeltaTable.forPath(spark,'/mnt/sdatabricks/students')\n",
    "student_delta\n",
    "#<delta.tables.DeltaTable at 0x7f7fa3a151c0>"
   ]
  },
  {
   "cell_type": "code",
   "execution_count": null,
   "metadata": {},
   "outputs": [],
   "source": [
    "# To show the delta file loaction\n",
    "%fs ls /mnt/sdatabricks/students"
   ]
  },
  {
   "cell_type": "markdown",
   "metadata": {},
   "source": [
    "# To show the delta file logs\n",
    "%fs ls /mnt/sdatabricks/students/_delta_log/"
   ]
  },
  {
   "cell_type": "code",
   "execution_count": null,
   "metadata": {},
   "outputs": [],
   "source": [
    "#convert delta variable to Dataframe\n",
    "student_delta.toDF().printSchema()"
   ]
  },
  {
   "cell_type": "markdown",
   "metadata": {},
   "source": [
    "# update the existing the value in delta lake"
   ]
  },
  {
   "cell_type": "code",
   "execution_count": null,
   "metadata": {},
   "outputs": [],
   "source": [
    "from pyspark.sql.functions import lit, expr\n",
    "student_delta.update(\n",
    "    condition = expr(\"student_id == 4 \"),\n",
    "  set = {\"student_email\": lit(\"edision@berkley.com\")})"
   ]
  },
  {
   "cell_type": "markdown",
   "metadata": {},
   "source": [
    "# Delta logs will create the logs folder having lof files for the activities for over the time period where JSON and CRC file tells the \n",
    "# update and merge file and over the time we will be having lots of files so we need vaccuming of those files"
   ]
  },
  {
   "cell_type": "code",
   "execution_count": null,
   "metadata": {},
   "outputs": [],
   "source": [
    "# Delete the data in delta format"
   ]
  },
  {
   "cell_type": "code",
   "execution_count": null,
   "metadata": {},
   "outputs": [],
   "source": [
    "help(student_delta.delete)"
   ]
  },
  {
   "cell_type": "code",
   "execution_count": 1,
   "metadata": {},
   "outputs": [
    {
     "ename": "NameError",
     "evalue": "name 'student_delta' is not defined",
     "output_type": "error",
     "traceback": [
      "\u001b[0;31m---------------------------------------------------------------------------\u001b[0m",
      "\u001b[0;31mNameError\u001b[0m                                 Traceback (most recent call last)",
      "\u001b[1;32m/Users/shubhangigupta/Desktop/Pyspark_Coding/D1. Databricks_commands.ipynb Cell 19\u001b[0m in \u001b[0;36m<cell line: 1>\u001b[0;34m()\u001b[0m\n\u001b[0;32m----> <a href='vscode-notebook-cell:/Users/shubhangigupta/Desktop/Pyspark_Coding/D1.%20Databricks_commands.ipynb#X31sZmlsZQ%3D%3D?line=0'>1</a>\u001b[0m student_delta\u001b[39m.\u001b[39mdelete(\n\u001b[1;32m      <a href='vscode-notebook-cell:/Users/shubhangigupta/Desktop/Pyspark_Coding/D1.%20Databricks_commands.ipynb#X31sZmlsZQ%3D%3D?line=1'>2</a>\u001b[0m \n\u001b[1;32m      <a href='vscode-notebook-cell:/Users/shubhangigupta/Desktop/Pyspark_Coding/D1.%20Databricks_commands.ipynb#X31sZmlsZQ%3D%3D?line=2'>3</a>\u001b[0m     condition \u001b[39m=\u001b[39m expr(\u001b[39m\"\u001b[39m\u001b[39mstudent_id==5\u001b[39m\u001b[39m\"\u001b[39m)\n\u001b[1;32m      <a href='vscode-notebook-cell:/Users/shubhangigupta/Desktop/Pyspark_Coding/D1.%20Databricks_commands.ipynb#X31sZmlsZQ%3D%3D?line=3'>4</a>\u001b[0m )\n",
      "\u001b[0;31mNameError\u001b[0m: name 'student_delta' is not defined"
     ]
    }
   ],
   "source": [
    "\n",
    "student_delta.delete(\n",
    "\n",
    "    condition = expr(\"student_id==5\")\n",
    ")"
   ]
  },
  {
   "cell_type": "code",
   "execution_count": null,
   "metadata": {},
   "outputs": [],
   "source": [
    "#sql style syntax:\n",
    "student_delta.delete(\n",
    "    condition = \"student_id = 5\",\n",
    ")"
   ]
  },
  {
   "cell_type": "code",
   "execution_count": null,
   "metadata": {},
   "outputs": [],
   "source": [
    "## Upsert : Update and Merge"
   ]
  },
  {
   "cell_type": "code",
   "execution_count": null,
   "metadata": {},
   "outputs": [],
   "source": [
    "students2_str = \"\"\"\n",
    "{\"students\": [\n",
    "{\"student_id\":4,\"student_first_name\":\"Elyse\",\"student_last_name\":\"Addionisio\",\"student_email\":\"eaddionisio3@berkeley.edu\",\"student_gender\":\"Polygender\",\"student_phone_numbers\":[\"7347984926\",\"3364474838\",\"7136381150\"],\"student_address\":{\"street\":\"77 Sugar Alley\",\"city\":\"Atlanta\",\"state\":\"Georgia\",\"postal_code\":\"31132\"}},\n",
    "{\"student_id\":5,\"student_first_name\":\"Lilian\",\"student_last_name\":\"Warret\",\"student_email\":\"lwarret4@nsw.gov.au\",\"student_gender\":\"Male\",\"student_phone_numbers\":[\"5031246553\",\"6151432197\",\"2152754201\"],\"student_address\":{\"street\":\"82540 Summer Ridge Point\",\"city\":\"Sioux Falls\",\"state\":\"South Dakota\",\"postal_code\":\"57193\"}},\n",
    "{\"student_id\":6,\"student_first_name\":\"Tate\",\"student_last_name\":\"Swyne\",\"student_email\":\"tswyne5@hud.gov\",\"student_gender\":\"Agender\",\"student_phone_numbers\":[\"2021437429\",\"8507115330\",\"3047568052\",\"7818031186\",\"6072847440\"],\"student_address\":{\"street\":\"23 Sommers Parkway\",\"city\":\"El Paso\",\"state\":\"Texas\",\"postal_code\":\"88569\"}},\n",
    "{\"student_id\":7,\"student_first_name\":\"Ichabod\",\"student_last_name\":\"Moring\",\"student_email\":\"imoring6@un.org\",\"student_gender\":\"Female\",\"student_phone_numbers\":[\"7147001301\",\"9895085931\"],\"student_address\":{\"street\":\"584 Reindahl Way\",\"city\":\"Denver\",\"state\":\"Colorado\",\"postal_code\":\"80228\"}},\n",
    "{\"student_id\":8,\"student_first_name\":\"Ariel\",\"student_last_name\":\"Howler\",\"student_email\":\"ahowler7@tinypic.com\",\"student_gender\":\"Agender\",\"student_phone_numbers\":null,\"student_address\":{\"street\":null,\"city\":null,\"state\":null,\"postal_code\":null}},\n",
    "{\"student_id\":9,\"student_first_name\":\"Octavia\",\"student_last_name\":\"Stenner\",\"student_email\":\"ostenner8@networksolutions.com\",\"student_gender\":\"Bigender\",\"student_phone_numbers\":null,\"student_address\":{\"street\":null,\"city\":null,\"state\":null,\"postal_code\":null}},\n",
    "{\"student_id\":10,\"student_first_name\":\"Ronda\",\"student_last_name\":\"Stean\",\"student_email\":\"rstean9@xrea.com\",\"student_gender\":\"Genderfluid\",\"student_phone_numbers\":null,\"student_address\":{\"street\":null,\"city\":null,\"state\":null,\"postal_code\":null}}]}\n",
    "\"\"\""
   ]
  },
  {
   "cell_type": "code",
   "execution_count": null,
   "metadata": {},
   "outputs": [],
   "source": [
    "students2 = json.loads(students2_str)\n",
    "students2_df = spark.createDataFrame(Row(**x) for x in students2['students'])"
   ]
  },
  {
   "cell_type": "code",
   "execution_count": null,
   "metadata": {},
   "outputs": [],
   "source": [
    "mergecondition = student_delta.alias(\"t\").merge(source = students2_df.alias(\"s\"), condition = \"s.student_id = t.student_id\")"
   ]
  },
  {
   "cell_type": "code",
   "execution_count": null,
   "metadata": {},
   "outputs": [],
   "source": [
    "type(mergecondition)// delta"
   ]
  },
  {
   "cell_type": "code",
   "execution_count": null,
   "metadata": {},
   "outputs": [],
   "source": [
    "mergecondition = student_delta.alias(\"t\").merge(source = students2_df.alias(\"s\"), condition = \"s.student_id = t.student_id\")\\\n",
    ".whenMatchedUpdateAll()\\\n",
    ".whenNotMatchedInsertedAll()\\// insert data from student2_df if data is not there but structure is same\n",
    ".execute()\n",
    "# if the structure is not same in target and other table then we have to specify in both update and inserted "
   ]
  },
  {
   "cell_type": "code",
   "execution_count": 2,
   "metadata": {},
   "outputs": [
    {
     "ename": "SyntaxError",
     "evalue": "unexpected character after line continuation character (99126591.py, line 7)",
     "output_type": "error",
     "traceback": [
      "\u001b[0;36m  Input \u001b[0;32mIn [2]\u001b[0;36m\u001b[0m\n\u001b[0;31m    .whenNotMatchedInsertedAll()\\// insert data from student2_df if data is not there but structure is same\u001b[0m\n\u001b[0m      ^\u001b[0m\n\u001b[0;31mSyntaxError\u001b[0m\u001b[0;31m:\u001b[0m unexpected character after line continuation character\n"
     ]
    }
   ],
   "source": [
    "#if we want to update some of the firlds for the existing dATA \n",
    "\n",
    "mergecondition = student_delta.alias(\"t\").merge(source = students2_df.alias(\"s\"), condition = \"s.student_id = t.student_id\")\\\n",
    ".whenMatchedUpdateAll(  set = {\n",
    "    'student_first_name ': 's.student_first_name'\n",
    "\n",
    "})\\\n",
    ".whenNotMatchedInsertedAll()\\// insert data from student2_df if data is not there but structure is same\n",
    ".execute()"
   ]
  },
  {
   "cell_type": "code",
   "execution_count": null,
   "metadata": {},
   "outputs": [],
   "source": []
  }
 ],
 "metadata": {
  "kernelspec": {
   "display_name": "Python 3.9.7 ('pysparkcodingvenv': venv)",
   "language": "python",
   "name": "python3"
  },
  "language_info": {
   "codemirror_mode": {
    "name": "ipython",
    "version": 3
   },
   "file_extension": ".py",
   "mimetype": "text/x-python",
   "name": "python",
   "nbconvert_exporter": "python",
   "pygments_lexer": "ipython3",
   "version": "3.9.7"
  },
  "orig_nbformat": 4,
  "vscode": {
   "interpreter": {
    "hash": "024d72e7fefe03842320fc063dcaae50b9599bc22df6b912d1daaeec955af601"
   }
  }
 },
 "nbformat": 4,
 "nbformat_minor": 2
}
