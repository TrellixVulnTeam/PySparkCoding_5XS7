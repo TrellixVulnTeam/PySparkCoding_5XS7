{
 "cells": [
  {
   "cell_type": "code",
   "execution_count": 3,
   "id": "269abbe9",
   "metadata": {},
   "outputs": [
    {
     "name": "stdout",
     "output_type": "stream",
     "text": [
      "Python 3.8.6\r\n"
     ]
    }
   ],
   "source": [
    "!python --version"
   ]
  },
  {
   "cell_type": "code",
   "execution_count": 4,
   "id": "d6cff9a0",
   "metadata": {},
   "outputs": [
    {
     "name": "stdout",
     "output_type": "stream",
     "text": [
      "Requirement already satisfied: pyspark in /Library/Frameworks/Python.framework/Versions/3.9/lib/python3.9/site-packages (3.3.0)\n",
      "Requirement already satisfied: py4j==0.10.9.5 in /Library/Frameworks/Python.framework/Versions/3.9/lib/python3.9/site-packages (from pyspark) (0.10.9.5)\n",
      "\n",
      "\u001b[1m[\u001b[0m\u001b[34;49mnotice\u001b[0m\u001b[1;39;49m]\u001b[0m\u001b[39;49m A new release of pip available: \u001b[0m\u001b[31;49m22.2.1\u001b[0m\u001b[39;49m -> \u001b[0m\u001b[32;49m22.2.2\u001b[0m\n",
      "\u001b[1m[\u001b[0m\u001b[34;49mnotice\u001b[0m\u001b[1;39;49m]\u001b[0m\u001b[39;49m To update, run: \u001b[0m\u001b[32;49mpip install --upgrade pip\u001b[0m\n"
     ]
    }
   ],
   "source": [
    "!pip install pyspark"
   ]
  },
  {
   "cell_type": "code",
   "execution_count": null,
   "id": "7ad1c907",
   "metadata": {},
   "outputs": [],
   "source": [
    "pip install --upgrade pip"
   ]
  },
  {
   "cell_type": "code",
   "execution_count": null,
   "id": "cb83653c",
   "metadata": {},
   "outputs": [],
   "source": [
    "!curl https://bootstrap.pypa.io/get-pip.py | python"
   ]
  },
  {
   "cell_type": "code",
   "execution_count": null,
   "id": "9cb46572",
   "metadata": {},
   "outputs": [],
   "source": [
    "!pip install --upgrade setuptools"
   ]
  },
  {
   "cell_type": "code",
   "execution_count": 5,
   "id": "3c9ae837",
   "metadata": {},
   "outputs": [
    {
     "name": "stdout",
     "output_type": "stream",
     "text": [
      "Requirement already satisfied: findspark in ./opt/anaconda3/lib/python3.9/site-packages (2.0.1)\n",
      "Note: you may need to restart the kernel to use updated packages.\n"
     ]
    }
   ],
   "source": [
    "pip install findspark"
   ]
  },
  {
   "cell_type": "code",
   "execution_count": 4,
   "id": "8fd129d8",
   "metadata": {},
   "outputs": [],
   "source": [
    "import os"
   ]
  },
  {
   "cell_type": "code",
   "execution_count": 5,
   "id": "a3231ae8",
   "metadata": {},
   "outputs": [],
   "source": [
    "os.environ[\"SPARK_HOME\"] = \"/Users/shubhangigupta/hadoop/spark-3.3.0-bin-hadoop3\""
   ]
  },
  {
   "cell_type": "code",
   "execution_count": 2,
   "id": "15b0ad0c",
   "metadata": {},
   "outputs": [],
   "source": [
    "import findspark\n",
    "\n",
    "findspark.init()\n",
    "\n",
    "import pyspark\n"
   ]
  },
  {
   "cell_type": "code",
   "execution_count": 3,
   "id": "7a3451fd",
   "metadata": {},
   "outputs": [
    {
     "data": {
      "text/plain": [
       "<module 'pyspark' from '/Users/shubhangigupta/hadoop/spark-3.3.0-bin-hadoop3/python/pyspark/__init__.py'>"
      ]
     },
     "execution_count": 3,
     "metadata": {},
     "output_type": "execute_result"
    }
   ],
   "source": [
    "pyspark"
   ]
  },
  {
   "cell_type": "code",
   "execution_count": 4,
   "id": "dca45263",
   "metadata": {},
   "outputs": [],
   "source": [
    "from pyspark.sql import SparkSession"
   ]
  },
  {
   "cell_type": "code",
   "execution_count": 5,
   "id": "2a3f8ea3",
   "metadata": {},
   "outputs": [
    {
     "name": "stderr",
     "output_type": "stream",
     "text": [
      "Setting default log level to \"WARN\".\n",
      "To adjust logging level use sc.setLogLevel(newLevel). For SparkR, use setLogLevel(newLevel).\n"
     ]
    },
    {
     "name": "stdout",
     "output_type": "stream",
     "text": [
      "22/08/22 10:43:16 WARN NativeCodeLoader: Unable to load native-hadoop library for your platform... using builtin-java classes where applicable\n"
     ]
    }
   ],
   "source": [
    "spark=SparkSession.builder.appName('Word Count').getOrCreate()"
   ]
  },
  {
   "cell_type": "code",
   "execution_count": null,
   "id": "49dd6120",
   "metadata": {},
   "outputs": [],
   "source": [
    "## Example 1"
   ]
  },
  {
   "cell_type": "code",
   "execution_count": null,
   "id": "d02945b8",
   "metadata": {},
   "outputs": [],
   "source": [
    "df1 = spark.read.csv(\"/Users/shubhangigupta/Desktop/data_bigdatahadoop\", header=True, inferSchema=True)"
   ]
  },
  {
   "cell_type": "code",
   "execution_count": null,
   "id": "b077598f",
   "metadata": {},
   "outputs": [],
   "source": [
    "df2 = df1.select('passenger_count', 'trip_distance', 'tip_amount')"
   ]
  },
  {
   "cell_type": "code",
   "execution_count": null,
   "id": "ea015b51",
   "metadata": {},
   "outputs": [],
   "source": [
    "df2.count()"
   ]
  },
  {
   "cell_type": "code",
   "execution_count": null,
   "id": "4f9c64c2",
   "metadata": {},
   "outputs": [],
   "source": [
    "df3_1 = df2.distinct()"
   ]
  },
  {
   "cell_type": "code",
   "execution_count": null,
   "id": "c1353a39",
   "metadata": {},
   "outputs": [],
   "source": [
    "df3_1.count()"
   ]
  },
  {
   "cell_type": "code",
   "execution_count": null,
   "id": "80efdfca",
   "metadata": {},
   "outputs": [],
   "source": [
    "df3_2 = df2.dropDuplicates()\n",
    "df3_2.count()\n"
   ]
  },
  {
   "cell_type": "code",
   "execution_count": null,
   "id": "21ec5020",
   "metadata": {},
   "outputs": [],
   "source": [
    "df3 = df2.dropDuplicates()\n",
    "# Count the number of records in d3\n",
    "df3.count()\n"
   ]
  },
  {
   "cell_type": "code",
   "execution_count": null,
   "id": "13263e15",
   "metadata": {},
   "outputs": [],
   "source": [
    "df3.filter(df3.passenger_count == 2).count()"
   ]
  },
  {
   "cell_type": "code",
   "execution_count": null,
   "id": "67a74a32",
   "metadata": {},
   "outputs": [],
   "source": [
    "df3.describe('trip_distance').show()"
   ]
  },
  {
   "cell_type": "code",
   "execution_count": null,
   "id": "94816aa5",
   "metadata": {},
   "outputs": [],
   "source": [
    "from pyspark.sql.functions import *\n",
    "f1 = spark.sql('show functions')\n",
    "print(type(f1))"
   ]
  },
  {
   "cell_type": "code",
   "execution_count": null,
   "id": "bdbd51fa",
   "metadata": {},
   "outputs": [],
   "source": [
    "df1 = spark.read.csv(\"/Users/shubhangigupta/Desktop/empdata.csv\", header=True, inferSchema=True)\n",
    "df1.show()"
   ]
  },
  {
   "cell_type": "code",
   "execution_count": null,
   "id": "7717ff4f",
   "metadata": {},
   "outputs": [],
   "source": [
    "df2 = df1.withColumn('day', date_add(current_date(),2))\n",
    "df2.write.partitionBy('day').mode('append').saveAsTable('callbydate')\n",
    "df2.show()"
   ]
  },
  {
   "cell_type": "code",
   "execution_count": null,
   "id": "d00853f7",
   "metadata": {},
   "outputs": [],
   "source": [
    "import mysql.connector\n",
    "conn = mysql.connector.connect(user='root', database='strata',\n",
    "                               password='CpZhsPUwx3',\n",
    "                               host=\"localhost\",\n",
    "                               port=3306)"
   ]
  },
  {
   "cell_type": "code",
   "execution_count": null,
   "id": "ccad1c51",
   "metadata": {},
   "outputs": [],
   "source": [
    "import pandas as pd"
   ]
  },
  {
   "cell_type": "code",
   "execution_count": null,
   "id": "b72853aa",
   "metadata": {},
   "outputs": [],
   "source": [
    "cursor = conn.cursor()\n",
    "query = \"SELECT sender FROM facebook_messages_sent\"\n",
    "# Create a pandas dataframe\n",
    "pdf = pd.read_sql(query, con=conn)\n",
    "conn.close()\n",
    "\n",
    "# Convert Pandas dataframe to spark DataFrame\n",
    "df = spark.createDataFrame(pdf)\n",
    "\n",
    "df.show()"
   ]
  },
  {
   "cell_type": "code",
   "execution_count": null,
   "id": "faaade4e",
   "metadata": {},
   "outputs": [],
   "source": [
    "from pyspark.sql import SparkSession\n",
    "spark = SparkSession.builder.config(\"spark.jars\", \"/Users/shubhangigupta/spark-3.2.1-bin-hadoop3.2/jars/mysql-connector-java-8.0.29.jar\") \\\n",
    "    .master(\"local\").appName(\"PySpark_MySQL_test\").getOrCreate()"
   ]
  },
  {
   "cell_type": "code",
   "execution_count": null,
   "id": "774fd6a2",
   "metadata": {},
   "outputs": [],
   "source": []
  },
  {
   "cell_type": "code",
   "execution_count": null,
   "id": "df22aced",
   "metadata": {},
   "outputs": [],
   "source": [
    "dataframe_mysql = spark.read.format(\"jdbc\").options(\n",
    "    url=\"jdbc:mysql://localhost:3306/strata\",\n",
    "    driver = \"com.mysql.jdbc.Driver\",\n",
    "    dbtable = \"facebook_messages_sent\",\n",
    "    user=\"root\",\n",
    "    password=\"CpZhsPUwx3\").load()\n",
    "\n",
    "dataframe_mysql.show()"
   ]
  },
  {
   "cell_type": "code",
   "execution_count": null,
   "id": "e29231be",
   "metadata": {},
   "outputs": [],
   "source": [
    "df = spark.read.csv('/Users/shubhangigupta/Desktop/files/amazon_purchases.csv', header=True)\n",
    "df.show()"
   ]
  },
  {
   "cell_type": "code",
   "execution_count": null,
   "id": "2d452774",
   "metadata": {},
   "outputs": [],
   "source": [
    "#Find the 3-month rolling average of total revenue from purchases given a table with users, their purchase amount, and date purchased. Do not include returns which are represented by negative purchase values. Output the year-month (YYYY-MM) and 3-month rolling average of revenue, sorted from earliest month to latest month.\n",
    "#A 3-month rolling average is defined by calculating the average total revenue from all user purchases for the current month and previous two months. The first two months will not be a true 3-month rolling average since we are not given data from last year. Assume each month has at least one purchase."
   ]
  },
  {
   "cell_type": "markdown",
   "id": "094e1a13",
   "metadata": {},
   "source": [
    "## Example 2 (Read and Write Files)"
   ]
  },
  {
   "cell_type": "code",
   "execution_count": 6,
   "id": "0a74fbe9",
   "metadata": {},
   "outputs": [
    {
     "name": "stdout",
     "output_type": "stream",
     "text": [
      "+--------------------+--------------------+-----------------+--------------------+--------------------+----------+--------------------+------+------------+-------+--------------------+-------+\n",
      "|                cast|             country|       date_added|         description|            director|  duration|           listed_in|rating|release_year|show_id|               title|   type|\n",
      "+--------------------+--------------------+-----------------+--------------------+--------------------+----------+--------------------+------+------------+-------+--------------------+-------+\n",
      "|Chris Diamantopou...|                    |November 26, 2021|Join Mickey and t...|Alonso Ramirez Ra...|    23 min|   Animation, Family|  TV-G|        2016|     s1|Duck the Halls: A...|  Movie|\n",
      "|Jim Varney, Noell...|                    |November 26, 2021|Santa Claus passe...|         John Cherry|    91 min|              Comedy|    PG|        1988|     s2|Ernest Saves Chri...|  Movie|\n",
      "|Raymond Albert Ro...|       United States|November 26, 2021|Sid the Sloth is ...|        Karen Disher|    23 min|Animation, Comedy...|  TV-G|        2011|     s3|Ice Age: A Mammot...|  Movie|\n",
      "|Darren Criss, Ada...|                    |November 26, 2021|This is real life...|     Hamish Hamilton|    41 min|             Musical| TV-PG|        2021|     s4|The Queen Family ...|  Movie|\n",
      "|John Lennon, Paul...|                    |November 25, 2021|A three-part docu...|                    |  1 Season|Docuseries, Histo...|      |        2021|     s5|The Beatles: Get ...|TV Show|\n",
      "|Jacques Yves Cous...|       United States|November 24, 2021|An inside look at...|          Liz Garbus|    94 min|Biographical, Doc...| PG-13|        2021|     s6|   Becoming Cousteau|  Movie|\n",
      "|Jeremy Renner, Ha...|                    |November 24, 2021|Clint Barton/Hawk...|                    |  1 Season|Action-Adventure,...| TV-14|        2021|     s7|             Hawkeye|TV Show|\n",
      "|Gary Muehlberger,...|       United States|November 24, 2021|Residents of Port...|                    | 2 Seasons|Docuseries, Reali...| TV-14|        2015|     s8|Port Protection A...|TV Show|\n",
      "|Dr. Ray Ball, Dr....|       United States|November 24, 2021|A day in the life...|                    | 2 Seasons|Animals & Nature,...| TV-PG|        2019|     s9|Secrets of the Zo...|TV Show|\n",
      "|Dr. Ray Ball, Dr....|       United States|November 19, 2021|Celebrate the hol...|    Kirk R. Thatcher|    45 min|Comedy, Family, M...|     G|        2008|    s10|A Muppets Christm...|  Movie|\n",
      "|Don Hahn, Kathryn...|                    |November 19, 2021|Explore the treas...|          John Gleim|    59 min|         Documentary| TV-PG|        2020|    s11|Adventure Thru th...|  Movie|\n",
      "|                    |                    |November 19, 2021|Check out Daveed ...|                    |     4 min|Comedy, Family, M...|  TV-G|        2020|    s12|  Puppy for Hanukkah|  Movie|\n",
      "|Stacy Keach, John...|       United States|November 19, 2021|A groundbreaking ...|       Leslie Iwerks|    91 min| Documentary, Family|     G|        2007|    s13|     The Pixar Story|  Movie|\n",
      "|Dr. Michelle Oakl...|       United States|November 17, 2021|Meet Dr. Michelle...|                    |10 Seasons|Action-Adventure,...| TV-PG|        2013|    s14|Dr. Oakley, Yukon...|TV Show|\n",
      "|   Michael B. Jordan|                    |November 12, 2021|Epic, grand portr...|                    |     2 min|    Animals & Nature| TV-PG|        2021|    s15|America the Beaut...|  Movie|\n",
      "|                    |                    |November 12, 2021|“Baymax!” premier...|                    |     1 min|           Animation|  TV-G|        2021|    s16|             Baymax!|  Movie|\n",
      "|Jack Dylan Grazer...|                    |November 12, 2021|Fun-loving sea mo...|      McKenna Harris|     8 min|Animation, Comedy...| TV-PG|        2021|    s17|        Ciao Alberto|  Movie|\n",
      "|Mia Jenness, Alys...|United States, Ca...|November 12, 2021|Nancy makes every...|                    | 3 Seasons|     Animation, Kids| TV-PG|        2018|    s18|  Disney Fancy Nancy|TV Show|\n",
      "|Carolina Domenech...|                    |November 12, 2021|Allegra is ready ...|                    |  1 Season|Comedy, Coming of...| TV-PG|        2021|    s19|  Disney Intertwined|TV Show|\n",
      "|Amy Adams, Patric...|       United States|November 12, 2021|An animated princ...|          Kevin Lima|   110 min|Comedy, Family, F...|    PG|        2007|    s20|           Enchanted|  Movie|\n",
      "+--------------------+--------------------+-----------------+--------------------+--------------------+----------+--------------------+------+------------+-------+--------------------+-------+\n",
      "only showing top 20 rows\n",
      "\n"
     ]
    }
   ],
   "source": [
    "df = spark.read.option(\"multiline\",\"true\").json(\"/Users/shubhangigupta/Desktop/log_filedndjson_file/data.json\")\n",
    "df.show()"
   ]
  },
  {
   "cell_type": "code",
   "execution_count": 7,
   "id": "649bec6c",
   "metadata": {},
   "outputs": [
    {
     "name": "stdout",
     "output_type": "stream",
     "text": [
      "root\n",
      " |-- cast: string (nullable = true)\n",
      " |-- country: string (nullable = true)\n",
      " |-- date_added: string (nullable = true)\n",
      " |-- description: string (nullable = true)\n",
      " |-- director: string (nullable = true)\n",
      " |-- duration: string (nullable = true)\n",
      " |-- listed_in: string (nullable = true)\n",
      " |-- rating: string (nullable = true)\n",
      " |-- release_year: string (nullable = true)\n",
      " |-- show_id: string (nullable = true)\n",
      " |-- title: string (nullable = true)\n",
      " |-- type: string (nullable = true)\n",
      "\n"
     ]
    }
   ],
   "source": [
    "df = spark.read.option(\"multiline\",\"true\").json(\"/Users/shubhangigupta/Desktop/log_filedndjson_file/data.json\")\n",
    "df.printSchema()"
   ]
  },
  {
   "cell_type": "code",
   "execution_count": 8,
   "id": "3b6dfacb",
   "metadata": {},
   "outputs": [],
   "source": [
    "from pyspark.sql.types import StringType , StructField, IntegerType, StructType"
   ]
  },
  {
   "cell_type": "code",
   "execution_count": 11,
   "id": "79cd921e",
   "metadata": {},
   "outputs": [],
   "source": [
    "\n",
    "sampleSchema = StructType([\n",
    "    StructField(\"cast\",StringType(),True), \n",
    "    StructField(\"ct\",StringType(),True), \n",
    "    StructField(\"date_added\", StringType(), True), \n",
    "    StructField(\"description\", StringType(), True), \n",
    "    StructField(\"director\", StringType(), True), \n",
    "    StructField(\"duration\", StringType(), True), \n",
    "    StructField(\"listed_in\",StringType(),True), \n",
    "    StructField(\"rating\",StringType(),True), \n",
    "    StructField(\"release_year\", StringType(), True), \n",
    "    StructField(\"show_id\", StringType(), True), \n",
    "    StructField(\"title\", StringType(), True), \n",
    "    StructField(\"type\", StringType(), True)\n",
    "  ])"
   ]
  },
  {
   "cell_type": "code",
   "execution_count": 12,
   "id": "e0e53182",
   "metadata": {},
   "outputs": [
    {
     "data": {
      "text/plain": [
       "DataFrame[cast: string, ct: string, date_added: string, description: string, director: string, duration: string, listed_in: string, rating: string, release_year: string, show_id: string, title: string, type: string]"
      ]
     },
     "execution_count": 12,
     "metadata": {},
     "output_type": "execute_result"
    }
   ],
   "source": [
    "df = spark.read.json('/Users/shubhangigupta/Desktop/log_filedndjson_file/data.json', sampleSchema, multiLine=True)\n",
    "\n",
    "df.fillna(\"null\")"
   ]
  },
  {
   "cell_type": "code",
   "execution_count": 13,
   "id": "3c1bfd23",
   "metadata": {},
   "outputs": [
    {
     "name": "stderr",
     "output_type": "stream",
     "text": [
      "                                                                                \r"
     ]
    }
   ],
   "source": [
    "df.write.option(\"header\",True).option(\"maxRecordsPerFile\", 1).partitionBy(\"date_added\").mode(\"overwrite\").parquet(\"/Users/shubhangigupta/Desktop/log_filedndjson_file/parquet_file_partionined\")"
   ]
  },
  {
   "cell_type": "code",
   "execution_count": 221,
   "id": "cc012e5c",
   "metadata": {},
   "outputs": [
    {
     "name": "stderr",
     "output_type": "stream",
     "text": [
      "                                                                                \r"
     ]
    }
   ],
   "source": [
    "## write into a file by repartioning into 2 and partition by column\n",
    "\n",
    "df.repartition(2).write.option(\"header\",True).partitionBy(\"date_added\").mode(\"overwrite\").parquet(\"/Users/shubhangigupta/Desktop/log_filedndjson_file/parquet_file_partionined\")"
   ]
  },
  {
   "cell_type": "code",
   "execution_count": 185,
   "id": "e8c1cda8",
   "metadata": {},
   "outputs": [
    {
     "name": "stderr",
     "output_type": "stream",
     "text": [
      "\r\n",
      "[Stage 139:>                                                        (0 + 1) / 1]\r\n",
      "\r\n",
      "                                                                                \r"
     ]
    }
   ],
   "source": [
    "## write file in  parquet\n",
    "\n",
    "df.write.format('parquet').save('/Users/shubhangigupta/Desktop/log_filedndjson_file/parquet_file', mode='append', header=True)"
   ]
  },
  {
   "cell_type": "code",
   "execution_count": 133,
   "id": "b6153e38",
   "metadata": {},
   "outputs": [],
   "source": [
    "import pyspark.sql.functions as f"
   ]
  },
  {
   "cell_type": "code",
   "execution_count": 135,
   "id": "69c571f1",
   "metadata": {},
   "outputs": [
    {
     "name": "stdout",
     "output_type": "stream",
     "text": [
      "+-------+--------------------+---+--------------------+\n",
      "|show_id|           film_cast|pos|                 val|\n",
      "+-------+--------------------+---+--------------------+\n",
      "|     s1|[Chris Diamantopo...|  0|Chris Diamantopoulos|\n",
      "|     s1|[Chris Diamantopo...|  1|        Tony Anselmo|\n",
      "|     s1|[Chris Diamantopo...|  2|     Tress MacNeille|\n",
      "|     s1|[Chris Diamantopo...|  3|         Bill Farmer|\n",
      "|     s1|[Chris Diamantopo...|  4|        Russi Taylor|\n",
      "|     s1|[Chris Diamantopo...|  5|        Corey Burton|\n",
      "|     s2|[Jim Varney, Noel...|  0|          Jim Varney|\n",
      "|     s2|[Jim Varney, Noel...|  1|       Noelle Parker|\n",
      "|     s2|[Jim Varney, Noel...|  2|       Douglas Seale|\n",
      "|     s3|[Raymond Albert R...|  0|Raymond Albert Ro...|\n",
      "|     s3|[Raymond Albert R...|  1|      John Leguizamo|\n",
      "|     s3|[Raymond Albert R...|  2|         Denis Leary|\n",
      "|     s3|[Raymond Albert R...|  3|       Queen Latifah|\n",
      "|     s4|[Darren Criss, Ad...|  0|        Darren Criss|\n",
      "|     s4|[Darren Criss, Ad...|  1|        Adam Lambert|\n",
      "|     s4|[Darren Criss, Ad...|  2|         Derek Hough|\n",
      "|     s4|[Darren Criss, Ad...|  3|      Alexander Jean|\n",
      "|     s4|[Darren Criss, Ad...|  4|        Fall Out Boy|\n",
      "|     s4|[Darren Criss, Ad...|  5|        Jimmie Allen|\n",
      "|     s5|[John Lennon, Pau...|  0|         John Lennon|\n",
      "+-------+--------------------+---+--------------------+\n",
      "only showing top 20 rows\n",
      "\n"
     ]
    }
   ],
   "source": [
    "df.select(\n",
    "        \"show_id\",\n",
    "        f.split(\"cast\", \", \").alias(\"film_cast\"),\n",
    "        f.posexplode(f.split(\"cast\", \", \")).alias(\"pos\", \"val\")\n",
    "    )\\\n",
    "    .show()"
   ]
  },
  {
   "cell_type": "code",
   "execution_count": 181,
   "id": "ffbd12d1",
   "metadata": {},
   "outputs": [
    {
     "name": "stdout",
     "output_type": "stream",
     "text": [
      "+-------+--------------------+---+--------------------+\n",
      "|show_id|           film_cast|pos|                 val|\n",
      "+-------+--------------------+---+--------------------+\n",
      "|     s1|[Chris Diamantopo...|  0|Chris Diamantopoulos|\n",
      "|     s1|[Chris Diamantopo...|  1|        Tony Anselmo|\n",
      "|     s1|[Chris Diamantopo...|  2|     Tress MacNeille|\n",
      "|     s1|[Chris Diamantopo...|  3|         Bill Farmer|\n",
      "|     s1|[Chris Diamantopo...|  4|        Russi Taylor|\n",
      "|     s1|[Chris Diamantopo...|  5|        Corey Burton|\n",
      "|     s2|[Jim Varney, Noel...|  0|          Jim Varney|\n",
      "|     s2|[Jim Varney, Noel...|  1|       Noelle Parker|\n",
      "|     s2|[Jim Varney, Noel...|  2|       Douglas Seale|\n",
      "|     s3|[Raymond Albert R...|  0|Raymond Albert Ro...|\n",
      "|     s3|[Raymond Albert R...|  1|      John Leguizamo|\n",
      "|     s3|[Raymond Albert R...|  2|         Denis Leary|\n",
      "|     s3|[Raymond Albert R...|  3|       Queen Latifah|\n",
      "|     s4|[Darren Criss, Ad...|  0|        Darren Criss|\n",
      "|     s4|[Darren Criss, Ad...|  1|        Adam Lambert|\n",
      "|     s4|[Darren Criss, Ad...|  2|         Derek Hough|\n",
      "|     s4|[Darren Criss, Ad...|  3|      Alexander Jean|\n",
      "|     s4|[Darren Criss, Ad...|  4|        Fall Out Boy|\n",
      "|     s4|[Darren Criss, Ad...|  5|        Jimmie Allen|\n",
      "|     s5|[John Lennon, Pau...|  0|         John Lennon|\n",
      "+-------+--------------------+---+--------------------+\n",
      "only showing top 20 rows\n",
      "\n",
      "+--------------------+---+\n",
      "|                 val| ct|\n",
      "+--------------------+---+\n",
      "|        Russi Taylor|  2|\n",
      "|         Bill Farmer|  2|\n",
      "|       Chris Massaro|  2|\n",
      "|       Tiffany Burns|  2|\n",
      "|          Mike Burns|  2|\n",
      "|        Dr. Ray Ball|  2|\n",
      "|     Tress MacNeille|  2|\n",
      "|   Jack Dylan Grazer|  2|\n",
      "|        Idina Menzel|  2|\n",
      "|            Josh Gad|  2|\n",
      "|           Will Ryan|  2|\n",
      "|       Kari Wahlgren|  2|\n",
      "| Larry the Cable Guy|  2|\n",
      "|          Mike Dopud|  2|\n",
      "|      Diedrich Bader|  2|\n",
      "|  Melinda Mendolusky|  2|\n",
      "|         Pete Docter|  2|\n",
      "|    Dr. Lauren Smith|  2|\n",
      "|Chris Diamantopoulos|  1|\n",
      "|        Tony Anselmo|  1|\n",
      "+--------------------+---+\n",
      "only showing top 20 rows\n",
      "\n"
     ]
    }
   ],
   "source": [
    "df1 = df.limit(60).select(\n",
    "        \"show_id\",\n",
    "        f.split(\"cast\", \", \").alias(\"film_cast\"),\n",
    "        f.posexplode(f.split(\"cast\", \", \")).alias(\"pos\", \"val\"))\n",
    "#     ).drop(\"val\").select(\n",
    "#         \"show_id\",\n",
    "#         f.concat(f.lit(\"cast\"),f.col(\"pos\").cast(\"string\")).alias(\"name\"),\n",
    "#         f.expr(\"film_cast[pos]\").alias(\"val\")\n",
    "#     )\\\n",
    "#     .groupBy(\"show_id\").pivot(\"name\").agg(f.first(\"val\")).show()\n",
    "df1.show()\n",
    "df1.createOrReplaceTempView(\"df_films_cast\")\n",
    "spark.sql(\"\"\"select val,count(*) as ct from df_films_cast where val != \"\" group by val order by ct desc \"\"\").show()\n",
    "    "
   ]
  },
  {
   "cell_type": "code",
   "execution_count": 112,
   "id": "e1d03330",
   "metadata": {},
   "outputs": [],
   "source": [
    "from pyspark.sql.functions import col"
   ]
  },
  {
   "cell_type": "code",
   "execution_count": 129,
   "id": "617b8fc4",
   "metadata": {},
   "outputs": [
    {
     "name": "stdout",
     "output_type": "stream",
     "text": [
      "+--------------------+\n",
      "|                cast|\n",
      "+--------------------+\n",
      "|Chris Diamantopou...|\n",
      "|John Barrowman, A...|\n",
      "|Raven-Symoné , Is...|\n",
      "|Harland Williams,...|\n",
      "|           Mike Rowe|\n",
      "|Andy Milonakis, J...|\n",
      "|Cody Veith, Bryce...|\n",
      "|Eva Green, Asa Bu...|\n",
      "|                    |\n",
      "|   Neil Hammerschlag|\n",
      "|                    |\n",
      "|Taraji Henson, Oc...|\n",
      "|Johnny Depp, Anne...|\n",
      "|Charlie Engelman,...|\n",
      "|                    |\n",
      "|         Paul McGann|\n",
      "|James McAvoy, Mic...|\n",
      "|     Dr. Brian Beale|\n",
      "|Ray Romano, John ...|\n",
      "|      Dominic Frisby|\n",
      "+--------------------+\n",
      "only showing top 20 rows\n",
      "\n"
     ]
    }
   ],
   "source": [
    "\n",
    "df.createOrReplaceTempView(\"films\")\n",
    "spark.sql(\"\"\"select cast from films where release_year = 2016\"\"\").show()\n"
   ]
  },
  {
   "cell_type": "code",
   "execution_count": null,
   "id": "7b130cc0",
   "metadata": {},
   "outputs": [],
   "source": [
    "df.createOrReplaceTempView(\"films\")\n",
    "spark.sql(\"\"\"select show_id from films where release_year = 2016\"\"\").show()"
   ]
  },
  {
   "cell_type": "code",
   "execution_count": null,
   "id": "a53b8752",
   "metadata": {},
   "outputs": [],
   "source": []
  },
  {
   "cell_type": "code",
   "execution_count": null,
   "id": "8002712f",
   "metadata": {},
   "outputs": [],
   "source": [
    "## json read in python"
   ]
  },
  {
   "cell_type": "code",
   "execution_count": 177,
   "id": "4931cf04",
   "metadata": {},
   "outputs": [
    {
     "name": "stdout",
     "output_type": "stream",
     "text": [
      "Chris Diamantopoulos\n",
      " Tony Anselmo\n",
      " Tress MacNeille\n",
      " Bill Farmer\n",
      " Russi Taylor\n",
      " Corey Burton\n",
      "{'Chris Diamantopoulos': 1, ' Tony Anselmo': 1, ' Tress MacNeille': 1, ' Bill Farmer': 1, ' Russi Taylor': 1, ' Corey Burton': 1}\n",
      "Jim Varney\n",
      " Noelle Parker\n",
      " Douglas Seale\n",
      "{'Chris Diamantopoulos': 1, ' Tony Anselmo': 1, ' Tress MacNeille': 1, ' Bill Farmer': 1, ' Russi Taylor': 1, ' Corey Burton': 1, 'Jim Varney': 1, ' Noelle Parker': 1, ' Douglas Seale': 1}\n",
      "Raymond Albert Romano\n",
      " John Leguizamo\n",
      " Denis Leary\n",
      " Queen Latifah\n",
      "{'Chris Diamantopoulos': 1, ' Tony Anselmo': 1, ' Tress MacNeille': 1, ' Bill Farmer': 1, ' Russi Taylor': 1, ' Corey Burton': 1, 'Jim Varney': 1, ' Noelle Parker': 1, ' Douglas Seale': 1, 'Raymond Albert Romano': 1, ' John Leguizamo': 1, ' Denis Leary': 1, ' Queen Latifah': 1}\n",
      "Darren Criss\n",
      " Adam Lambert\n",
      " Derek Hough\n",
      " Alexander Jean\n",
      " Fall Out Boy\n",
      " Jimmie Allen\n",
      "{'Chris Diamantopoulos': 1, ' Tony Anselmo': 1, ' Tress MacNeille': 1, ' Bill Farmer': 1, ' Russi Taylor': 1, ' Corey Burton': 1, 'Jim Varney': 1, ' Noelle Parker': 1, ' Douglas Seale': 1, 'Raymond Albert Romano': 1, ' John Leguizamo': 1, ' Denis Leary': 1, ' Queen Latifah': 1, 'Darren Criss': 1, ' Adam Lambert': 1, ' Derek Hough': 1, ' Alexander Jean': 1, ' Fall Out Boy': 1, ' Jimmie Allen': 1}\n",
      "John Lennon\n",
      " Paul McCartney\n",
      " George Harrison\n",
      " Ringo Starr\n",
      "{'Chris Diamantopoulos': 1, ' Tony Anselmo': 1, ' Tress MacNeille': 1, ' Bill Farmer': 1, ' Russi Taylor': 1, ' Corey Burton': 1, 'Jim Varney': 1, ' Noelle Parker': 1, ' Douglas Seale': 1, 'Raymond Albert Romano': 1, ' John Leguizamo': 1, ' Denis Leary': 1, ' Queen Latifah': 1, 'Darren Criss': 1, ' Adam Lambert': 1, ' Derek Hough': 1, ' Alexander Jean': 1, ' Fall Out Boy': 1, ' Jimmie Allen': 1, 'John Lennon': 1, ' Paul McCartney': 1, ' George Harrison': 1, ' Ringo Starr': 1}\n",
      "Jacques Yves Cousteau\n",
      " Vincent Cassel\n",
      "{'Chris Diamantopoulos': 1, ' Tony Anselmo': 1, ' Tress MacNeille': 1, ' Bill Farmer': 1, ' Russi Taylor': 1, ' Corey Burton': 1, 'Jim Varney': 1, ' Noelle Parker': 1, ' Douglas Seale': 1, 'Raymond Albert Romano': 1, ' John Leguizamo': 1, ' Denis Leary': 1, ' Queen Latifah': 1, 'Darren Criss': 1, ' Adam Lambert': 1, ' Derek Hough': 1, ' Alexander Jean': 1, ' Fall Out Boy': 1, ' Jimmie Allen': 1, 'John Lennon': 1, ' Paul McCartney': 1, ' George Harrison': 1, ' Ringo Starr': 1, 'Jacques Yves Cousteau': 1, ' Vincent Cassel': 1}\n",
      "Jeremy Renner\n",
      " Hailee Steinfeld\n",
      " Vera Farmiga\n",
      " Fra Fee\n",
      " Tony Dalton\n",
      " Zahn McClarnon\n",
      "{'Chris Diamantopoulos': 1, ' Tony Anselmo': 1, ' Tress MacNeille': 1, ' Bill Farmer': 1, ' Russi Taylor': 1, ' Corey Burton': 1, 'Jim Varney': 1, ' Noelle Parker': 1, ' Douglas Seale': 1, 'Raymond Albert Romano': 1, ' John Leguizamo': 1, ' Denis Leary': 1, ' Queen Latifah': 1, 'Darren Criss': 1, ' Adam Lambert': 1, ' Derek Hough': 1, ' Alexander Jean': 1, ' Fall Out Boy': 1, ' Jimmie Allen': 1, 'John Lennon': 1, ' Paul McCartney': 1, ' George Harrison': 1, ' Ringo Starr': 1, 'Jacques Yves Cousteau': 1, ' Vincent Cassel': 1, 'Jeremy Renner': 1, ' Hailee Steinfeld': 1, ' Vera Farmiga': 1, ' Fra Fee': 1, ' Tony Dalton': 1, ' Zahn McClarnon': 1}\n",
      "Gary Muehlberger\n",
      " Mary Miller\n",
      " Curly Leach\n",
      " Sam Carlson\n",
      " Stuart Andrews\n",
      " David Squibb\n",
      "{'Chris Diamantopoulos': 1, ' Tony Anselmo': 1, ' Tress MacNeille': 1, ' Bill Farmer': 1, ' Russi Taylor': 1, ' Corey Burton': 1, 'Jim Varney': 1, ' Noelle Parker': 1, ' Douglas Seale': 1, 'Raymond Albert Romano': 1, ' John Leguizamo': 1, ' Denis Leary': 1, ' Queen Latifah': 1, 'Darren Criss': 1, ' Adam Lambert': 1, ' Derek Hough': 1, ' Alexander Jean': 1, ' Fall Out Boy': 1, ' Jimmie Allen': 1, 'John Lennon': 1, ' Paul McCartney': 1, ' George Harrison': 1, ' Ringo Starr': 1, 'Jacques Yves Cousteau': 1, ' Vincent Cassel': 1, 'Jeremy Renner': 1, ' Hailee Steinfeld': 1, ' Vera Farmiga': 1, ' Fra Fee': 1, ' Tony Dalton': 1, ' Zahn McClarnon': 1, 'Gary Muehlberger': 1, ' Mary Miller': 1, ' Curly Leach': 1, ' Sam Carlson': 1, ' Stuart Andrews': 1, ' David Squibb': 1}\n",
      "Dr. Ray Ball\n",
      " Dr. Lauren Smith\n",
      " Chris Massaro\n",
      " Tiffany Burns\n",
      " Mike Burns\n",
      " Melinda Mendolusky\n",
      "{'Chris Diamantopoulos': 1, ' Tony Anselmo': 1, ' Tress MacNeille': 1, ' Bill Farmer': 1, ' Russi Taylor': 1, ' Corey Burton': 1, 'Jim Varney': 1, ' Noelle Parker': 1, ' Douglas Seale': 1, 'Raymond Albert Romano': 1, ' John Leguizamo': 1, ' Denis Leary': 1, ' Queen Latifah': 1, 'Darren Criss': 1, ' Adam Lambert': 1, ' Derek Hough': 1, ' Alexander Jean': 1, ' Fall Out Boy': 1, ' Jimmie Allen': 1, 'John Lennon': 1, ' Paul McCartney': 1, ' George Harrison': 1, ' Ringo Starr': 1, 'Jacques Yves Cousteau': 1, ' Vincent Cassel': 1, 'Jeremy Renner': 1, ' Hailee Steinfeld': 1, ' Vera Farmiga': 1, ' Fra Fee': 1, ' Tony Dalton': 1, ' Zahn McClarnon': 1, 'Gary Muehlberger': 1, ' Mary Miller': 1, ' Curly Leach': 1, ' Sam Carlson': 1, ' Stuart Andrews': 1, ' David Squibb': 1, 'Dr. Ray Ball': 1, ' Dr. Lauren Smith': 1, ' Chris Massaro': 1, ' Tiffany Burns': 1, ' Mike Burns': 1, ' Melinda Mendolusky': 1}\n",
      "Dr. Ray Ball\n",
      " Dr. Lauren Smith\n",
      " Chris Massaro\n",
      " Tiffany Burns\n",
      " Mike Burns\n",
      " Melinda Mendolusky\n",
      "{'Chris Diamantopoulos': 1, ' Tony Anselmo': 1, ' Tress MacNeille': 1, ' Bill Farmer': 1, ' Russi Taylor': 1, ' Corey Burton': 1, 'Jim Varney': 1, ' Noelle Parker': 1, ' Douglas Seale': 1, 'Raymond Albert Romano': 1, ' John Leguizamo': 1, ' Denis Leary': 1, ' Queen Latifah': 1, 'Darren Criss': 1, ' Adam Lambert': 1, ' Derek Hough': 1, ' Alexander Jean': 1, ' Fall Out Boy': 1, ' Jimmie Allen': 1, 'John Lennon': 1, ' Paul McCartney': 1, ' George Harrison': 1, ' Ringo Starr': 1, 'Jacques Yves Cousteau': 1, ' Vincent Cassel': 1, 'Jeremy Renner': 1, ' Hailee Steinfeld': 1, ' Vera Farmiga': 1, ' Fra Fee': 1, ' Tony Dalton': 1, ' Zahn McClarnon': 1, 'Gary Muehlberger': 1, ' Mary Miller': 1, ' Curly Leach': 1, ' Sam Carlson': 1, ' Stuart Andrews': 1, ' David Squibb': 1, 'Dr. Ray Ball': 2, ' Dr. Lauren Smith': 2, ' Chris Massaro': 2, ' Tiffany Burns': 2, ' Mike Burns': 2, ' Melinda Mendolusky': 2}\n",
      "Don Hahn\n",
      " Kathryn Beaumont\n",
      " Pete Docter\n",
      " Kevin Feige\n",
      " Mark Hamill\n",
      " Bob Iger\n",
      "{'Chris Diamantopoulos': 1, ' Tony Anselmo': 1, ' Tress MacNeille': 1, ' Bill Farmer': 1, ' Russi Taylor': 1, ' Corey Burton': 1, 'Jim Varney': 1, ' Noelle Parker': 1, ' Douglas Seale': 1, 'Raymond Albert Romano': 1, ' John Leguizamo': 1, ' Denis Leary': 1, ' Queen Latifah': 1, 'Darren Criss': 1, ' Adam Lambert': 1, ' Derek Hough': 1, ' Alexander Jean': 1, ' Fall Out Boy': 1, ' Jimmie Allen': 1, 'John Lennon': 1, ' Paul McCartney': 1, ' George Harrison': 1, ' Ringo Starr': 1, 'Jacques Yves Cousteau': 1, ' Vincent Cassel': 1, 'Jeremy Renner': 1, ' Hailee Steinfeld': 1, ' Vera Farmiga': 1, ' Fra Fee': 1, ' Tony Dalton': 1, ' Zahn McClarnon': 1, 'Gary Muehlberger': 1, ' Mary Miller': 1, ' Curly Leach': 1, ' Sam Carlson': 1, ' Stuart Andrews': 1, ' David Squibb': 1, 'Dr. Ray Ball': 2, ' Dr. Lauren Smith': 2, ' Chris Massaro': 2, ' Tiffany Burns': 2, ' Mike Burns': 2, ' Melinda Mendolusky': 2, 'Don Hahn': 1, ' Kathryn Beaumont': 1, ' Pete Docter': 1, ' Kevin Feige': 1, ' Mark Hamill': 1, ' Bob Iger': 1}\n",
      "\n",
      "{'Chris Diamantopoulos': 1, ' Tony Anselmo': 1, ' Tress MacNeille': 1, ' Bill Farmer': 1, ' Russi Taylor': 1, ' Corey Burton': 1, 'Jim Varney': 1, ' Noelle Parker': 1, ' Douglas Seale': 1, 'Raymond Albert Romano': 1, ' John Leguizamo': 1, ' Denis Leary': 1, ' Queen Latifah': 1, 'Darren Criss': 1, ' Adam Lambert': 1, ' Derek Hough': 1, ' Alexander Jean': 1, ' Fall Out Boy': 1, ' Jimmie Allen': 1, 'John Lennon': 1, ' Paul McCartney': 1, ' George Harrison': 1, ' Ringo Starr': 1, 'Jacques Yves Cousteau': 1, ' Vincent Cassel': 1, 'Jeremy Renner': 1, ' Hailee Steinfeld': 1, ' Vera Farmiga': 1, ' Fra Fee': 1, ' Tony Dalton': 1, ' Zahn McClarnon': 1, 'Gary Muehlberger': 1, ' Mary Miller': 1, ' Curly Leach': 1, ' Sam Carlson': 1, ' Stuart Andrews': 1, ' David Squibb': 1, 'Dr. Ray Ball': 2, ' Dr. Lauren Smith': 2, ' Chris Massaro': 2, ' Tiffany Burns': 2, ' Mike Burns': 2, ' Melinda Mendolusky': 2, 'Don Hahn': 1, ' Kathryn Beaumont': 1, ' Pete Docter': 1, ' Kevin Feige': 1, ' Mark Hamill': 1, ' Bob Iger': 1, '': 1}\n",
      "Stacy Keach\n",
      " John Lasseter\n",
      " Brad Bird\n",
      " John Musker\n",
      " Ron Clements\n",
      " Frank Thomas\n",
      "{'Chris Diamantopoulos': 1, ' Tony Anselmo': 1, ' Tress MacNeille': 1, ' Bill Farmer': 1, ' Russi Taylor': 1, ' Corey Burton': 1, 'Jim Varney': 1, ' Noelle Parker': 1, ' Douglas Seale': 1, 'Raymond Albert Romano': 1, ' John Leguizamo': 1, ' Denis Leary': 1, ' Queen Latifah': 1, 'Darren Criss': 1, ' Adam Lambert': 1, ' Derek Hough': 1, ' Alexander Jean': 1, ' Fall Out Boy': 1, ' Jimmie Allen': 1, 'John Lennon': 1, ' Paul McCartney': 1, ' George Harrison': 1, ' Ringo Starr': 1, 'Jacques Yves Cousteau': 1, ' Vincent Cassel': 1, 'Jeremy Renner': 1, ' Hailee Steinfeld': 1, ' Vera Farmiga': 1, ' Fra Fee': 1, ' Tony Dalton': 1, ' Zahn McClarnon': 1, 'Gary Muehlberger': 1, ' Mary Miller': 1, ' Curly Leach': 1, ' Sam Carlson': 1, ' Stuart Andrews': 1, ' David Squibb': 1, 'Dr. Ray Ball': 2, ' Dr. Lauren Smith': 2, ' Chris Massaro': 2, ' Tiffany Burns': 2, ' Mike Burns': 2, ' Melinda Mendolusky': 2, 'Don Hahn': 1, ' Kathryn Beaumont': 1, ' Pete Docter': 1, ' Kevin Feige': 1, ' Mark Hamill': 1, ' Bob Iger': 1, '': 1, 'Stacy Keach': 1, ' John Lasseter': 1, ' Brad Bird': 1, ' John Musker': 1, ' Ron Clements': 1, ' Frank Thomas': 1}\n",
      "Dr. Michelle Oakley\n",
      " Zachary Fine\n",
      "{'Chris Diamantopoulos': 1, ' Tony Anselmo': 1, ' Tress MacNeille': 1, ' Bill Farmer': 1, ' Russi Taylor': 1, ' Corey Burton': 1, 'Jim Varney': 1, ' Noelle Parker': 1, ' Douglas Seale': 1, 'Raymond Albert Romano': 1, ' John Leguizamo': 1, ' Denis Leary': 1, ' Queen Latifah': 1, 'Darren Criss': 1, ' Adam Lambert': 1, ' Derek Hough': 1, ' Alexander Jean': 1, ' Fall Out Boy': 1, ' Jimmie Allen': 1, 'John Lennon': 1, ' Paul McCartney': 1, ' George Harrison': 1, ' Ringo Starr': 1, 'Jacques Yves Cousteau': 1, ' Vincent Cassel': 1, 'Jeremy Renner': 1, ' Hailee Steinfeld': 1, ' Vera Farmiga': 1, ' Fra Fee': 1, ' Tony Dalton': 1, ' Zahn McClarnon': 1, 'Gary Muehlberger': 1, ' Mary Miller': 1, ' Curly Leach': 1, ' Sam Carlson': 1, ' Stuart Andrews': 1, ' David Squibb': 1, 'Dr. Ray Ball': 2, ' Dr. Lauren Smith': 2, ' Chris Massaro': 2, ' Tiffany Burns': 2, ' Mike Burns': 2, ' Melinda Mendolusky': 2, 'Don Hahn': 1, ' Kathryn Beaumont': 1, ' Pete Docter': 1, ' Kevin Feige': 1, ' Mark Hamill': 1, ' Bob Iger': 1, '': 1, 'Stacy Keach': 1, ' John Lasseter': 1, ' Brad Bird': 1, ' John Musker': 1, ' Ron Clements': 1, ' Frank Thomas': 1, 'Dr. Michelle Oakley': 1, ' Zachary Fine': 1}\n",
      "Michael B. Jordan\n",
      "{'Chris Diamantopoulos': 1, ' Tony Anselmo': 1, ' Tress MacNeille': 1, ' Bill Farmer': 1, ' Russi Taylor': 1, ' Corey Burton': 1, 'Jim Varney': 1, ' Noelle Parker': 1, ' Douglas Seale': 1, 'Raymond Albert Romano': 1, ' John Leguizamo': 1, ' Denis Leary': 1, ' Queen Latifah': 1, 'Darren Criss': 1, ' Adam Lambert': 1, ' Derek Hough': 1, ' Alexander Jean': 1, ' Fall Out Boy': 1, ' Jimmie Allen': 1, 'John Lennon': 1, ' Paul McCartney': 1, ' George Harrison': 1, ' Ringo Starr': 1, 'Jacques Yves Cousteau': 1, ' Vincent Cassel': 1, 'Jeremy Renner': 1, ' Hailee Steinfeld': 1, ' Vera Farmiga': 1, ' Fra Fee': 1, ' Tony Dalton': 1, ' Zahn McClarnon': 1, 'Gary Muehlberger': 1, ' Mary Miller': 1, ' Curly Leach': 1, ' Sam Carlson': 1, ' Stuart Andrews': 1, ' David Squibb': 1, 'Dr. Ray Ball': 2, ' Dr. Lauren Smith': 2, ' Chris Massaro': 2, ' Tiffany Burns': 2, ' Mike Burns': 2, ' Melinda Mendolusky': 2, 'Don Hahn': 1, ' Kathryn Beaumont': 1, ' Pete Docter': 1, ' Kevin Feige': 1, ' Mark Hamill': 1, ' Bob Iger': 1, '': 1, 'Stacy Keach': 1, ' John Lasseter': 1, ' Brad Bird': 1, ' John Musker': 1, ' Ron Clements': 1, ' Frank Thomas': 1, 'Dr. Michelle Oakley': 1, ' Zachary Fine': 1, 'Michael B. Jordan': 1}\n",
      "\n",
      "{'Chris Diamantopoulos': 1, ' Tony Anselmo': 1, ' Tress MacNeille': 1, ' Bill Farmer': 1, ' Russi Taylor': 1, ' Corey Burton': 1, 'Jim Varney': 1, ' Noelle Parker': 1, ' Douglas Seale': 1, 'Raymond Albert Romano': 1, ' John Leguizamo': 1, ' Denis Leary': 1, ' Queen Latifah': 1, 'Darren Criss': 1, ' Adam Lambert': 1, ' Derek Hough': 1, ' Alexander Jean': 1, ' Fall Out Boy': 1, ' Jimmie Allen': 1, 'John Lennon': 1, ' Paul McCartney': 1, ' George Harrison': 1, ' Ringo Starr': 1, 'Jacques Yves Cousteau': 1, ' Vincent Cassel': 1, 'Jeremy Renner': 1, ' Hailee Steinfeld': 1, ' Vera Farmiga': 1, ' Fra Fee': 1, ' Tony Dalton': 1, ' Zahn McClarnon': 1, 'Gary Muehlberger': 1, ' Mary Miller': 1, ' Curly Leach': 1, ' Sam Carlson': 1, ' Stuart Andrews': 1, ' David Squibb': 1, 'Dr. Ray Ball': 2, ' Dr. Lauren Smith': 2, ' Chris Massaro': 2, ' Tiffany Burns': 2, ' Mike Burns': 2, ' Melinda Mendolusky': 2, 'Don Hahn': 1, ' Kathryn Beaumont': 1, ' Pete Docter': 1, ' Kevin Feige': 1, ' Mark Hamill': 1, ' Bob Iger': 1, '': 2, 'Stacy Keach': 1, ' John Lasseter': 1, ' Brad Bird': 1, ' John Musker': 1, ' Ron Clements': 1, ' Frank Thomas': 1, 'Dr. Michelle Oakley': 1, ' Zachary Fine': 1, 'Michael B. Jordan': 1}\n",
      "Jack Dylan Grazer\n",
      " Marco Barricelli\n",
      "{'Chris Diamantopoulos': 1, ' Tony Anselmo': 1, ' Tress MacNeille': 1, ' Bill Farmer': 1, ' Russi Taylor': 1, ' Corey Burton': 1, 'Jim Varney': 1, ' Noelle Parker': 1, ' Douglas Seale': 1, 'Raymond Albert Romano': 1, ' John Leguizamo': 1, ' Denis Leary': 1, ' Queen Latifah': 1, 'Darren Criss': 1, ' Adam Lambert': 1, ' Derek Hough': 1, ' Alexander Jean': 1, ' Fall Out Boy': 1, ' Jimmie Allen': 1, 'John Lennon': 1, ' Paul McCartney': 1, ' George Harrison': 1, ' Ringo Starr': 1, 'Jacques Yves Cousteau': 1, ' Vincent Cassel': 1, 'Jeremy Renner': 1, ' Hailee Steinfeld': 1, ' Vera Farmiga': 1, ' Fra Fee': 1, ' Tony Dalton': 1, ' Zahn McClarnon': 1, 'Gary Muehlberger': 1, ' Mary Miller': 1, ' Curly Leach': 1, ' Sam Carlson': 1, ' Stuart Andrews': 1, ' David Squibb': 1, 'Dr. Ray Ball': 2, ' Dr. Lauren Smith': 2, ' Chris Massaro': 2, ' Tiffany Burns': 2, ' Mike Burns': 2, ' Melinda Mendolusky': 2, 'Don Hahn': 1, ' Kathryn Beaumont': 1, ' Pete Docter': 1, ' Kevin Feige': 1, ' Mark Hamill': 1, ' Bob Iger': 1, '': 2, 'Stacy Keach': 1, ' John Lasseter': 1, ' Brad Bird': 1, ' John Musker': 1, ' Ron Clements': 1, ' Frank Thomas': 1, 'Dr. Michelle Oakley': 1, ' Zachary Fine': 1, 'Michael B. Jordan': 1, 'Jack Dylan Grazer': 1, ' Marco Barricelli': 1}\n",
      "Mia Jenness\n",
      " Alyson Hannigan\n",
      " Rob Riggle\n",
      " Spencer Moss\n",
      " Dana Heath\n",
      "{'Chris Diamantopoulos': 1, ' Tony Anselmo': 1, ' Tress MacNeille': 1, ' Bill Farmer': 1, ' Russi Taylor': 1, ' Corey Burton': 1, 'Jim Varney': 1, ' Noelle Parker': 1, ' Douglas Seale': 1, 'Raymond Albert Romano': 1, ' John Leguizamo': 1, ' Denis Leary': 1, ' Queen Latifah': 1, 'Darren Criss': 1, ' Adam Lambert': 1, ' Derek Hough': 1, ' Alexander Jean': 1, ' Fall Out Boy': 1, ' Jimmie Allen': 1, 'John Lennon': 1, ' Paul McCartney': 1, ' George Harrison': 1, ' Ringo Starr': 1, 'Jacques Yves Cousteau': 1, ' Vincent Cassel': 1, 'Jeremy Renner': 1, ' Hailee Steinfeld': 1, ' Vera Farmiga': 1, ' Fra Fee': 1, ' Tony Dalton': 1, ' Zahn McClarnon': 1, 'Gary Muehlberger': 1, ' Mary Miller': 1, ' Curly Leach': 1, ' Sam Carlson': 1, ' Stuart Andrews': 1, ' David Squibb': 1, 'Dr. Ray Ball': 2, ' Dr. Lauren Smith': 2, ' Chris Massaro': 2, ' Tiffany Burns': 2, ' Mike Burns': 2, ' Melinda Mendolusky': 2, 'Don Hahn': 1, ' Kathryn Beaumont': 1, ' Pete Docter': 1, ' Kevin Feige': 1, ' Mark Hamill': 1, ' Bob Iger': 1, '': 2, 'Stacy Keach': 1, ' John Lasseter': 1, ' Brad Bird': 1, ' John Musker': 1, ' Ron Clements': 1, ' Frank Thomas': 1, 'Dr. Michelle Oakley': 1, ' Zachary Fine': 1, 'Michael B. Jordan': 1, 'Jack Dylan Grazer': 1, ' Marco Barricelli': 1, 'Mia Jenness': 1, ' Alyson Hannigan': 1, ' Rob Riggle': 1, ' Spencer Moss': 1, ' Dana Heath': 1}\n",
      "Carolina Domenech\n",
      " José Jiménez Zapiola\n",
      " Kevsho\n",
      " Elena Roger\n",
      " Clara Alonso\n",
      " Emilia Mernes\n",
      "{'Chris Diamantopoulos': 1, ' Tony Anselmo': 1, ' Tress MacNeille': 1, ' Bill Farmer': 1, ' Russi Taylor': 1, ' Corey Burton': 1, 'Jim Varney': 1, ' Noelle Parker': 1, ' Douglas Seale': 1, 'Raymond Albert Romano': 1, ' John Leguizamo': 1, ' Denis Leary': 1, ' Queen Latifah': 1, 'Darren Criss': 1, ' Adam Lambert': 1, ' Derek Hough': 1, ' Alexander Jean': 1, ' Fall Out Boy': 1, ' Jimmie Allen': 1, 'John Lennon': 1, ' Paul McCartney': 1, ' George Harrison': 1, ' Ringo Starr': 1, 'Jacques Yves Cousteau': 1, ' Vincent Cassel': 1, 'Jeremy Renner': 1, ' Hailee Steinfeld': 1, ' Vera Farmiga': 1, ' Fra Fee': 1, ' Tony Dalton': 1, ' Zahn McClarnon': 1, 'Gary Muehlberger': 1, ' Mary Miller': 1, ' Curly Leach': 1, ' Sam Carlson': 1, ' Stuart Andrews': 1, ' David Squibb': 1, 'Dr. Ray Ball': 2, ' Dr. Lauren Smith': 2, ' Chris Massaro': 2, ' Tiffany Burns': 2, ' Mike Burns': 2, ' Melinda Mendolusky': 2, 'Don Hahn': 1, ' Kathryn Beaumont': 1, ' Pete Docter': 1, ' Kevin Feige': 1, ' Mark Hamill': 1, ' Bob Iger': 1, '': 2, 'Stacy Keach': 1, ' John Lasseter': 1, ' Brad Bird': 1, ' John Musker': 1, ' Ron Clements': 1, ' Frank Thomas': 1, 'Dr. Michelle Oakley': 1, ' Zachary Fine': 1, 'Michael B. Jordan': 1, 'Jack Dylan Grazer': 1, ' Marco Barricelli': 1, 'Mia Jenness': 1, ' Alyson Hannigan': 1, ' Rob Riggle': 1, ' Spencer Moss': 1, ' Dana Heath': 1, 'Carolina Domenech': 1, ' José Jiménez Zapiola': 1, ' Kevsho': 1, ' Elena Roger': 1, ' Clara Alonso': 1, ' Emilia Mernes': 1}\n",
      "Amy Adams\n",
      " Patrick Dempsey\n",
      " James Marsden\n",
      " Timothy Spall\n",
      " Idina Menzel\n",
      " Susan Sarandon\n",
      "{'Chris Diamantopoulos': 1, ' Tony Anselmo': 1, ' Tress MacNeille': 1, ' Bill Farmer': 1, ' Russi Taylor': 1, ' Corey Burton': 1, 'Jim Varney': 1, ' Noelle Parker': 1, ' Douglas Seale': 1, 'Raymond Albert Romano': 1, ' John Leguizamo': 1, ' Denis Leary': 1, ' Queen Latifah': 1, 'Darren Criss': 1, ' Adam Lambert': 1, ' Derek Hough': 1, ' Alexander Jean': 1, ' Fall Out Boy': 1, ' Jimmie Allen': 1, 'John Lennon': 1, ' Paul McCartney': 1, ' George Harrison': 1, ' Ringo Starr': 1, 'Jacques Yves Cousteau': 1, ' Vincent Cassel': 1, 'Jeremy Renner': 1, ' Hailee Steinfeld': 1, ' Vera Farmiga': 1, ' Fra Fee': 1, ' Tony Dalton': 1, ' Zahn McClarnon': 1, 'Gary Muehlberger': 1, ' Mary Miller': 1, ' Curly Leach': 1, ' Sam Carlson': 1, ' Stuart Andrews': 1, ' David Squibb': 1, 'Dr. Ray Ball': 2, ' Dr. Lauren Smith': 2, ' Chris Massaro': 2, ' Tiffany Burns': 2, ' Mike Burns': 2, ' Melinda Mendolusky': 2, 'Don Hahn': 1, ' Kathryn Beaumont': 1, ' Pete Docter': 1, ' Kevin Feige': 1, ' Mark Hamill': 1, ' Bob Iger': 1, '': 2, 'Stacy Keach': 1, ' John Lasseter': 1, ' Brad Bird': 1, ' John Musker': 1, ' Ron Clements': 1, ' Frank Thomas': 1, 'Dr. Michelle Oakley': 1, ' Zachary Fine': 1, 'Michael B. Jordan': 1, 'Jack Dylan Grazer': 1, ' Marco Barricelli': 1, 'Mia Jenness': 1, ' Alyson Hannigan': 1, ' Rob Riggle': 1, ' Spencer Moss': 1, ' Dana Heath': 1, 'Carolina Domenech': 1, ' José Jiménez Zapiola': 1, ' Kevsho': 1, ' Elena Roger': 1, ' Clara Alonso': 1, ' Emilia Mernes': 1, 'Amy Adams': 1, ' Patrick Dempsey': 1, ' James Marsden': 1, ' Timothy Spall': 1, ' Idina Menzel': 1, ' Susan Sarandon': 1}\n",
      "Stephen Apostolina\n",
      " Kirk Baily\n",
      " Ben Bledsoe\n",
      " David Cowgill\n",
      " Terri Douglas\n",
      " Fuschia!\n",
      "{'Chris Diamantopoulos': 1, ' Tony Anselmo': 1, ' Tress MacNeille': 1, ' Bill Farmer': 1, ' Russi Taylor': 1, ' Corey Burton': 1, 'Jim Varney': 1, ' Noelle Parker': 1, ' Douglas Seale': 1, 'Raymond Albert Romano': 1, ' John Leguizamo': 1, ' Denis Leary': 1, ' Queen Latifah': 1, 'Darren Criss': 1, ' Adam Lambert': 1, ' Derek Hough': 1, ' Alexander Jean': 1, ' Fall Out Boy': 1, ' Jimmie Allen': 1, 'John Lennon': 1, ' Paul McCartney': 1, ' George Harrison': 1, ' Ringo Starr': 1, 'Jacques Yves Cousteau': 1, ' Vincent Cassel': 1, 'Jeremy Renner': 1, ' Hailee Steinfeld': 1, ' Vera Farmiga': 1, ' Fra Fee': 1, ' Tony Dalton': 1, ' Zahn McClarnon': 1, 'Gary Muehlberger': 1, ' Mary Miller': 1, ' Curly Leach': 1, ' Sam Carlson': 1, ' Stuart Andrews': 1, ' David Squibb': 1, 'Dr. Ray Ball': 2, ' Dr. Lauren Smith': 2, ' Chris Massaro': 2, ' Tiffany Burns': 2, ' Mike Burns': 2, ' Melinda Mendolusky': 2, 'Don Hahn': 1, ' Kathryn Beaumont': 1, ' Pete Docter': 1, ' Kevin Feige': 1, ' Mark Hamill': 1, ' Bob Iger': 1, '': 2, 'Stacy Keach': 1, ' John Lasseter': 1, ' Brad Bird': 1, ' John Musker': 1, ' Ron Clements': 1, ' Frank Thomas': 1, 'Dr. Michelle Oakley': 1, ' Zachary Fine': 1, 'Michael B. Jordan': 1, 'Jack Dylan Grazer': 1, ' Marco Barricelli': 1, 'Mia Jenness': 1, ' Alyson Hannigan': 1, ' Rob Riggle': 1, ' Spencer Moss': 1, ' Dana Heath': 1, 'Carolina Domenech': 1, ' José Jiménez Zapiola': 1, ' Kevsho': 1, ' Elena Roger': 1, ' Clara Alonso': 1, ' Emilia Mernes': 1, 'Amy Adams': 1, ' Patrick Dempsey': 1, ' James Marsden': 1, ' Timothy Spall': 1, ' Idina Menzel': 1, ' Susan Sarandon': 1, 'Stephen Apostolina': 1, ' Kirk Baily': 1, ' Ben Bledsoe': 1, ' David Cowgill': 1, ' Terri Douglas': 1, ' Fuschia!': 1}\n",
      "Kristen Bell\n",
      " Idina Menzel\n",
      " Jonathan Groff\n",
      " Josh Gad\n",
      " Santino Fontana\n",
      " Chris Williams\n",
      "{'Chris Diamantopoulos': 1, ' Tony Anselmo': 1, ' Tress MacNeille': 1, ' Bill Farmer': 1, ' Russi Taylor': 1, ' Corey Burton': 1, 'Jim Varney': 1, ' Noelle Parker': 1, ' Douglas Seale': 1, 'Raymond Albert Romano': 1, ' John Leguizamo': 1, ' Denis Leary': 1, ' Queen Latifah': 1, 'Darren Criss': 1, ' Adam Lambert': 1, ' Derek Hough': 1, ' Alexander Jean': 1, ' Fall Out Boy': 1, ' Jimmie Allen': 1, 'John Lennon': 1, ' Paul McCartney': 1, ' George Harrison': 1, ' Ringo Starr': 1, 'Jacques Yves Cousteau': 1, ' Vincent Cassel': 1, 'Jeremy Renner': 1, ' Hailee Steinfeld': 1, ' Vera Farmiga': 1, ' Fra Fee': 1, ' Tony Dalton': 1, ' Zahn McClarnon': 1, 'Gary Muehlberger': 1, ' Mary Miller': 1, ' Curly Leach': 1, ' Sam Carlson': 1, ' Stuart Andrews': 1, ' David Squibb': 1, 'Dr. Ray Ball': 2, ' Dr. Lauren Smith': 2, ' Chris Massaro': 2, ' Tiffany Burns': 2, ' Mike Burns': 2, ' Melinda Mendolusky': 2, 'Don Hahn': 1, ' Kathryn Beaumont': 1, ' Pete Docter': 1, ' Kevin Feige': 1, ' Mark Hamill': 1, ' Bob Iger': 1, '': 2, 'Stacy Keach': 1, ' John Lasseter': 1, ' Brad Bird': 1, ' John Musker': 1, ' Ron Clements': 1, ' Frank Thomas': 1, 'Dr. Michelle Oakley': 1, ' Zachary Fine': 1, 'Michael B. Jordan': 1, 'Jack Dylan Grazer': 1, ' Marco Barricelli': 1, 'Mia Jenness': 1, ' Alyson Hannigan': 1, ' Rob Riggle': 1, ' Spencer Moss': 1, ' Dana Heath': 1, 'Carolina Domenech': 1, ' José Jiménez Zapiola': 1, ' Kevsho': 1, ' Elena Roger': 1, ' Clara Alonso': 1, ' Emilia Mernes': 1, 'Amy Adams': 1, ' Patrick Dempsey': 1, ' James Marsden': 1, ' Timothy Spall': 1, ' Idina Menzel': 2, ' Susan Sarandon': 1, 'Stephen Apostolina': 1, ' Kirk Baily': 1, ' Ben Bledsoe': 1, ' David Cowgill': 1, ' Terri Douglas': 1, ' Fuschia!': 1, 'Kristen Bell': 1, ' Jonathan Groff': 1, ' Josh Gad': 1, ' Santino Fontana': 1, ' Chris Williams': 1}\n",
      "Walt Disney\n",
      " Marcellite Garner\n",
      " Russi Taylor\n",
      " Billy Bletcher\n",
      " Will Ryan\n",
      " Bob Bergen\n",
      "{'Chris Diamantopoulos': 1, ' Tony Anselmo': 1, ' Tress MacNeille': 1, ' Bill Farmer': 1, ' Russi Taylor': 2, ' Corey Burton': 1, 'Jim Varney': 1, ' Noelle Parker': 1, ' Douglas Seale': 1, 'Raymond Albert Romano': 1, ' John Leguizamo': 1, ' Denis Leary': 1, ' Queen Latifah': 1, 'Darren Criss': 1, ' Adam Lambert': 1, ' Derek Hough': 1, ' Alexander Jean': 1, ' Fall Out Boy': 1, ' Jimmie Allen': 1, 'John Lennon': 1, ' Paul McCartney': 1, ' George Harrison': 1, ' Ringo Starr': 1, 'Jacques Yves Cousteau': 1, ' Vincent Cassel': 1, 'Jeremy Renner': 1, ' Hailee Steinfeld': 1, ' Vera Farmiga': 1, ' Fra Fee': 1, ' Tony Dalton': 1, ' Zahn McClarnon': 1, 'Gary Muehlberger': 1, ' Mary Miller': 1, ' Curly Leach': 1, ' Sam Carlson': 1, ' Stuart Andrews': 1, ' David Squibb': 1, 'Dr. Ray Ball': 2, ' Dr. Lauren Smith': 2, ' Chris Massaro': 2, ' Tiffany Burns': 2, ' Mike Burns': 2, ' Melinda Mendolusky': 2, 'Don Hahn': 1, ' Kathryn Beaumont': 1, ' Pete Docter': 1, ' Kevin Feige': 1, ' Mark Hamill': 1, ' Bob Iger': 1, '': 2, 'Stacy Keach': 1, ' John Lasseter': 1, ' Brad Bird': 1, ' John Musker': 1, ' Ron Clements': 1, ' Frank Thomas': 1, 'Dr. Michelle Oakley': 1, ' Zachary Fine': 1, 'Michael B. Jordan': 1, 'Jack Dylan Grazer': 1, ' Marco Barricelli': 1, 'Mia Jenness': 1, ' Alyson Hannigan': 1, ' Rob Riggle': 1, ' Spencer Moss': 1, ' Dana Heath': 1, 'Carolina Domenech': 1, ' José Jiménez Zapiola': 1, ' Kevsho': 1, ' Elena Roger': 1, ' Clara Alonso': 1, ' Emilia Mernes': 1, 'Amy Adams': 1, ' Patrick Dempsey': 1, ' James Marsden': 1, ' Timothy Spall': 1, ' Idina Menzel': 2, ' Susan Sarandon': 1, 'Stephen Apostolina': 1, ' Kirk Baily': 1, ' Ben Bledsoe': 1, ' David Cowgill': 1, ' Terri Douglas': 1, ' Fuschia!': 1, 'Kristen Bell': 1, ' Jonathan Groff': 1, ' Josh Gad': 1, ' Santino Fontana': 1, ' Chris Williams': 1, 'Walt Disney': 1, ' Marcellite Garner': 1, ' Billy Bletcher': 1, ' Will Ryan': 1, ' Bob Bergen': 1}\n",
      "Ellie Kemper\n",
      " Rob Delaney\n",
      " Archie Yates\n",
      " Aisling Bea\n",
      " Kenan Thompson\n",
      " Tim Simons\n",
      "{'Chris Diamantopoulos': 1, ' Tony Anselmo': 1, ' Tress MacNeille': 1, ' Bill Farmer': 1, ' Russi Taylor': 2, ' Corey Burton': 1, 'Jim Varney': 1, ' Noelle Parker': 1, ' Douglas Seale': 1, 'Raymond Albert Romano': 1, ' John Leguizamo': 1, ' Denis Leary': 1, ' Queen Latifah': 1, 'Darren Criss': 1, ' Adam Lambert': 1, ' Derek Hough': 1, ' Alexander Jean': 1, ' Fall Out Boy': 1, ' Jimmie Allen': 1, 'John Lennon': 1, ' Paul McCartney': 1, ' George Harrison': 1, ' Ringo Starr': 1, 'Jacques Yves Cousteau': 1, ' Vincent Cassel': 1, 'Jeremy Renner': 1, ' Hailee Steinfeld': 1, ' Vera Farmiga': 1, ' Fra Fee': 1, ' Tony Dalton': 1, ' Zahn McClarnon': 1, 'Gary Muehlberger': 1, ' Mary Miller': 1, ' Curly Leach': 1, ' Sam Carlson': 1, ' Stuart Andrews': 1, ' David Squibb': 1, 'Dr. Ray Ball': 2, ' Dr. Lauren Smith': 2, ' Chris Massaro': 2, ' Tiffany Burns': 2, ' Mike Burns': 2, ' Melinda Mendolusky': 2, 'Don Hahn': 1, ' Kathryn Beaumont': 1, ' Pete Docter': 1, ' Kevin Feige': 1, ' Mark Hamill': 1, ' Bob Iger': 1, '': 2, 'Stacy Keach': 1, ' John Lasseter': 1, ' Brad Bird': 1, ' John Musker': 1, ' Ron Clements': 1, ' Frank Thomas': 1, 'Dr. Michelle Oakley': 1, ' Zachary Fine': 1, 'Michael B. Jordan': 1, 'Jack Dylan Grazer': 1, ' Marco Barricelli': 1, 'Mia Jenness': 1, ' Alyson Hannigan': 1, ' Rob Riggle': 1, ' Spencer Moss': 1, ' Dana Heath': 1, 'Carolina Domenech': 1, ' José Jiménez Zapiola': 1, ' Kevsho': 1, ' Elena Roger': 1, ' Clara Alonso': 1, ' Emilia Mernes': 1, 'Amy Adams': 1, ' Patrick Dempsey': 1, ' James Marsden': 1, ' Timothy Spall': 1, ' Idina Menzel': 2, ' Susan Sarandon': 1, 'Stephen Apostolina': 1, ' Kirk Baily': 1, ' Ben Bledsoe': 1, ' David Cowgill': 1, ' Terri Douglas': 1, ' Fuschia!': 1, 'Kristen Bell': 1, ' Jonathan Groff': 1, ' Josh Gad': 1, ' Santino Fontana': 1, ' Chris Williams': 1, 'Walt Disney': 1, ' Marcellite Garner': 1, ' Billy Bletcher': 1, ' Will Ryan': 1, ' Bob Bergen': 1, 'Ellie Kemper': 1, ' Rob Delaney': 1, ' Archie Yates': 1, ' Aisling Bea': 1, ' Kenan Thompson': 1, ' Tim Simons': 1}\n",
      "Dwayne Johnson\n",
      " Emily Blunt\n",
      " Edgar Ramirez\n",
      " Jack Whitehall\n",
      " Jesse Plemons\n",
      " Paul Giamatti\n",
      "{'Chris Diamantopoulos': 1, ' Tony Anselmo': 1, ' Tress MacNeille': 1, ' Bill Farmer': 1, ' Russi Taylor': 2, ' Corey Burton': 1, 'Jim Varney': 1, ' Noelle Parker': 1, ' Douglas Seale': 1, 'Raymond Albert Romano': 1, ' John Leguizamo': 1, ' Denis Leary': 1, ' Queen Latifah': 1, 'Darren Criss': 1, ' Adam Lambert': 1, ' Derek Hough': 1, ' Alexander Jean': 1, ' Fall Out Boy': 1, ' Jimmie Allen': 1, 'John Lennon': 1, ' Paul McCartney': 1, ' George Harrison': 1, ' Ringo Starr': 1, 'Jacques Yves Cousteau': 1, ' Vincent Cassel': 1, 'Jeremy Renner': 1, ' Hailee Steinfeld': 1, ' Vera Farmiga': 1, ' Fra Fee': 1, ' Tony Dalton': 1, ' Zahn McClarnon': 1, 'Gary Muehlberger': 1, ' Mary Miller': 1, ' Curly Leach': 1, ' Sam Carlson': 1, ' Stuart Andrews': 1, ' David Squibb': 1, 'Dr. Ray Ball': 2, ' Dr. Lauren Smith': 2, ' Chris Massaro': 2, ' Tiffany Burns': 2, ' Mike Burns': 2, ' Melinda Mendolusky': 2, 'Don Hahn': 1, ' Kathryn Beaumont': 1, ' Pete Docter': 1, ' Kevin Feige': 1, ' Mark Hamill': 1, ' Bob Iger': 1, '': 2, 'Stacy Keach': 1, ' John Lasseter': 1, ' Brad Bird': 1, ' John Musker': 1, ' Ron Clements': 1, ' Frank Thomas': 1, 'Dr. Michelle Oakley': 1, ' Zachary Fine': 1, 'Michael B. Jordan': 1, 'Jack Dylan Grazer': 1, ' Marco Barricelli': 1, 'Mia Jenness': 1, ' Alyson Hannigan': 1, ' Rob Riggle': 1, ' Spencer Moss': 1, ' Dana Heath': 1, 'Carolina Domenech': 1, ' José Jiménez Zapiola': 1, ' Kevsho': 1, ' Elena Roger': 1, ' Clara Alonso': 1, ' Emilia Mernes': 1, 'Amy Adams': 1, ' Patrick Dempsey': 1, ' James Marsden': 1, ' Timothy Spall': 1, ' Idina Menzel': 2, ' Susan Sarandon': 1, 'Stephen Apostolina': 1, ' Kirk Baily': 1, ' Ben Bledsoe': 1, ' David Cowgill': 1, ' Terri Douglas': 1, ' Fuschia!': 1, 'Kristen Bell': 1, ' Jonathan Groff': 1, ' Josh Gad': 1, ' Santino Fontana': 1, ' Chris Williams': 1, 'Walt Disney': 1, ' Marcellite Garner': 1, ' Billy Bletcher': 1, ' Will Ryan': 1, ' Bob Bergen': 1, 'Ellie Kemper': 1, ' Rob Delaney': 1, ' Archie Yates': 1, ' Aisling Bea': 1, ' Kenan Thompson': 1, ' Tim Simons': 1, 'Dwayne Johnson': 1, ' Emily Blunt': 1, ' Edgar Ramirez': 1, ' Jack Whitehall': 1, ' Jesse Plemons': 1, ' Paul Giamatti': 1}\n",
      "Chris Hemsworth\n",
      "{'Chris Diamantopoulos': 1, ' Tony Anselmo': 1, ' Tress MacNeille': 1, ' Bill Farmer': 1, ' Russi Taylor': 2, ' Corey Burton': 1, 'Jim Varney': 1, ' Noelle Parker': 1, ' Douglas Seale': 1, 'Raymond Albert Romano': 1, ' John Leguizamo': 1, ' Denis Leary': 1, ' Queen Latifah': 1, 'Darren Criss': 1, ' Adam Lambert': 1, ' Derek Hough': 1, ' Alexander Jean': 1, ' Fall Out Boy': 1, ' Jimmie Allen': 1, 'John Lennon': 1, ' Paul McCartney': 1, ' George Harrison': 1, ' Ringo Starr': 1, 'Jacques Yves Cousteau': 1, ' Vincent Cassel': 1, 'Jeremy Renner': 1, ' Hailee Steinfeld': 1, ' Vera Farmiga': 1, ' Fra Fee': 1, ' Tony Dalton': 1, ' Zahn McClarnon': 1, 'Gary Muehlberger': 1, ' Mary Miller': 1, ' Curly Leach': 1, ' Sam Carlson': 1, ' Stuart Andrews': 1, ' David Squibb': 1, 'Dr. Ray Ball': 2, ' Dr. Lauren Smith': 2, ' Chris Massaro': 2, ' Tiffany Burns': 2, ' Mike Burns': 2, ' Melinda Mendolusky': 2, 'Don Hahn': 1, ' Kathryn Beaumont': 1, ' Pete Docter': 1, ' Kevin Feige': 1, ' Mark Hamill': 1, ' Bob Iger': 1, '': 2, 'Stacy Keach': 1, ' John Lasseter': 1, ' Brad Bird': 1, ' John Musker': 1, ' Ron Clements': 1, ' Frank Thomas': 1, 'Dr. Michelle Oakley': 1, ' Zachary Fine': 1, 'Michael B. Jordan': 1, 'Jack Dylan Grazer': 1, ' Marco Barricelli': 1, 'Mia Jenness': 1, ' Alyson Hannigan': 1, ' Rob Riggle': 1, ' Spencer Moss': 1, ' Dana Heath': 1, 'Carolina Domenech': 1, ' José Jiménez Zapiola': 1, ' Kevsho': 1, ' Elena Roger': 1, ' Clara Alonso': 1, ' Emilia Mernes': 1, 'Amy Adams': 1, ' Patrick Dempsey': 1, ' James Marsden': 1, ' Timothy Spall': 1, ' Idina Menzel': 2, ' Susan Sarandon': 1, 'Stephen Apostolina': 1, ' Kirk Baily': 1, ' Ben Bledsoe': 1, ' David Cowgill': 1, ' Terri Douglas': 1, ' Fuschia!': 1, 'Kristen Bell': 1, ' Jonathan Groff': 1, ' Josh Gad': 1, ' Santino Fontana': 1, ' Chris Williams': 1, 'Walt Disney': 1, ' Marcellite Garner': 1, ' Billy Bletcher': 1, ' Will Ryan': 1, ' Bob Bergen': 1, 'Ellie Kemper': 1, ' Rob Delaney': 1, ' Archie Yates': 1, ' Aisling Bea': 1, ' Kenan Thompson': 1, ' Tim Simons': 1, 'Dwayne Johnson': 1, ' Emily Blunt': 1, ' Edgar Ramirez': 1, ' Jack Whitehall': 1, ' Jesse Plemons': 1, ' Paul Giamatti': 1, 'Chris Hemsworth': 1}\n",
      "\n",
      "{'Chris Diamantopoulos': 1, ' Tony Anselmo': 1, ' Tress MacNeille': 1, ' Bill Farmer': 1, ' Russi Taylor': 2, ' Corey Burton': 1, 'Jim Varney': 1, ' Noelle Parker': 1, ' Douglas Seale': 1, 'Raymond Albert Romano': 1, ' John Leguizamo': 1, ' Denis Leary': 1, ' Queen Latifah': 1, 'Darren Criss': 1, ' Adam Lambert': 1, ' Derek Hough': 1, ' Alexander Jean': 1, ' Fall Out Boy': 1, ' Jimmie Allen': 1, 'John Lennon': 1, ' Paul McCartney': 1, ' George Harrison': 1, ' Ringo Starr': 1, 'Jacques Yves Cousteau': 1, ' Vincent Cassel': 1, 'Jeremy Renner': 1, ' Hailee Steinfeld': 1, ' Vera Farmiga': 1, ' Fra Fee': 1, ' Tony Dalton': 1, ' Zahn McClarnon': 1, 'Gary Muehlberger': 1, ' Mary Miller': 1, ' Curly Leach': 1, ' Sam Carlson': 1, ' Stuart Andrews': 1, ' David Squibb': 1, 'Dr. Ray Ball': 2, ' Dr. Lauren Smith': 2, ' Chris Massaro': 2, ' Tiffany Burns': 2, ' Mike Burns': 2, ' Melinda Mendolusky': 2, 'Don Hahn': 1, ' Kathryn Beaumont': 1, ' Pete Docter': 1, ' Kevin Feige': 1, ' Mark Hamill': 1, ' Bob Iger': 1, '': 2, 'Stacy Keach': 1, ' John Lasseter': 1, ' Brad Bird': 1, ' John Musker': 1, ' Ron Clements': 1, ' Frank Thomas': 1, 'Dr. Michelle Oakley': 1, ' Zachary Fine': 1, 'Michael B. Jordan': 1, 'Jack Dylan Grazer': 1, ' Marco Barricelli': 1, 'Mia Jenness': 1, ' Alyson Hannigan': 1, ' Rob Riggle': 1, ' Spencer Moss': 1, ' Dana Heath': 1, 'Carolina Domenech': 1, ' José Jiménez Zapiola': 1, ' Kevsho': 1, ' Elena Roger': 1, ' Clara Alonso': 1, ' Emilia Mernes': 1, 'Amy Adams': 1, ' Patrick Dempsey': 1, ' James Marsden': 1, ' Timothy Spall': 1, ' Idina Menzel': 2, ' Susan Sarandon': 1, 'Stephen Apostolina': 1, ' Kirk Baily': 1, ' Ben Bledsoe': 1, ' David Cowgill': 1, ' Terri Douglas': 1, ' Fuschia!': 1, 'Kristen Bell': 1, ' Jonathan Groff': 1, ' Josh Gad': 1, ' Santino Fontana': 1, ' Chris Williams': 1, 'Walt Disney': 1, ' Marcellite Garner': 1, ' Billy Bletcher': 1, ' Will Ryan': 1, ' Bob Bergen': 1, 'Ellie Kemper': 1, ' Rob Delaney': 1, ' Archie Yates': 1, ' Aisling Bea': 1, ' Kenan Thompson': 1, ' Tim Simons': 1, 'Dwayne Johnson': 1, ' Emily Blunt': 1, ' Edgar Ramirez': 1, ' Jack Whitehall': 1, ' Jesse Plemons': 1, ' Paul Giamatti': 1, 'Chris Hemsworth': 1}\n",
      "\n",
      "{'Chris Diamantopoulos': 1, ' Tony Anselmo': 1, ' Tress MacNeille': 1, ' Bill Farmer': 1, ' Russi Taylor': 2, ' Corey Burton': 1, 'Jim Varney': 1, ' Noelle Parker': 1, ' Douglas Seale': 1, 'Raymond Albert Romano': 1, ' John Leguizamo': 1, ' Denis Leary': 1, ' Queen Latifah': 1, 'Darren Criss': 1, ' Adam Lambert': 1, ' Derek Hough': 1, ' Alexander Jean': 1, ' Fall Out Boy': 1, ' Jimmie Allen': 1, 'John Lennon': 1, ' Paul McCartney': 1, ' George Harrison': 1, ' Ringo Starr': 1, 'Jacques Yves Cousteau': 1, ' Vincent Cassel': 1, 'Jeremy Renner': 1, ' Hailee Steinfeld': 1, ' Vera Farmiga': 1, ' Fra Fee': 1, ' Tony Dalton': 1, ' Zahn McClarnon': 1, 'Gary Muehlberger': 1, ' Mary Miller': 1, ' Curly Leach': 1, ' Sam Carlson': 1, ' Stuart Andrews': 1, ' David Squibb': 1, 'Dr. Ray Ball': 2, ' Dr. Lauren Smith': 2, ' Chris Massaro': 2, ' Tiffany Burns': 2, ' Mike Burns': 2, ' Melinda Mendolusky': 2, 'Don Hahn': 1, ' Kathryn Beaumont': 1, ' Pete Docter': 1, ' Kevin Feige': 1, ' Mark Hamill': 1, ' Bob Iger': 1, '': 2, 'Stacy Keach': 1, ' John Lasseter': 1, ' Brad Bird': 1, ' John Musker': 1, ' Ron Clements': 1, ' Frank Thomas': 1, 'Dr. Michelle Oakley': 1, ' Zachary Fine': 1, 'Michael B. Jordan': 1, 'Jack Dylan Grazer': 1, ' Marco Barricelli': 1, 'Mia Jenness': 1, ' Alyson Hannigan': 1, ' Rob Riggle': 1, ' Spencer Moss': 1, ' Dana Heath': 1, 'Carolina Domenech': 1, ' José Jiménez Zapiola': 1, ' Kevsho': 1, ' Elena Roger': 1, ' Clara Alonso': 1, ' Emilia Mernes': 1, 'Amy Adams': 1, ' Patrick Dempsey': 1, ' James Marsden': 1, ' Timothy Spall': 1, ' Idina Menzel': 2, ' Susan Sarandon': 1, 'Stephen Apostolina': 1, ' Kirk Baily': 1, ' Ben Bledsoe': 1, ' David Cowgill': 1, ' Terri Douglas': 1, ' Fuschia!': 1, 'Kristen Bell': 1, ' Jonathan Groff': 1, ' Josh Gad': 1, ' Santino Fontana': 1, ' Chris Williams': 1, 'Walt Disney': 1, ' Marcellite Garner': 1, ' Billy Bletcher': 1, ' Will Ryan': 1, ' Bob Bergen': 1, 'Ellie Kemper': 1, ' Rob Delaney': 1, ' Archie Yates': 1, ' Aisling Bea': 1, ' Kenan Thompson': 1, ' Tim Simons': 1, 'Dwayne Johnson': 1, ' Emily Blunt': 1, ' Edgar Ramirez': 1, ' Jack Whitehall': 1, ' Jesse Plemons': 1, ' Paul Giamatti': 1, 'Chris Hemsworth': 1}\n",
      "Josh Gad\n",
      "{'Chris Diamantopoulos': 1, ' Tony Anselmo': 1, ' Tress MacNeille': 1, ' Bill Farmer': 1, ' Russi Taylor': 2, ' Corey Burton': 1, 'Jim Varney': 1, ' Noelle Parker': 1, ' Douglas Seale': 1, 'Raymond Albert Romano': 1, ' John Leguizamo': 1, ' Denis Leary': 1, ' Queen Latifah': 1, 'Darren Criss': 1, ' Adam Lambert': 1, ' Derek Hough': 1, ' Alexander Jean': 1, ' Fall Out Boy': 1, ' Jimmie Allen': 1, 'John Lennon': 1, ' Paul McCartney': 1, ' George Harrison': 1, ' Ringo Starr': 1, 'Jacques Yves Cousteau': 1, ' Vincent Cassel': 1, 'Jeremy Renner': 1, ' Hailee Steinfeld': 1, ' Vera Farmiga': 1, ' Fra Fee': 1, ' Tony Dalton': 1, ' Zahn McClarnon': 1, 'Gary Muehlberger': 1, ' Mary Miller': 1, ' Curly Leach': 1, ' Sam Carlson': 1, ' Stuart Andrews': 1, ' David Squibb': 1, 'Dr. Ray Ball': 2, ' Dr. Lauren Smith': 2, ' Chris Massaro': 2, ' Tiffany Burns': 2, ' Mike Burns': 2, ' Melinda Mendolusky': 2, 'Don Hahn': 1, ' Kathryn Beaumont': 1, ' Pete Docter': 1, ' Kevin Feige': 1, ' Mark Hamill': 1, ' Bob Iger': 1, '': 2, 'Stacy Keach': 1, ' John Lasseter': 1, ' Brad Bird': 1, ' John Musker': 1, ' Ron Clements': 1, ' Frank Thomas': 1, 'Dr. Michelle Oakley': 1, ' Zachary Fine': 1, 'Michael B. Jordan': 1, 'Jack Dylan Grazer': 1, ' Marco Barricelli': 1, 'Mia Jenness': 1, ' Alyson Hannigan': 1, ' Rob Riggle': 1, ' Spencer Moss': 1, ' Dana Heath': 1, 'Carolina Domenech': 1, ' José Jiménez Zapiola': 1, ' Kevsho': 1, ' Elena Roger': 1, ' Clara Alonso': 1, ' Emilia Mernes': 1, 'Amy Adams': 1, ' Patrick Dempsey': 1, ' James Marsden': 1, ' Timothy Spall': 1, ' Idina Menzel': 2, ' Susan Sarandon': 1, 'Stephen Apostolina': 1, ' Kirk Baily': 1, ' Ben Bledsoe': 1, ' David Cowgill': 1, ' Terri Douglas': 1, ' Fuschia!': 1, 'Kristen Bell': 1, ' Jonathan Groff': 1, ' Josh Gad': 1, ' Santino Fontana': 1, ' Chris Williams': 1, 'Walt Disney': 1, ' Marcellite Garner': 1, ' Billy Bletcher': 1, ' Will Ryan': 1, ' Bob Bergen': 1, 'Ellie Kemper': 1, ' Rob Delaney': 1, ' Archie Yates': 1, ' Aisling Bea': 1, ' Kenan Thompson': 1, ' Tim Simons': 1, 'Dwayne Johnson': 1, ' Emily Blunt': 1, ' Edgar Ramirez': 1, ' Jack Whitehall': 1, ' Jesse Plemons': 1, ' Paul Giamatti': 1, 'Chris Hemsworth': 1, 'Josh Gad': 1}\n",
      "John Kahrs\n",
      " Kari Wahlgren\n",
      "{'Chris Diamantopoulos': 1, ' Tony Anselmo': 1, ' Tress MacNeille': 1, ' Bill Farmer': 1, ' Russi Taylor': 2, ' Corey Burton': 1, 'Jim Varney': 1, ' Noelle Parker': 1, ' Douglas Seale': 1, 'Raymond Albert Romano': 1, ' John Leguizamo': 1, ' Denis Leary': 1, ' Queen Latifah': 1, 'Darren Criss': 1, ' Adam Lambert': 1, ' Derek Hough': 1, ' Alexander Jean': 1, ' Fall Out Boy': 1, ' Jimmie Allen': 1, 'John Lennon': 1, ' Paul McCartney': 1, ' George Harrison': 1, ' Ringo Starr': 1, 'Jacques Yves Cousteau': 1, ' Vincent Cassel': 1, 'Jeremy Renner': 1, ' Hailee Steinfeld': 1, ' Vera Farmiga': 1, ' Fra Fee': 1, ' Tony Dalton': 1, ' Zahn McClarnon': 1, 'Gary Muehlberger': 1, ' Mary Miller': 1, ' Curly Leach': 1, ' Sam Carlson': 1, ' Stuart Andrews': 1, ' David Squibb': 1, 'Dr. Ray Ball': 2, ' Dr. Lauren Smith': 2, ' Chris Massaro': 2, ' Tiffany Burns': 2, ' Mike Burns': 2, ' Melinda Mendolusky': 2, 'Don Hahn': 1, ' Kathryn Beaumont': 1, ' Pete Docter': 1, ' Kevin Feige': 1, ' Mark Hamill': 1, ' Bob Iger': 1, '': 2, 'Stacy Keach': 1, ' John Lasseter': 1, ' Brad Bird': 1, ' John Musker': 1, ' Ron Clements': 1, ' Frank Thomas': 1, 'Dr. Michelle Oakley': 1, ' Zachary Fine': 1, 'Michael B. Jordan': 1, 'Jack Dylan Grazer': 1, ' Marco Barricelli': 1, 'Mia Jenness': 1, ' Alyson Hannigan': 1, ' Rob Riggle': 1, ' Spencer Moss': 1, ' Dana Heath': 1, 'Carolina Domenech': 1, ' José Jiménez Zapiola': 1, ' Kevsho': 1, ' Elena Roger': 1, ' Clara Alonso': 1, ' Emilia Mernes': 1, 'Amy Adams': 1, ' Patrick Dempsey': 1, ' James Marsden': 1, ' Timothy Spall': 1, ' Idina Menzel': 2, ' Susan Sarandon': 1, 'Stephen Apostolina': 1, ' Kirk Baily': 1, ' Ben Bledsoe': 1, ' David Cowgill': 1, ' Terri Douglas': 1, ' Fuschia!': 1, 'Kristen Bell': 1, ' Jonathan Groff': 1, ' Josh Gad': 1, ' Santino Fontana': 1, ' Chris Williams': 1, 'Walt Disney': 1, ' Marcellite Garner': 1, ' Billy Bletcher': 1, ' Will Ryan': 1, ' Bob Bergen': 1, 'Ellie Kemper': 1, ' Rob Delaney': 1, ' Archie Yates': 1, ' Aisling Bea': 1, ' Kenan Thompson': 1, ' Tim Simons': 1, 'Dwayne Johnson': 1, ' Emily Blunt': 1, ' Edgar Ramirez': 1, ' Jack Whitehall': 1, ' Jesse Plemons': 1, ' Paul Giamatti': 1, 'Chris Hemsworth': 1, 'Josh Gad': 1, 'John Kahrs': 1, ' Kari Wahlgren': 1}\n",
      "Pete Docter\n",
      " Larry the Cable Guy\n",
      " Jack Dylan Grazer\n",
      " Domee Shi\n",
      " Angus MacLane\n",
      "{'Chris Diamantopoulos': 1, ' Tony Anselmo': 1, ' Tress MacNeille': 1, ' Bill Farmer': 1, ' Russi Taylor': 2, ' Corey Burton': 1, 'Jim Varney': 1, ' Noelle Parker': 1, ' Douglas Seale': 1, 'Raymond Albert Romano': 1, ' John Leguizamo': 1, ' Denis Leary': 1, ' Queen Latifah': 1, 'Darren Criss': 1, ' Adam Lambert': 1, ' Derek Hough': 1, ' Alexander Jean': 1, ' Fall Out Boy': 1, ' Jimmie Allen': 1, 'John Lennon': 1, ' Paul McCartney': 1, ' George Harrison': 1, ' Ringo Starr': 1, 'Jacques Yves Cousteau': 1, ' Vincent Cassel': 1, 'Jeremy Renner': 1, ' Hailee Steinfeld': 1, ' Vera Farmiga': 1, ' Fra Fee': 1, ' Tony Dalton': 1, ' Zahn McClarnon': 1, 'Gary Muehlberger': 1, ' Mary Miller': 1, ' Curly Leach': 1, ' Sam Carlson': 1, ' Stuart Andrews': 1, ' David Squibb': 1, 'Dr. Ray Ball': 2, ' Dr. Lauren Smith': 2, ' Chris Massaro': 2, ' Tiffany Burns': 2, ' Mike Burns': 2, ' Melinda Mendolusky': 2, 'Don Hahn': 1, ' Kathryn Beaumont': 1, ' Pete Docter': 1, ' Kevin Feige': 1, ' Mark Hamill': 1, ' Bob Iger': 1, '': 2, 'Stacy Keach': 1, ' John Lasseter': 1, ' Brad Bird': 1, ' John Musker': 1, ' Ron Clements': 1, ' Frank Thomas': 1, 'Dr. Michelle Oakley': 1, ' Zachary Fine': 1, 'Michael B. Jordan': 1, 'Jack Dylan Grazer': 1, ' Marco Barricelli': 1, 'Mia Jenness': 1, ' Alyson Hannigan': 1, ' Rob Riggle': 1, ' Spencer Moss': 1, ' Dana Heath': 1, 'Carolina Domenech': 1, ' José Jiménez Zapiola': 1, ' Kevsho': 1, ' Elena Roger': 1, ' Clara Alonso': 1, ' Emilia Mernes': 1, 'Amy Adams': 1, ' Patrick Dempsey': 1, ' James Marsden': 1, ' Timothy Spall': 1, ' Idina Menzel': 2, ' Susan Sarandon': 1, 'Stephen Apostolina': 1, ' Kirk Baily': 1, ' Ben Bledsoe': 1, ' David Cowgill': 1, ' Terri Douglas': 1, ' Fuschia!': 1, 'Kristen Bell': 1, ' Jonathan Groff': 1, ' Josh Gad': 1, ' Santino Fontana': 1, ' Chris Williams': 1, 'Walt Disney': 1, ' Marcellite Garner': 1, ' Billy Bletcher': 1, ' Will Ryan': 1, ' Bob Bergen': 1, 'Ellie Kemper': 1, ' Rob Delaney': 1, ' Archie Yates': 1, ' Aisling Bea': 1, ' Kenan Thompson': 1, ' Tim Simons': 1, 'Dwayne Johnson': 1, ' Emily Blunt': 1, ' Edgar Ramirez': 1, ' Jack Whitehall': 1, ' Jesse Plemons': 1, ' Paul Giamatti': 1, 'Chris Hemsworth': 1, 'Josh Gad': 1, 'John Kahrs': 1, ' Kari Wahlgren': 1, 'Pete Docter': 1, ' Larry the Cable Guy': 1, ' Jack Dylan Grazer': 1, ' Domee Shi': 1, ' Angus MacLane': 1}\n",
      "Simu Liu\n",
      " Awkwafina\n",
      " Tony Leung\n",
      " Michelle Yeoh\n",
      " Meng'er Zhang\n",
      " Ben Kingsley\n",
      "{'Chris Diamantopoulos': 1, ' Tony Anselmo': 1, ' Tress MacNeille': 1, ' Bill Farmer': 1, ' Russi Taylor': 2, ' Corey Burton': 1, 'Jim Varney': 1, ' Noelle Parker': 1, ' Douglas Seale': 1, 'Raymond Albert Romano': 1, ' John Leguizamo': 1, ' Denis Leary': 1, ' Queen Latifah': 1, 'Darren Criss': 1, ' Adam Lambert': 1, ' Derek Hough': 1, ' Alexander Jean': 1, ' Fall Out Boy': 1, ' Jimmie Allen': 1, 'John Lennon': 1, ' Paul McCartney': 1, ' George Harrison': 1, ' Ringo Starr': 1, 'Jacques Yves Cousteau': 1, ' Vincent Cassel': 1, 'Jeremy Renner': 1, ' Hailee Steinfeld': 1, ' Vera Farmiga': 1, ' Fra Fee': 1, ' Tony Dalton': 1, ' Zahn McClarnon': 1, 'Gary Muehlberger': 1, ' Mary Miller': 1, ' Curly Leach': 1, ' Sam Carlson': 1, ' Stuart Andrews': 1, ' David Squibb': 1, 'Dr. Ray Ball': 2, ' Dr. Lauren Smith': 2, ' Chris Massaro': 2, ' Tiffany Burns': 2, ' Mike Burns': 2, ' Melinda Mendolusky': 2, 'Don Hahn': 1, ' Kathryn Beaumont': 1, ' Pete Docter': 1, ' Kevin Feige': 1, ' Mark Hamill': 1, ' Bob Iger': 1, '': 2, 'Stacy Keach': 1, ' John Lasseter': 1, ' Brad Bird': 1, ' John Musker': 1, ' Ron Clements': 1, ' Frank Thomas': 1, 'Dr. Michelle Oakley': 1, ' Zachary Fine': 1, 'Michael B. Jordan': 1, 'Jack Dylan Grazer': 1, ' Marco Barricelli': 1, 'Mia Jenness': 1, ' Alyson Hannigan': 1, ' Rob Riggle': 1, ' Spencer Moss': 1, ' Dana Heath': 1, 'Carolina Domenech': 1, ' José Jiménez Zapiola': 1, ' Kevsho': 1, ' Elena Roger': 1, ' Clara Alonso': 1, ' Emilia Mernes': 1, 'Amy Adams': 1, ' Patrick Dempsey': 1, ' James Marsden': 1, ' Timothy Spall': 1, ' Idina Menzel': 2, ' Susan Sarandon': 1, 'Stephen Apostolina': 1, ' Kirk Baily': 1, ' Ben Bledsoe': 1, ' David Cowgill': 1, ' Terri Douglas': 1, ' Fuschia!': 1, 'Kristen Bell': 1, ' Jonathan Groff': 1, ' Josh Gad': 1, ' Santino Fontana': 1, ' Chris Williams': 1, 'Walt Disney': 1, ' Marcellite Garner': 1, ' Billy Bletcher': 1, ' Will Ryan': 1, ' Bob Bergen': 1, 'Ellie Kemper': 1, ' Rob Delaney': 1, ' Archie Yates': 1, ' Aisling Bea': 1, ' Kenan Thompson': 1, ' Tim Simons': 1, 'Dwayne Johnson': 1, ' Emily Blunt': 1, ' Edgar Ramirez': 1, ' Jack Whitehall': 1, ' Jesse Plemons': 1, ' Paul Giamatti': 1, 'Chris Hemsworth': 1, 'Josh Gad': 1, 'John Kahrs': 1, ' Kari Wahlgren': 1, 'Pete Docter': 1, ' Larry the Cable Guy': 1, ' Jack Dylan Grazer': 1, ' Domee Shi': 1, ' Angus MacLane': 1, 'Simu Liu': 1, ' Awkwafina': 1, ' Tony Leung': 1, ' Michelle Yeoh': 1, \" Meng'er Zhang\": 1, ' Ben Kingsley': 1}\n",
      "Avantika\n",
      " Michael Bishop\n",
      " Anna Cathcart\n",
      " Jahbril Cook\n",
      " Kerri Medders\n",
      " Aryan Simhadri\n",
      "{'Chris Diamantopoulos': 1, ' Tony Anselmo': 1, ' Tress MacNeille': 1, ' Bill Farmer': 1, ' Russi Taylor': 2, ' Corey Burton': 1, 'Jim Varney': 1, ' Noelle Parker': 1, ' Douglas Seale': 1, 'Raymond Albert Romano': 1, ' John Leguizamo': 1, ' Denis Leary': 1, ' Queen Latifah': 1, 'Darren Criss': 1, ' Adam Lambert': 1, ' Derek Hough': 1, ' Alexander Jean': 1, ' Fall Out Boy': 1, ' Jimmie Allen': 1, 'John Lennon': 1, ' Paul McCartney': 1, ' George Harrison': 1, ' Ringo Starr': 1, 'Jacques Yves Cousteau': 1, ' Vincent Cassel': 1, 'Jeremy Renner': 1, ' Hailee Steinfeld': 1, ' Vera Farmiga': 1, ' Fra Fee': 1, ' Tony Dalton': 1, ' Zahn McClarnon': 1, 'Gary Muehlberger': 1, ' Mary Miller': 1, ' Curly Leach': 1, ' Sam Carlson': 1, ' Stuart Andrews': 1, ' David Squibb': 1, 'Dr. Ray Ball': 2, ' Dr. Lauren Smith': 2, ' Chris Massaro': 2, ' Tiffany Burns': 2, ' Mike Burns': 2, ' Melinda Mendolusky': 2, 'Don Hahn': 1, ' Kathryn Beaumont': 1, ' Pete Docter': 1, ' Kevin Feige': 1, ' Mark Hamill': 1, ' Bob Iger': 1, '': 2, 'Stacy Keach': 1, ' John Lasseter': 1, ' Brad Bird': 1, ' John Musker': 1, ' Ron Clements': 1, ' Frank Thomas': 1, 'Dr. Michelle Oakley': 1, ' Zachary Fine': 1, 'Michael B. Jordan': 1, 'Jack Dylan Grazer': 1, ' Marco Barricelli': 1, 'Mia Jenness': 1, ' Alyson Hannigan': 1, ' Rob Riggle': 1, ' Spencer Moss': 1, ' Dana Heath': 1, 'Carolina Domenech': 1, ' José Jiménez Zapiola': 1, ' Kevsho': 1, ' Elena Roger': 1, ' Clara Alonso': 1, ' Emilia Mernes': 1, 'Amy Adams': 1, ' Patrick Dempsey': 1, ' James Marsden': 1, ' Timothy Spall': 1, ' Idina Menzel': 2, ' Susan Sarandon': 1, 'Stephen Apostolina': 1, ' Kirk Baily': 1, ' Ben Bledsoe': 1, ' David Cowgill': 1, ' Terri Douglas': 1, ' Fuschia!': 1, 'Kristen Bell': 1, ' Jonathan Groff': 1, ' Josh Gad': 1, ' Santino Fontana': 1, ' Chris Williams': 1, 'Walt Disney': 1, ' Marcellite Garner': 1, ' Billy Bletcher': 1, ' Will Ryan': 1, ' Bob Bergen': 1, 'Ellie Kemper': 1, ' Rob Delaney': 1, ' Archie Yates': 1, ' Aisling Bea': 1, ' Kenan Thompson': 1, ' Tim Simons': 1, 'Dwayne Johnson': 1, ' Emily Blunt': 1, ' Edgar Ramirez': 1, ' Jack Whitehall': 1, ' Jesse Plemons': 1, ' Paul Giamatti': 1, 'Chris Hemsworth': 1, 'Josh Gad': 1, 'John Kahrs': 1, ' Kari Wahlgren': 1, 'Pete Docter': 1, ' Larry the Cable Guy': 1, ' Jack Dylan Grazer': 1, ' Domee Shi': 1, ' Angus MacLane': 1, 'Simu Liu': 1, ' Awkwafina': 1, ' Tony Leung': 1, ' Michelle Yeoh': 1, \" Meng'er Zhang\": 1, ' Ben Kingsley': 1, 'Avantika': 1, ' Michael Bishop': 1, ' Anna Cathcart': 1, ' Jahbril Cook': 1, ' Kerri Medders': 1, ' Aryan Simhadri': 1}\n",
      "Mandy Moore\n",
      " Zachary Levi\n",
      " Alan Dale\n",
      " Paul F. Tompkins\n",
      " Kari Wahlgren\n",
      " Mark Allen Stewart\n",
      "{'Chris Diamantopoulos': 1, ' Tony Anselmo': 1, ' Tress MacNeille': 1, ' Bill Farmer': 1, ' Russi Taylor': 2, ' Corey Burton': 1, 'Jim Varney': 1, ' Noelle Parker': 1, ' Douglas Seale': 1, 'Raymond Albert Romano': 1, ' John Leguizamo': 1, ' Denis Leary': 1, ' Queen Latifah': 1, 'Darren Criss': 1, ' Adam Lambert': 1, ' Derek Hough': 1, ' Alexander Jean': 1, ' Fall Out Boy': 1, ' Jimmie Allen': 1, 'John Lennon': 1, ' Paul McCartney': 1, ' George Harrison': 1, ' Ringo Starr': 1, 'Jacques Yves Cousteau': 1, ' Vincent Cassel': 1, 'Jeremy Renner': 1, ' Hailee Steinfeld': 1, ' Vera Farmiga': 1, ' Fra Fee': 1, ' Tony Dalton': 1, ' Zahn McClarnon': 1, 'Gary Muehlberger': 1, ' Mary Miller': 1, ' Curly Leach': 1, ' Sam Carlson': 1, ' Stuart Andrews': 1, ' David Squibb': 1, 'Dr. Ray Ball': 2, ' Dr. Lauren Smith': 2, ' Chris Massaro': 2, ' Tiffany Burns': 2, ' Mike Burns': 2, ' Melinda Mendolusky': 2, 'Don Hahn': 1, ' Kathryn Beaumont': 1, ' Pete Docter': 1, ' Kevin Feige': 1, ' Mark Hamill': 1, ' Bob Iger': 1, '': 2, 'Stacy Keach': 1, ' John Lasseter': 1, ' Brad Bird': 1, ' John Musker': 1, ' Ron Clements': 1, ' Frank Thomas': 1, 'Dr. Michelle Oakley': 1, ' Zachary Fine': 1, 'Michael B. Jordan': 1, 'Jack Dylan Grazer': 1, ' Marco Barricelli': 1, 'Mia Jenness': 1, ' Alyson Hannigan': 1, ' Rob Riggle': 1, ' Spencer Moss': 1, ' Dana Heath': 1, 'Carolina Domenech': 1, ' José Jiménez Zapiola': 1, ' Kevsho': 1, ' Elena Roger': 1, ' Clara Alonso': 1, ' Emilia Mernes': 1, 'Amy Adams': 1, ' Patrick Dempsey': 1, ' James Marsden': 1, ' Timothy Spall': 1, ' Idina Menzel': 2, ' Susan Sarandon': 1, 'Stephen Apostolina': 1, ' Kirk Baily': 1, ' Ben Bledsoe': 1, ' David Cowgill': 1, ' Terri Douglas': 1, ' Fuschia!': 1, 'Kristen Bell': 1, ' Jonathan Groff': 1, ' Josh Gad': 1, ' Santino Fontana': 1, ' Chris Williams': 1, 'Walt Disney': 1, ' Marcellite Garner': 1, ' Billy Bletcher': 1, ' Will Ryan': 1, ' Bob Bergen': 1, 'Ellie Kemper': 1, ' Rob Delaney': 1, ' Archie Yates': 1, ' Aisling Bea': 1, ' Kenan Thompson': 1, ' Tim Simons': 1, 'Dwayne Johnson': 1, ' Emily Blunt': 1, ' Edgar Ramirez': 1, ' Jack Whitehall': 1, ' Jesse Plemons': 1, ' Paul Giamatti': 1, 'Chris Hemsworth': 1, 'Josh Gad': 1, 'John Kahrs': 1, ' Kari Wahlgren': 2, 'Pete Docter': 1, ' Larry the Cable Guy': 1, ' Jack Dylan Grazer': 1, ' Domee Shi': 1, ' Angus MacLane': 1, 'Simu Liu': 1, ' Awkwafina': 1, ' Tony Leung': 1, ' Michelle Yeoh': 1, \" Meng'er Zhang\": 1, ' Ben Kingsley': 1, 'Avantika': 1, ' Michael Bishop': 1, ' Anna Cathcart': 1, ' Jahbril Cook': 1, ' Kerri Medders': 1, ' Aryan Simhadri': 1, 'Mandy Moore': 1, ' Zachary Levi': 1, ' Alan Dale': 1, ' Paul F. Tompkins': 1, ' Mark Allen Stewart': 1}\n",
      "Billy Connolly\n",
      "{'Chris Diamantopoulos': 1, ' Tony Anselmo': 1, ' Tress MacNeille': 1, ' Bill Farmer': 1, ' Russi Taylor': 2, ' Corey Burton': 1, 'Jim Varney': 1, ' Noelle Parker': 1, ' Douglas Seale': 1, 'Raymond Albert Romano': 1, ' John Leguizamo': 1, ' Denis Leary': 1, ' Queen Latifah': 1, 'Darren Criss': 1, ' Adam Lambert': 1, ' Derek Hough': 1, ' Alexander Jean': 1, ' Fall Out Boy': 1, ' Jimmie Allen': 1, 'John Lennon': 1, ' Paul McCartney': 1, ' George Harrison': 1, ' Ringo Starr': 1, 'Jacques Yves Cousteau': 1, ' Vincent Cassel': 1, 'Jeremy Renner': 1, ' Hailee Steinfeld': 1, ' Vera Farmiga': 1, ' Fra Fee': 1, ' Tony Dalton': 1, ' Zahn McClarnon': 1, 'Gary Muehlberger': 1, ' Mary Miller': 1, ' Curly Leach': 1, ' Sam Carlson': 1, ' Stuart Andrews': 1, ' David Squibb': 1, 'Dr. Ray Ball': 2, ' Dr. Lauren Smith': 2, ' Chris Massaro': 2, ' Tiffany Burns': 2, ' Mike Burns': 2, ' Melinda Mendolusky': 2, 'Don Hahn': 1, ' Kathryn Beaumont': 1, ' Pete Docter': 1, ' Kevin Feige': 1, ' Mark Hamill': 1, ' Bob Iger': 1, '': 2, 'Stacy Keach': 1, ' John Lasseter': 1, ' Brad Bird': 1, ' John Musker': 1, ' Ron Clements': 1, ' Frank Thomas': 1, 'Dr. Michelle Oakley': 1, ' Zachary Fine': 1, 'Michael B. Jordan': 1, 'Jack Dylan Grazer': 1, ' Marco Barricelli': 1, 'Mia Jenness': 1, ' Alyson Hannigan': 1, ' Rob Riggle': 1, ' Spencer Moss': 1, ' Dana Heath': 1, 'Carolina Domenech': 1, ' José Jiménez Zapiola': 1, ' Kevsho': 1, ' Elena Roger': 1, ' Clara Alonso': 1, ' Emilia Mernes': 1, 'Amy Adams': 1, ' Patrick Dempsey': 1, ' James Marsden': 1, ' Timothy Spall': 1, ' Idina Menzel': 2, ' Susan Sarandon': 1, 'Stephen Apostolina': 1, ' Kirk Baily': 1, ' Ben Bledsoe': 1, ' David Cowgill': 1, ' Terri Douglas': 1, ' Fuschia!': 1, 'Kristen Bell': 1, ' Jonathan Groff': 1, ' Josh Gad': 1, ' Santino Fontana': 1, ' Chris Williams': 1, 'Walt Disney': 1, ' Marcellite Garner': 1, ' Billy Bletcher': 1, ' Will Ryan': 1, ' Bob Bergen': 1, 'Ellie Kemper': 1, ' Rob Delaney': 1, ' Archie Yates': 1, ' Aisling Bea': 1, ' Kenan Thompson': 1, ' Tim Simons': 1, 'Dwayne Johnson': 1, ' Emily Blunt': 1, ' Edgar Ramirez': 1, ' Jack Whitehall': 1, ' Jesse Plemons': 1, ' Paul Giamatti': 1, 'Chris Hemsworth': 1, 'Josh Gad': 1, 'John Kahrs': 1, ' Kari Wahlgren': 2, 'Pete Docter': 1, ' Larry the Cable Guy': 1, ' Jack Dylan Grazer': 1, ' Domee Shi': 1, ' Angus MacLane': 1, 'Simu Liu': 1, ' Awkwafina': 1, ' Tony Leung': 1, ' Michelle Yeoh': 1, \" Meng'er Zhang\": 1, ' Ben Kingsley': 1, 'Avantika': 1, ' Michael Bishop': 1, ' Anna Cathcart': 1, ' Jahbril Cook': 1, ' Kerri Medders': 1, ' Aryan Simhadri': 1, 'Mandy Moore': 1, ' Zachary Levi': 1, ' Alan Dale': 1, ' Paul F. Tompkins': 1, ' Mark Allen Stewart': 1, 'Billy Connolly': 1}\n",
      "\n",
      "{'Chris Diamantopoulos': 1, ' Tony Anselmo': 1, ' Tress MacNeille': 1, ' Bill Farmer': 1, ' Russi Taylor': 2, ' Corey Burton': 1, 'Jim Varney': 1, ' Noelle Parker': 1, ' Douglas Seale': 1, 'Raymond Albert Romano': 1, ' John Leguizamo': 1, ' Denis Leary': 1, ' Queen Latifah': 1, 'Darren Criss': 1, ' Adam Lambert': 1, ' Derek Hough': 1, ' Alexander Jean': 1, ' Fall Out Boy': 1, ' Jimmie Allen': 1, 'John Lennon': 1, ' Paul McCartney': 1, ' George Harrison': 1, ' Ringo Starr': 1, 'Jacques Yves Cousteau': 1, ' Vincent Cassel': 1, 'Jeremy Renner': 1, ' Hailee Steinfeld': 1, ' Vera Farmiga': 1, ' Fra Fee': 1, ' Tony Dalton': 1, ' Zahn McClarnon': 1, 'Gary Muehlberger': 1, ' Mary Miller': 1, ' Curly Leach': 1, ' Sam Carlson': 1, ' Stuart Andrews': 1, ' David Squibb': 1, 'Dr. Ray Ball': 2, ' Dr. Lauren Smith': 2, ' Chris Massaro': 2, ' Tiffany Burns': 2, ' Mike Burns': 2, ' Melinda Mendolusky': 2, 'Don Hahn': 1, ' Kathryn Beaumont': 1, ' Pete Docter': 1, ' Kevin Feige': 1, ' Mark Hamill': 1, ' Bob Iger': 1, '': 2, 'Stacy Keach': 1, ' John Lasseter': 1, ' Brad Bird': 1, ' John Musker': 1, ' Ron Clements': 1, ' Frank Thomas': 1, 'Dr. Michelle Oakley': 1, ' Zachary Fine': 1, 'Michael B. Jordan': 1, 'Jack Dylan Grazer': 1, ' Marco Barricelli': 1, 'Mia Jenness': 1, ' Alyson Hannigan': 1, ' Rob Riggle': 1, ' Spencer Moss': 1, ' Dana Heath': 1, 'Carolina Domenech': 1, ' José Jiménez Zapiola': 1, ' Kevsho': 1, ' Elena Roger': 1, ' Clara Alonso': 1, ' Emilia Mernes': 1, 'Amy Adams': 1, ' Patrick Dempsey': 1, ' James Marsden': 1, ' Timothy Spall': 1, ' Idina Menzel': 2, ' Susan Sarandon': 1, 'Stephen Apostolina': 1, ' Kirk Baily': 1, ' Ben Bledsoe': 1, ' David Cowgill': 1, ' Terri Douglas': 1, ' Fuschia!': 1, 'Kristen Bell': 1, ' Jonathan Groff': 1, ' Josh Gad': 1, ' Santino Fontana': 1, ' Chris Williams': 1, 'Walt Disney': 1, ' Marcellite Garner': 1, ' Billy Bletcher': 1, ' Will Ryan': 1, ' Bob Bergen': 1, 'Ellie Kemper': 1, ' Rob Delaney': 1, ' Archie Yates': 1, ' Aisling Bea': 1, ' Kenan Thompson': 1, ' Tim Simons': 1, 'Dwayne Johnson': 1, ' Emily Blunt': 1, ' Edgar Ramirez': 1, ' Jack Whitehall': 1, ' Jesse Plemons': 1, ' Paul Giamatti': 1, 'Chris Hemsworth': 1, 'Josh Gad': 1, 'John Kahrs': 1, ' Kari Wahlgren': 2, 'Pete Docter': 1, ' Larry the Cable Guy': 1, ' Jack Dylan Grazer': 1, ' Domee Shi': 1, ' Angus MacLane': 1, 'Simu Liu': 1, ' Awkwafina': 1, ' Tony Leung': 1, ' Michelle Yeoh': 1, \" Meng'er Zhang\": 1, ' Ben Kingsley': 1, 'Avantika': 1, ' Michael Bishop': 1, ' Anna Cathcart': 1, ' Jahbril Cook': 1, ' Kerri Medders': 1, ' Aryan Simhadri': 1, 'Mandy Moore': 1, ' Zachary Levi': 1, ' Alan Dale': 1, ' Paul F. Tompkins': 1, ' Mark Allen Stewart': 1, 'Billy Connolly': 1}\n",
      "Billie Eilish\n",
      " FINNEAS\n",
      " Gustavo Dudamel\n",
      " Patrick Osborne\n",
      " Robert Rodriguez\n",
      "{'Chris Diamantopoulos': 1, ' Tony Anselmo': 1, ' Tress MacNeille': 1, ' Bill Farmer': 1, ' Russi Taylor': 2, ' Corey Burton': 1, 'Jim Varney': 1, ' Noelle Parker': 1, ' Douglas Seale': 1, 'Raymond Albert Romano': 1, ' John Leguizamo': 1, ' Denis Leary': 1, ' Queen Latifah': 1, 'Darren Criss': 1, ' Adam Lambert': 1, ' Derek Hough': 1, ' Alexander Jean': 1, ' Fall Out Boy': 1, ' Jimmie Allen': 1, 'John Lennon': 1, ' Paul McCartney': 1, ' George Harrison': 1, ' Ringo Starr': 1, 'Jacques Yves Cousteau': 1, ' Vincent Cassel': 1, 'Jeremy Renner': 1, ' Hailee Steinfeld': 1, ' Vera Farmiga': 1, ' Fra Fee': 1, ' Tony Dalton': 1, ' Zahn McClarnon': 1, 'Gary Muehlberger': 1, ' Mary Miller': 1, ' Curly Leach': 1, ' Sam Carlson': 1, ' Stuart Andrews': 1, ' David Squibb': 1, 'Dr. Ray Ball': 2, ' Dr. Lauren Smith': 2, ' Chris Massaro': 2, ' Tiffany Burns': 2, ' Mike Burns': 2, ' Melinda Mendolusky': 2, 'Don Hahn': 1, ' Kathryn Beaumont': 1, ' Pete Docter': 1, ' Kevin Feige': 1, ' Mark Hamill': 1, ' Bob Iger': 1, '': 2, 'Stacy Keach': 1, ' John Lasseter': 1, ' Brad Bird': 1, ' John Musker': 1, ' Ron Clements': 1, ' Frank Thomas': 1, 'Dr. Michelle Oakley': 1, ' Zachary Fine': 1, 'Michael B. Jordan': 1, 'Jack Dylan Grazer': 1, ' Marco Barricelli': 1, 'Mia Jenness': 1, ' Alyson Hannigan': 1, ' Rob Riggle': 1, ' Spencer Moss': 1, ' Dana Heath': 1, 'Carolina Domenech': 1, ' José Jiménez Zapiola': 1, ' Kevsho': 1, ' Elena Roger': 1, ' Clara Alonso': 1, ' Emilia Mernes': 1, 'Amy Adams': 1, ' Patrick Dempsey': 1, ' James Marsden': 1, ' Timothy Spall': 1, ' Idina Menzel': 2, ' Susan Sarandon': 1, 'Stephen Apostolina': 1, ' Kirk Baily': 1, ' Ben Bledsoe': 1, ' David Cowgill': 1, ' Terri Douglas': 1, ' Fuschia!': 1, 'Kristen Bell': 1, ' Jonathan Groff': 1, ' Josh Gad': 1, ' Santino Fontana': 1, ' Chris Williams': 1, 'Walt Disney': 1, ' Marcellite Garner': 1, ' Billy Bletcher': 1, ' Will Ryan': 1, ' Bob Bergen': 1, 'Ellie Kemper': 1, ' Rob Delaney': 1, ' Archie Yates': 1, ' Aisling Bea': 1, ' Kenan Thompson': 1, ' Tim Simons': 1, 'Dwayne Johnson': 1, ' Emily Blunt': 1, ' Edgar Ramirez': 1, ' Jack Whitehall': 1, ' Jesse Plemons': 1, ' Paul Giamatti': 1, 'Chris Hemsworth': 1, 'Josh Gad': 1, 'John Kahrs': 1, ' Kari Wahlgren': 2, 'Pete Docter': 1, ' Larry the Cable Guy': 1, ' Jack Dylan Grazer': 1, ' Domee Shi': 1, ' Angus MacLane': 1, 'Simu Liu': 1, ' Awkwafina': 1, ' Tony Leung': 1, ' Michelle Yeoh': 1, \" Meng'er Zhang\": 1, ' Ben Kingsley': 1, 'Avantika': 1, ' Michael Bishop': 1, ' Anna Cathcart': 1, ' Jahbril Cook': 1, ' Kerri Medders': 1, ' Aryan Simhadri': 1, 'Mandy Moore': 1, ' Zachary Levi': 1, ' Alan Dale': 1, ' Paul F. Tompkins': 1, ' Mark Allen Stewart': 1, 'Billy Connolly': 1, 'Billie Eilish': 1, ' FINNEAS': 1, ' Gustavo Dudamel': 1, ' Patrick Osborne': 1, ' Robert Rodriguez': 1}\n",
      "Kyla Pratt\n",
      " Tommy Davidson\n",
      " Paula Jai Parker\n",
      " JoMarie Payton\n",
      " Cedric the Entertainer\n",
      "{'Chris Diamantopoulos': 1, ' Tony Anselmo': 1, ' Tress MacNeille': 1, ' Bill Farmer': 1, ' Russi Taylor': 2, ' Corey Burton': 1, 'Jim Varney': 1, ' Noelle Parker': 1, ' Douglas Seale': 1, 'Raymond Albert Romano': 1, ' John Leguizamo': 1, ' Denis Leary': 1, ' Queen Latifah': 1, 'Darren Criss': 1, ' Adam Lambert': 1, ' Derek Hough': 1, ' Alexander Jean': 1, ' Fall Out Boy': 1, ' Jimmie Allen': 1, 'John Lennon': 1, ' Paul McCartney': 1, ' George Harrison': 1, ' Ringo Starr': 1, 'Jacques Yves Cousteau': 1, ' Vincent Cassel': 1, 'Jeremy Renner': 1, ' Hailee Steinfeld': 1, ' Vera Farmiga': 1, ' Fra Fee': 1, ' Tony Dalton': 1, ' Zahn McClarnon': 1, 'Gary Muehlberger': 1, ' Mary Miller': 1, ' Curly Leach': 1, ' Sam Carlson': 1, ' Stuart Andrews': 1, ' David Squibb': 1, 'Dr. Ray Ball': 2, ' Dr. Lauren Smith': 2, ' Chris Massaro': 2, ' Tiffany Burns': 2, ' Mike Burns': 2, ' Melinda Mendolusky': 2, 'Don Hahn': 1, ' Kathryn Beaumont': 1, ' Pete Docter': 1, ' Kevin Feige': 1, ' Mark Hamill': 1, ' Bob Iger': 1, '': 2, 'Stacy Keach': 1, ' John Lasseter': 1, ' Brad Bird': 1, ' John Musker': 1, ' Ron Clements': 1, ' Frank Thomas': 1, 'Dr. Michelle Oakley': 1, ' Zachary Fine': 1, 'Michael B. Jordan': 1, 'Jack Dylan Grazer': 1, ' Marco Barricelli': 1, 'Mia Jenness': 1, ' Alyson Hannigan': 1, ' Rob Riggle': 1, ' Spencer Moss': 1, ' Dana Heath': 1, 'Carolina Domenech': 1, ' José Jiménez Zapiola': 1, ' Kevsho': 1, ' Elena Roger': 1, ' Clara Alonso': 1, ' Emilia Mernes': 1, 'Amy Adams': 1, ' Patrick Dempsey': 1, ' James Marsden': 1, ' Timothy Spall': 1, ' Idina Menzel': 2, ' Susan Sarandon': 1, 'Stephen Apostolina': 1, ' Kirk Baily': 1, ' Ben Bledsoe': 1, ' David Cowgill': 1, ' Terri Douglas': 1, ' Fuschia!': 1, 'Kristen Bell': 1, ' Jonathan Groff': 1, ' Josh Gad': 1, ' Santino Fontana': 1, ' Chris Williams': 1, 'Walt Disney': 1, ' Marcellite Garner': 1, ' Billy Bletcher': 1, ' Will Ryan': 1, ' Bob Bergen': 1, 'Ellie Kemper': 1, ' Rob Delaney': 1, ' Archie Yates': 1, ' Aisling Bea': 1, ' Kenan Thompson': 1, ' Tim Simons': 1, 'Dwayne Johnson': 1, ' Emily Blunt': 1, ' Edgar Ramirez': 1, ' Jack Whitehall': 1, ' Jesse Plemons': 1, ' Paul Giamatti': 1, 'Chris Hemsworth': 1, 'Josh Gad': 1, 'John Kahrs': 1, ' Kari Wahlgren': 2, 'Pete Docter': 1, ' Larry the Cable Guy': 1, ' Jack Dylan Grazer': 1, ' Domee Shi': 1, ' Angus MacLane': 1, 'Simu Liu': 1, ' Awkwafina': 1, ' Tony Leung': 1, ' Michelle Yeoh': 1, \" Meng'er Zhang\": 1, ' Ben Kingsley': 1, 'Avantika': 1, ' Michael Bishop': 1, ' Anna Cathcart': 1, ' Jahbril Cook': 1, ' Kerri Medders': 1, ' Aryan Simhadri': 1, 'Mandy Moore': 1, ' Zachary Levi': 1, ' Alan Dale': 1, ' Paul F. Tompkins': 1, ' Mark Allen Stewart': 1, 'Billy Connolly': 1, 'Billie Eilish': 1, ' FINNEAS': 1, ' Gustavo Dudamel': 1, ' Patrick Osborne': 1, ' Robert Rodriguez': 1, 'Kyla Pratt': 1, ' Tommy Davidson': 1, ' Paula Jai Parker': 1, ' JoMarie Payton': 1, ' Cedric the Entertainer': 1}\n",
      "Dan Castellaneta\n",
      " Nancy Cartwright\n",
      " Yeardley Smith\n",
      " Tress MacNeille\n",
      " Hank Azaria\n",
      "{'Chris Diamantopoulos': 1, ' Tony Anselmo': 1, ' Tress MacNeille': 2, ' Bill Farmer': 1, ' Russi Taylor': 2, ' Corey Burton': 1, 'Jim Varney': 1, ' Noelle Parker': 1, ' Douglas Seale': 1, 'Raymond Albert Romano': 1, ' John Leguizamo': 1, ' Denis Leary': 1, ' Queen Latifah': 1, 'Darren Criss': 1, ' Adam Lambert': 1, ' Derek Hough': 1, ' Alexander Jean': 1, ' Fall Out Boy': 1, ' Jimmie Allen': 1, 'John Lennon': 1, ' Paul McCartney': 1, ' George Harrison': 1, ' Ringo Starr': 1, 'Jacques Yves Cousteau': 1, ' Vincent Cassel': 1, 'Jeremy Renner': 1, ' Hailee Steinfeld': 1, ' Vera Farmiga': 1, ' Fra Fee': 1, ' Tony Dalton': 1, ' Zahn McClarnon': 1, 'Gary Muehlberger': 1, ' Mary Miller': 1, ' Curly Leach': 1, ' Sam Carlson': 1, ' Stuart Andrews': 1, ' David Squibb': 1, 'Dr. Ray Ball': 2, ' Dr. Lauren Smith': 2, ' Chris Massaro': 2, ' Tiffany Burns': 2, ' Mike Burns': 2, ' Melinda Mendolusky': 2, 'Don Hahn': 1, ' Kathryn Beaumont': 1, ' Pete Docter': 1, ' Kevin Feige': 1, ' Mark Hamill': 1, ' Bob Iger': 1, '': 2, 'Stacy Keach': 1, ' John Lasseter': 1, ' Brad Bird': 1, ' John Musker': 1, ' Ron Clements': 1, ' Frank Thomas': 1, 'Dr. Michelle Oakley': 1, ' Zachary Fine': 1, 'Michael B. Jordan': 1, 'Jack Dylan Grazer': 1, ' Marco Barricelli': 1, 'Mia Jenness': 1, ' Alyson Hannigan': 1, ' Rob Riggle': 1, ' Spencer Moss': 1, ' Dana Heath': 1, 'Carolina Domenech': 1, ' José Jiménez Zapiola': 1, ' Kevsho': 1, ' Elena Roger': 1, ' Clara Alonso': 1, ' Emilia Mernes': 1, 'Amy Adams': 1, ' Patrick Dempsey': 1, ' James Marsden': 1, ' Timothy Spall': 1, ' Idina Menzel': 2, ' Susan Sarandon': 1, 'Stephen Apostolina': 1, ' Kirk Baily': 1, ' Ben Bledsoe': 1, ' David Cowgill': 1, ' Terri Douglas': 1, ' Fuschia!': 1, 'Kristen Bell': 1, ' Jonathan Groff': 1, ' Josh Gad': 1, ' Santino Fontana': 1, ' Chris Williams': 1, 'Walt Disney': 1, ' Marcellite Garner': 1, ' Billy Bletcher': 1, ' Will Ryan': 1, ' Bob Bergen': 1, 'Ellie Kemper': 1, ' Rob Delaney': 1, ' Archie Yates': 1, ' Aisling Bea': 1, ' Kenan Thompson': 1, ' Tim Simons': 1, 'Dwayne Johnson': 1, ' Emily Blunt': 1, ' Edgar Ramirez': 1, ' Jack Whitehall': 1, ' Jesse Plemons': 1, ' Paul Giamatti': 1, 'Chris Hemsworth': 1, 'Josh Gad': 1, 'John Kahrs': 1, ' Kari Wahlgren': 2, 'Pete Docter': 1, ' Larry the Cable Guy': 1, ' Jack Dylan Grazer': 1, ' Domee Shi': 1, ' Angus MacLane': 1, 'Simu Liu': 1, ' Awkwafina': 1, ' Tony Leung': 1, ' Michelle Yeoh': 1, \" Meng'er Zhang\": 1, ' Ben Kingsley': 1, 'Avantika': 1, ' Michael Bishop': 1, ' Anna Cathcart': 1, ' Jahbril Cook': 1, ' Kerri Medders': 1, ' Aryan Simhadri': 1, 'Mandy Moore': 1, ' Zachary Levi': 1, ' Alan Dale': 1, ' Paul F. Tompkins': 1, ' Mark Allen Stewart': 1, 'Billy Connolly': 1, 'Billie Eilish': 1, ' FINNEAS': 1, ' Gustavo Dudamel': 1, ' Patrick Osborne': 1, ' Robert Rodriguez': 1, 'Kyla Pratt': 1, ' Tommy Davidson': 1, ' Paula Jai Parker': 1, ' JoMarie Payton': 1, ' Cedric the Entertainer': 1, 'Dan Castellaneta': 1, ' Nancy Cartwright': 1, ' Yeardley Smith': 1, ' Hank Azaria': 1}\n",
      "\n",
      "{'Chris Diamantopoulos': 1, ' Tony Anselmo': 1, ' Tress MacNeille': 2, ' Bill Farmer': 1, ' Russi Taylor': 2, ' Corey Burton': 1, 'Jim Varney': 1, ' Noelle Parker': 1, ' Douglas Seale': 1, 'Raymond Albert Romano': 1, ' John Leguizamo': 1, ' Denis Leary': 1, ' Queen Latifah': 1, 'Darren Criss': 1, ' Adam Lambert': 1, ' Derek Hough': 1, ' Alexander Jean': 1, ' Fall Out Boy': 1, ' Jimmie Allen': 1, 'John Lennon': 1, ' Paul McCartney': 1, ' George Harrison': 1, ' Ringo Starr': 1, 'Jacques Yves Cousteau': 1, ' Vincent Cassel': 1, 'Jeremy Renner': 1, ' Hailee Steinfeld': 1, ' Vera Farmiga': 1, ' Fra Fee': 1, ' Tony Dalton': 1, ' Zahn McClarnon': 1, 'Gary Muehlberger': 1, ' Mary Miller': 1, ' Curly Leach': 1, ' Sam Carlson': 1, ' Stuart Andrews': 1, ' David Squibb': 1, 'Dr. Ray Ball': 2, ' Dr. Lauren Smith': 2, ' Chris Massaro': 2, ' Tiffany Burns': 2, ' Mike Burns': 2, ' Melinda Mendolusky': 2, 'Don Hahn': 1, ' Kathryn Beaumont': 1, ' Pete Docter': 1, ' Kevin Feige': 1, ' Mark Hamill': 1, ' Bob Iger': 1, '': 2, 'Stacy Keach': 1, ' John Lasseter': 1, ' Brad Bird': 1, ' John Musker': 1, ' Ron Clements': 1, ' Frank Thomas': 1, 'Dr. Michelle Oakley': 1, ' Zachary Fine': 1, 'Michael B. Jordan': 1, 'Jack Dylan Grazer': 1, ' Marco Barricelli': 1, 'Mia Jenness': 1, ' Alyson Hannigan': 1, ' Rob Riggle': 1, ' Spencer Moss': 1, ' Dana Heath': 1, 'Carolina Domenech': 1, ' José Jiménez Zapiola': 1, ' Kevsho': 1, ' Elena Roger': 1, ' Clara Alonso': 1, ' Emilia Mernes': 1, 'Amy Adams': 1, ' Patrick Dempsey': 1, ' James Marsden': 1, ' Timothy Spall': 1, ' Idina Menzel': 2, ' Susan Sarandon': 1, 'Stephen Apostolina': 1, ' Kirk Baily': 1, ' Ben Bledsoe': 1, ' David Cowgill': 1, ' Terri Douglas': 1, ' Fuschia!': 1, 'Kristen Bell': 1, ' Jonathan Groff': 1, ' Josh Gad': 1, ' Santino Fontana': 1, ' Chris Williams': 1, 'Walt Disney': 1, ' Marcellite Garner': 1, ' Billy Bletcher': 1, ' Will Ryan': 1, ' Bob Bergen': 1, 'Ellie Kemper': 1, ' Rob Delaney': 1, ' Archie Yates': 1, ' Aisling Bea': 1, ' Kenan Thompson': 1, ' Tim Simons': 1, 'Dwayne Johnson': 1, ' Emily Blunt': 1, ' Edgar Ramirez': 1, ' Jack Whitehall': 1, ' Jesse Plemons': 1, ' Paul Giamatti': 1, 'Chris Hemsworth': 1, 'Josh Gad': 1, 'John Kahrs': 1, ' Kari Wahlgren': 2, 'Pete Docter': 1, ' Larry the Cable Guy': 1, ' Jack Dylan Grazer': 1, ' Domee Shi': 1, ' Angus MacLane': 1, 'Simu Liu': 1, ' Awkwafina': 1, ' Tony Leung': 1, ' Michelle Yeoh': 1, \" Meng'er Zhang\": 1, ' Ben Kingsley': 1, 'Avantika': 1, ' Michael Bishop': 1, ' Anna Cathcart': 1, ' Jahbril Cook': 1, ' Kerri Medders': 1, ' Aryan Simhadri': 1, 'Mandy Moore': 1, ' Zachary Levi': 1, ' Alan Dale': 1, ' Paul F. Tompkins': 1, ' Mark Allen Stewart': 1, 'Billy Connolly': 1, 'Billie Eilish': 1, ' FINNEAS': 1, ' Gustavo Dudamel': 1, ' Patrick Osborne': 1, ' Robert Rodriguez': 1, 'Kyla Pratt': 1, ' Tommy Davidson': 1, ' Paula Jai Parker': 1, ' JoMarie Payton': 1, ' Cedric the Entertainer': 1, 'Dan Castellaneta': 1, ' Nancy Cartwright': 1, ' Yeardley Smith': 1, ' Hank Azaria': 1}\n",
      "\n",
      "{'Chris Diamantopoulos': 1, ' Tony Anselmo': 1, ' Tress MacNeille': 2, ' Bill Farmer': 1, ' Russi Taylor': 2, ' Corey Burton': 1, 'Jim Varney': 1, ' Noelle Parker': 1, ' Douglas Seale': 1, 'Raymond Albert Romano': 1, ' John Leguizamo': 1, ' Denis Leary': 1, ' Queen Latifah': 1, 'Darren Criss': 1, ' Adam Lambert': 1, ' Derek Hough': 1, ' Alexander Jean': 1, ' Fall Out Boy': 1, ' Jimmie Allen': 1, 'John Lennon': 1, ' Paul McCartney': 1, ' George Harrison': 1, ' Ringo Starr': 1, 'Jacques Yves Cousteau': 1, ' Vincent Cassel': 1, 'Jeremy Renner': 1, ' Hailee Steinfeld': 1, ' Vera Farmiga': 1, ' Fra Fee': 1, ' Tony Dalton': 1, ' Zahn McClarnon': 1, 'Gary Muehlberger': 1, ' Mary Miller': 1, ' Curly Leach': 1, ' Sam Carlson': 1, ' Stuart Andrews': 1, ' David Squibb': 1, 'Dr. Ray Ball': 2, ' Dr. Lauren Smith': 2, ' Chris Massaro': 2, ' Tiffany Burns': 2, ' Mike Burns': 2, ' Melinda Mendolusky': 2, 'Don Hahn': 1, ' Kathryn Beaumont': 1, ' Pete Docter': 1, ' Kevin Feige': 1, ' Mark Hamill': 1, ' Bob Iger': 1, '': 2, 'Stacy Keach': 1, ' John Lasseter': 1, ' Brad Bird': 1, ' John Musker': 1, ' Ron Clements': 1, ' Frank Thomas': 1, 'Dr. Michelle Oakley': 1, ' Zachary Fine': 1, 'Michael B. Jordan': 1, 'Jack Dylan Grazer': 1, ' Marco Barricelli': 1, 'Mia Jenness': 1, ' Alyson Hannigan': 1, ' Rob Riggle': 1, ' Spencer Moss': 1, ' Dana Heath': 1, 'Carolina Domenech': 1, ' José Jiménez Zapiola': 1, ' Kevsho': 1, ' Elena Roger': 1, ' Clara Alonso': 1, ' Emilia Mernes': 1, 'Amy Adams': 1, ' Patrick Dempsey': 1, ' James Marsden': 1, ' Timothy Spall': 1, ' Idina Menzel': 2, ' Susan Sarandon': 1, 'Stephen Apostolina': 1, ' Kirk Baily': 1, ' Ben Bledsoe': 1, ' David Cowgill': 1, ' Terri Douglas': 1, ' Fuschia!': 1, 'Kristen Bell': 1, ' Jonathan Groff': 1, ' Josh Gad': 1, ' Santino Fontana': 1, ' Chris Williams': 1, 'Walt Disney': 1, ' Marcellite Garner': 1, ' Billy Bletcher': 1, ' Will Ryan': 1, ' Bob Bergen': 1, 'Ellie Kemper': 1, ' Rob Delaney': 1, ' Archie Yates': 1, ' Aisling Bea': 1, ' Kenan Thompson': 1, ' Tim Simons': 1, 'Dwayne Johnson': 1, ' Emily Blunt': 1, ' Edgar Ramirez': 1, ' Jack Whitehall': 1, ' Jesse Plemons': 1, ' Paul Giamatti': 1, 'Chris Hemsworth': 1, 'Josh Gad': 1, 'John Kahrs': 1, ' Kari Wahlgren': 2, 'Pete Docter': 1, ' Larry the Cable Guy': 1, ' Jack Dylan Grazer': 1, ' Domee Shi': 1, ' Angus MacLane': 1, 'Simu Liu': 1, ' Awkwafina': 1, ' Tony Leung': 1, ' Michelle Yeoh': 1, \" Meng'er Zhang\": 1, ' Ben Kingsley': 1, 'Avantika': 1, ' Michael Bishop': 1, ' Anna Cathcart': 1, ' Jahbril Cook': 1, ' Kerri Medders': 1, ' Aryan Simhadri': 1, 'Mandy Moore': 1, ' Zachary Levi': 1, ' Alan Dale': 1, ' Paul F. Tompkins': 1, ' Mark Allen Stewart': 1, 'Billy Connolly': 1, 'Billie Eilish': 1, ' FINNEAS': 1, ' Gustavo Dudamel': 1, ' Patrick Osborne': 1, ' Robert Rodriguez': 1, 'Kyla Pratt': 1, ' Tommy Davidson': 1, ' Paula Jai Parker': 1, ' JoMarie Payton': 1, ' Cedric the Entertainer': 1, 'Dan Castellaneta': 1, ' Nancy Cartwright': 1, ' Yeardley Smith': 1, ' Hank Azaria': 1}\n",
      "\n",
      "{'Chris Diamantopoulos': 1, ' Tony Anselmo': 1, ' Tress MacNeille': 2, ' Bill Farmer': 1, ' Russi Taylor': 2, ' Corey Burton': 1, 'Jim Varney': 1, ' Noelle Parker': 1, ' Douglas Seale': 1, 'Raymond Albert Romano': 1, ' John Leguizamo': 1, ' Denis Leary': 1, ' Queen Latifah': 1, 'Darren Criss': 1, ' Adam Lambert': 1, ' Derek Hough': 1, ' Alexander Jean': 1, ' Fall Out Boy': 1, ' Jimmie Allen': 1, 'John Lennon': 1, ' Paul McCartney': 1, ' George Harrison': 1, ' Ringo Starr': 1, 'Jacques Yves Cousteau': 1, ' Vincent Cassel': 1, 'Jeremy Renner': 1, ' Hailee Steinfeld': 1, ' Vera Farmiga': 1, ' Fra Fee': 1, ' Tony Dalton': 1, ' Zahn McClarnon': 1, 'Gary Muehlberger': 1, ' Mary Miller': 1, ' Curly Leach': 1, ' Sam Carlson': 1, ' Stuart Andrews': 1, ' David Squibb': 1, 'Dr. Ray Ball': 2, ' Dr. Lauren Smith': 2, ' Chris Massaro': 2, ' Tiffany Burns': 2, ' Mike Burns': 2, ' Melinda Mendolusky': 2, 'Don Hahn': 1, ' Kathryn Beaumont': 1, ' Pete Docter': 1, ' Kevin Feige': 1, ' Mark Hamill': 1, ' Bob Iger': 1, '': 2, 'Stacy Keach': 1, ' John Lasseter': 1, ' Brad Bird': 1, ' John Musker': 1, ' Ron Clements': 1, ' Frank Thomas': 1, 'Dr. Michelle Oakley': 1, ' Zachary Fine': 1, 'Michael B. Jordan': 1, 'Jack Dylan Grazer': 1, ' Marco Barricelli': 1, 'Mia Jenness': 1, ' Alyson Hannigan': 1, ' Rob Riggle': 1, ' Spencer Moss': 1, ' Dana Heath': 1, 'Carolina Domenech': 1, ' José Jiménez Zapiola': 1, ' Kevsho': 1, ' Elena Roger': 1, ' Clara Alonso': 1, ' Emilia Mernes': 1, 'Amy Adams': 1, ' Patrick Dempsey': 1, ' James Marsden': 1, ' Timothy Spall': 1, ' Idina Menzel': 2, ' Susan Sarandon': 1, 'Stephen Apostolina': 1, ' Kirk Baily': 1, ' Ben Bledsoe': 1, ' David Cowgill': 1, ' Terri Douglas': 1, ' Fuschia!': 1, 'Kristen Bell': 1, ' Jonathan Groff': 1, ' Josh Gad': 1, ' Santino Fontana': 1, ' Chris Williams': 1, 'Walt Disney': 1, ' Marcellite Garner': 1, ' Billy Bletcher': 1, ' Will Ryan': 1, ' Bob Bergen': 1, 'Ellie Kemper': 1, ' Rob Delaney': 1, ' Archie Yates': 1, ' Aisling Bea': 1, ' Kenan Thompson': 1, ' Tim Simons': 1, 'Dwayne Johnson': 1, ' Emily Blunt': 1, ' Edgar Ramirez': 1, ' Jack Whitehall': 1, ' Jesse Plemons': 1, ' Paul Giamatti': 1, 'Chris Hemsworth': 1, 'Josh Gad': 1, 'John Kahrs': 1, ' Kari Wahlgren': 2, 'Pete Docter': 1, ' Larry the Cable Guy': 1, ' Jack Dylan Grazer': 1, ' Domee Shi': 1, ' Angus MacLane': 1, 'Simu Liu': 1, ' Awkwafina': 1, ' Tony Leung': 1, ' Michelle Yeoh': 1, \" Meng'er Zhang\": 1, ' Ben Kingsley': 1, 'Avantika': 1, ' Michael Bishop': 1, ' Anna Cathcart': 1, ' Jahbril Cook': 1, ' Kerri Medders': 1, ' Aryan Simhadri': 1, 'Mandy Moore': 1, ' Zachary Levi': 1, ' Alan Dale': 1, ' Paul F. Tompkins': 1, ' Mark Allen Stewart': 1, 'Billy Connolly': 1, 'Billie Eilish': 1, ' FINNEAS': 1, ' Gustavo Dudamel': 1, ' Patrick Osborne': 1, ' Robert Rodriguez': 1, 'Kyla Pratt': 1, ' Tommy Davidson': 1, ' Paula Jai Parker': 1, ' JoMarie Payton': 1, ' Cedric the Entertainer': 1, 'Dan Castellaneta': 1, ' Nancy Cartwright': 1, ' Yeardley Smith': 1, ' Hank Azaria': 1}\n",
      "Jason Lee\n",
      " David Cross\n",
      " Jenny Slate\n",
      " Justin Long\n",
      " Matthew Gray Gubler\n",
      " Jesse McCartney\n",
      "{'Chris Diamantopoulos': 1, ' Tony Anselmo': 1, ' Tress MacNeille': 2, ' Bill Farmer': 1, ' Russi Taylor': 2, ' Corey Burton': 1, 'Jim Varney': 1, ' Noelle Parker': 1, ' Douglas Seale': 1, 'Raymond Albert Romano': 1, ' John Leguizamo': 1, ' Denis Leary': 1, ' Queen Latifah': 1, 'Darren Criss': 1, ' Adam Lambert': 1, ' Derek Hough': 1, ' Alexander Jean': 1, ' Fall Out Boy': 1, ' Jimmie Allen': 1, 'John Lennon': 1, ' Paul McCartney': 1, ' George Harrison': 1, ' Ringo Starr': 1, 'Jacques Yves Cousteau': 1, ' Vincent Cassel': 1, 'Jeremy Renner': 1, ' Hailee Steinfeld': 1, ' Vera Farmiga': 1, ' Fra Fee': 1, ' Tony Dalton': 1, ' Zahn McClarnon': 1, 'Gary Muehlberger': 1, ' Mary Miller': 1, ' Curly Leach': 1, ' Sam Carlson': 1, ' Stuart Andrews': 1, ' David Squibb': 1, 'Dr. Ray Ball': 2, ' Dr. Lauren Smith': 2, ' Chris Massaro': 2, ' Tiffany Burns': 2, ' Mike Burns': 2, ' Melinda Mendolusky': 2, 'Don Hahn': 1, ' Kathryn Beaumont': 1, ' Pete Docter': 1, ' Kevin Feige': 1, ' Mark Hamill': 1, ' Bob Iger': 1, '': 2, 'Stacy Keach': 1, ' John Lasseter': 1, ' Brad Bird': 1, ' John Musker': 1, ' Ron Clements': 1, ' Frank Thomas': 1, 'Dr. Michelle Oakley': 1, ' Zachary Fine': 1, 'Michael B. Jordan': 1, 'Jack Dylan Grazer': 1, ' Marco Barricelli': 1, 'Mia Jenness': 1, ' Alyson Hannigan': 1, ' Rob Riggle': 1, ' Spencer Moss': 1, ' Dana Heath': 1, 'Carolina Domenech': 1, ' José Jiménez Zapiola': 1, ' Kevsho': 1, ' Elena Roger': 1, ' Clara Alonso': 1, ' Emilia Mernes': 1, 'Amy Adams': 1, ' Patrick Dempsey': 1, ' James Marsden': 1, ' Timothy Spall': 1, ' Idina Menzel': 2, ' Susan Sarandon': 1, 'Stephen Apostolina': 1, ' Kirk Baily': 1, ' Ben Bledsoe': 1, ' David Cowgill': 1, ' Terri Douglas': 1, ' Fuschia!': 1, 'Kristen Bell': 1, ' Jonathan Groff': 1, ' Josh Gad': 1, ' Santino Fontana': 1, ' Chris Williams': 1, 'Walt Disney': 1, ' Marcellite Garner': 1, ' Billy Bletcher': 1, ' Will Ryan': 1, ' Bob Bergen': 1, 'Ellie Kemper': 1, ' Rob Delaney': 1, ' Archie Yates': 1, ' Aisling Bea': 1, ' Kenan Thompson': 1, ' Tim Simons': 1, 'Dwayne Johnson': 1, ' Emily Blunt': 1, ' Edgar Ramirez': 1, ' Jack Whitehall': 1, ' Jesse Plemons': 1, ' Paul Giamatti': 1, 'Chris Hemsworth': 1, 'Josh Gad': 1, 'John Kahrs': 1, ' Kari Wahlgren': 2, 'Pete Docter': 1, ' Larry the Cable Guy': 1, ' Jack Dylan Grazer': 1, ' Domee Shi': 1, ' Angus MacLane': 1, 'Simu Liu': 1, ' Awkwafina': 1, ' Tony Leung': 1, ' Michelle Yeoh': 1, \" Meng'er Zhang\": 1, ' Ben Kingsley': 1, 'Avantika': 1, ' Michael Bishop': 1, ' Anna Cathcart': 1, ' Jahbril Cook': 1, ' Kerri Medders': 1, ' Aryan Simhadri': 1, 'Mandy Moore': 1, ' Zachary Levi': 1, ' Alan Dale': 1, ' Paul F. Tompkins': 1, ' Mark Allen Stewart': 1, 'Billy Connolly': 1, 'Billie Eilish': 1, ' FINNEAS': 1, ' Gustavo Dudamel': 1, ' Patrick Osborne': 1, ' Robert Rodriguez': 1, 'Kyla Pratt': 1, ' Tommy Davidson': 1, ' Paula Jai Parker': 1, ' JoMarie Payton': 1, ' Cedric the Entertainer': 1, 'Dan Castellaneta': 1, ' Nancy Cartwright': 1, ' Yeardley Smith': 1, ' Hank Azaria': 1, 'Jason Lee': 1, ' David Cross': 1, ' Jenny Slate': 1, ' Justin Long': 1, ' Matthew Gray Gubler': 1, ' Jesse McCartney': 1}\n",
      "Arnold Schwarzenegger\n",
      " Sinbad\n",
      " Phil Hartman\n",
      " Rita Wilson\n",
      " Robert Conrad\n",
      " Martin Mull\n",
      "{'Chris Diamantopoulos': 1, ' Tony Anselmo': 1, ' Tress MacNeille': 2, ' Bill Farmer': 1, ' Russi Taylor': 2, ' Corey Burton': 1, 'Jim Varney': 1, ' Noelle Parker': 1, ' Douglas Seale': 1, 'Raymond Albert Romano': 1, ' John Leguizamo': 1, ' Denis Leary': 1, ' Queen Latifah': 1, 'Darren Criss': 1, ' Adam Lambert': 1, ' Derek Hough': 1, ' Alexander Jean': 1, ' Fall Out Boy': 1, ' Jimmie Allen': 1, 'John Lennon': 1, ' Paul McCartney': 1, ' George Harrison': 1, ' Ringo Starr': 1, 'Jacques Yves Cousteau': 1, ' Vincent Cassel': 1, 'Jeremy Renner': 1, ' Hailee Steinfeld': 1, ' Vera Farmiga': 1, ' Fra Fee': 1, ' Tony Dalton': 1, ' Zahn McClarnon': 1, 'Gary Muehlberger': 1, ' Mary Miller': 1, ' Curly Leach': 1, ' Sam Carlson': 1, ' Stuart Andrews': 1, ' David Squibb': 1, 'Dr. Ray Ball': 2, ' Dr. Lauren Smith': 2, ' Chris Massaro': 2, ' Tiffany Burns': 2, ' Mike Burns': 2, ' Melinda Mendolusky': 2, 'Don Hahn': 1, ' Kathryn Beaumont': 1, ' Pete Docter': 1, ' Kevin Feige': 1, ' Mark Hamill': 1, ' Bob Iger': 1, '': 2, 'Stacy Keach': 1, ' John Lasseter': 1, ' Brad Bird': 1, ' John Musker': 1, ' Ron Clements': 1, ' Frank Thomas': 1, 'Dr. Michelle Oakley': 1, ' Zachary Fine': 1, 'Michael B. Jordan': 1, 'Jack Dylan Grazer': 1, ' Marco Barricelli': 1, 'Mia Jenness': 1, ' Alyson Hannigan': 1, ' Rob Riggle': 1, ' Spencer Moss': 1, ' Dana Heath': 1, 'Carolina Domenech': 1, ' José Jiménez Zapiola': 1, ' Kevsho': 1, ' Elena Roger': 1, ' Clara Alonso': 1, ' Emilia Mernes': 1, 'Amy Adams': 1, ' Patrick Dempsey': 1, ' James Marsden': 1, ' Timothy Spall': 1, ' Idina Menzel': 2, ' Susan Sarandon': 1, 'Stephen Apostolina': 1, ' Kirk Baily': 1, ' Ben Bledsoe': 1, ' David Cowgill': 1, ' Terri Douglas': 1, ' Fuschia!': 1, 'Kristen Bell': 1, ' Jonathan Groff': 1, ' Josh Gad': 1, ' Santino Fontana': 1, ' Chris Williams': 1, 'Walt Disney': 1, ' Marcellite Garner': 1, ' Billy Bletcher': 1, ' Will Ryan': 1, ' Bob Bergen': 1, 'Ellie Kemper': 1, ' Rob Delaney': 1, ' Archie Yates': 1, ' Aisling Bea': 1, ' Kenan Thompson': 1, ' Tim Simons': 1, 'Dwayne Johnson': 1, ' Emily Blunt': 1, ' Edgar Ramirez': 1, ' Jack Whitehall': 1, ' Jesse Plemons': 1, ' Paul Giamatti': 1, 'Chris Hemsworth': 1, 'Josh Gad': 1, 'John Kahrs': 1, ' Kari Wahlgren': 2, 'Pete Docter': 1, ' Larry the Cable Guy': 1, ' Jack Dylan Grazer': 1, ' Domee Shi': 1, ' Angus MacLane': 1, 'Simu Liu': 1, ' Awkwafina': 1, ' Tony Leung': 1, ' Michelle Yeoh': 1, \" Meng'er Zhang\": 1, ' Ben Kingsley': 1, 'Avantika': 1, ' Michael Bishop': 1, ' Anna Cathcart': 1, ' Jahbril Cook': 1, ' Kerri Medders': 1, ' Aryan Simhadri': 1, 'Mandy Moore': 1, ' Zachary Levi': 1, ' Alan Dale': 1, ' Paul F. Tompkins': 1, ' Mark Allen Stewart': 1, 'Billy Connolly': 1, 'Billie Eilish': 1, ' FINNEAS': 1, ' Gustavo Dudamel': 1, ' Patrick Osborne': 1, ' Robert Rodriguez': 1, 'Kyla Pratt': 1, ' Tommy Davidson': 1, ' Paula Jai Parker': 1, ' JoMarie Payton': 1, ' Cedric the Entertainer': 1, 'Dan Castellaneta': 1, ' Nancy Cartwright': 1, ' Yeardley Smith': 1, ' Hank Azaria': 1, 'Jason Lee': 1, ' David Cross': 1, ' Jenny Slate': 1, ' Justin Long': 1, ' Matthew Gray Gubler': 1, ' Jesse McCartney': 1, 'Arnold Schwarzenegger': 1, ' Sinbad': 1, ' Phil Hartman': 1, ' Rita Wilson': 1, ' Robert Conrad': 1, ' Martin Mull': 1}\n",
      "Larry the Cable Guy\n",
      " Brian Stepanek\n",
      " Santino Marella\n",
      " Kennedi Clements\n",
      " Kirsten Robek\n",
      " Rachel Hayward\n",
      "{'Chris Diamantopoulos': 1, ' Tony Anselmo': 1, ' Tress MacNeille': 2, ' Bill Farmer': 1, ' Russi Taylor': 2, ' Corey Burton': 1, 'Jim Varney': 1, ' Noelle Parker': 1, ' Douglas Seale': 1, 'Raymond Albert Romano': 1, ' John Leguizamo': 1, ' Denis Leary': 1, ' Queen Latifah': 1, 'Darren Criss': 1, ' Adam Lambert': 1, ' Derek Hough': 1, ' Alexander Jean': 1, ' Fall Out Boy': 1, ' Jimmie Allen': 1, 'John Lennon': 1, ' Paul McCartney': 1, ' George Harrison': 1, ' Ringo Starr': 1, 'Jacques Yves Cousteau': 1, ' Vincent Cassel': 1, 'Jeremy Renner': 1, ' Hailee Steinfeld': 1, ' Vera Farmiga': 1, ' Fra Fee': 1, ' Tony Dalton': 1, ' Zahn McClarnon': 1, 'Gary Muehlberger': 1, ' Mary Miller': 1, ' Curly Leach': 1, ' Sam Carlson': 1, ' Stuart Andrews': 1, ' David Squibb': 1, 'Dr. Ray Ball': 2, ' Dr. Lauren Smith': 2, ' Chris Massaro': 2, ' Tiffany Burns': 2, ' Mike Burns': 2, ' Melinda Mendolusky': 2, 'Don Hahn': 1, ' Kathryn Beaumont': 1, ' Pete Docter': 1, ' Kevin Feige': 1, ' Mark Hamill': 1, ' Bob Iger': 1, '': 2, 'Stacy Keach': 1, ' John Lasseter': 1, ' Brad Bird': 1, ' John Musker': 1, ' Ron Clements': 1, ' Frank Thomas': 1, 'Dr. Michelle Oakley': 1, ' Zachary Fine': 1, 'Michael B. Jordan': 1, 'Jack Dylan Grazer': 1, ' Marco Barricelli': 1, 'Mia Jenness': 1, ' Alyson Hannigan': 1, ' Rob Riggle': 1, ' Spencer Moss': 1, ' Dana Heath': 1, 'Carolina Domenech': 1, ' José Jiménez Zapiola': 1, ' Kevsho': 1, ' Elena Roger': 1, ' Clara Alonso': 1, ' Emilia Mernes': 1, 'Amy Adams': 1, ' Patrick Dempsey': 1, ' James Marsden': 1, ' Timothy Spall': 1, ' Idina Menzel': 2, ' Susan Sarandon': 1, 'Stephen Apostolina': 1, ' Kirk Baily': 1, ' Ben Bledsoe': 1, ' David Cowgill': 1, ' Terri Douglas': 1, ' Fuschia!': 1, 'Kristen Bell': 1, ' Jonathan Groff': 1, ' Josh Gad': 1, ' Santino Fontana': 1, ' Chris Williams': 1, 'Walt Disney': 1, ' Marcellite Garner': 1, ' Billy Bletcher': 1, ' Will Ryan': 1, ' Bob Bergen': 1, 'Ellie Kemper': 1, ' Rob Delaney': 1, ' Archie Yates': 1, ' Aisling Bea': 1, ' Kenan Thompson': 1, ' Tim Simons': 1, 'Dwayne Johnson': 1, ' Emily Blunt': 1, ' Edgar Ramirez': 1, ' Jack Whitehall': 1, ' Jesse Plemons': 1, ' Paul Giamatti': 1, 'Chris Hemsworth': 1, 'Josh Gad': 1, 'John Kahrs': 1, ' Kari Wahlgren': 2, 'Pete Docter': 1, ' Larry the Cable Guy': 1, ' Jack Dylan Grazer': 1, ' Domee Shi': 1, ' Angus MacLane': 1, 'Simu Liu': 1, ' Awkwafina': 1, ' Tony Leung': 1, ' Michelle Yeoh': 1, \" Meng'er Zhang\": 1, ' Ben Kingsley': 1, 'Avantika': 1, ' Michael Bishop': 1, ' Anna Cathcart': 1, ' Jahbril Cook': 1, ' Kerri Medders': 1, ' Aryan Simhadri': 1, 'Mandy Moore': 1, ' Zachary Levi': 1, ' Alan Dale': 1, ' Paul F. Tompkins': 1, ' Mark Allen Stewart': 1, 'Billy Connolly': 1, 'Billie Eilish': 1, ' FINNEAS': 1, ' Gustavo Dudamel': 1, ' Patrick Osborne': 1, ' Robert Rodriguez': 1, 'Kyla Pratt': 1, ' Tommy Davidson': 1, ' Paula Jai Parker': 1, ' JoMarie Payton': 1, ' Cedric the Entertainer': 1, 'Dan Castellaneta': 1, ' Nancy Cartwright': 1, ' Yeardley Smith': 1, ' Hank Azaria': 1, 'Jason Lee': 1, ' David Cross': 1, ' Jenny Slate': 1, ' Justin Long': 1, ' Matthew Gray Gubler': 1, ' Jesse McCartney': 1, 'Arnold Schwarzenegger': 1, ' Sinbad': 1, ' Phil Hartman': 1, ' Rita Wilson': 1, ' Robert Conrad': 1, ' Martin Mull': 1, 'Larry the Cable Guy': 1, ' Brian Stepanek': 1, ' Santino Marella': 1, ' Kennedi Clements': 1, ' Kirsten Robek': 1, ' Rachel Hayward': 1}\n",
      "Betty White\n",
      " Dave Foley\n",
      " Derek Richardson\n",
      " Sarah Chalke\n",
      " W. Morgan Sheppard\n",
      "{'Chris Diamantopoulos': 1, ' Tony Anselmo': 1, ' Tress MacNeille': 2, ' Bill Farmer': 1, ' Russi Taylor': 2, ' Corey Burton': 1, 'Jim Varney': 1, ' Noelle Parker': 1, ' Douglas Seale': 1, 'Raymond Albert Romano': 1, ' John Leguizamo': 1, ' Denis Leary': 1, ' Queen Latifah': 1, 'Darren Criss': 1, ' Adam Lambert': 1, ' Derek Hough': 1, ' Alexander Jean': 1, ' Fall Out Boy': 1, ' Jimmie Allen': 1, 'John Lennon': 1, ' Paul McCartney': 1, ' George Harrison': 1, ' Ringo Starr': 1, 'Jacques Yves Cousteau': 1, ' Vincent Cassel': 1, 'Jeremy Renner': 1, ' Hailee Steinfeld': 1, ' Vera Farmiga': 1, ' Fra Fee': 1, ' Tony Dalton': 1, ' Zahn McClarnon': 1, 'Gary Muehlberger': 1, ' Mary Miller': 1, ' Curly Leach': 1, ' Sam Carlson': 1, ' Stuart Andrews': 1, ' David Squibb': 1, 'Dr. Ray Ball': 2, ' Dr. Lauren Smith': 2, ' Chris Massaro': 2, ' Tiffany Burns': 2, ' Mike Burns': 2, ' Melinda Mendolusky': 2, 'Don Hahn': 1, ' Kathryn Beaumont': 1, ' Pete Docter': 1, ' Kevin Feige': 1, ' Mark Hamill': 1, ' Bob Iger': 1, '': 2, 'Stacy Keach': 1, ' John Lasseter': 1, ' Brad Bird': 1, ' John Musker': 1, ' Ron Clements': 1, ' Frank Thomas': 1, 'Dr. Michelle Oakley': 1, ' Zachary Fine': 1, 'Michael B. Jordan': 1, 'Jack Dylan Grazer': 1, ' Marco Barricelli': 1, 'Mia Jenness': 1, ' Alyson Hannigan': 1, ' Rob Riggle': 1, ' Spencer Moss': 1, ' Dana Heath': 1, 'Carolina Domenech': 1, ' José Jiménez Zapiola': 1, ' Kevsho': 1, ' Elena Roger': 1, ' Clara Alonso': 1, ' Emilia Mernes': 1, 'Amy Adams': 1, ' Patrick Dempsey': 1, ' James Marsden': 1, ' Timothy Spall': 1, ' Idina Menzel': 2, ' Susan Sarandon': 1, 'Stephen Apostolina': 1, ' Kirk Baily': 1, ' Ben Bledsoe': 1, ' David Cowgill': 1, ' Terri Douglas': 1, ' Fuschia!': 1, 'Kristen Bell': 1, ' Jonathan Groff': 1, ' Josh Gad': 1, ' Santino Fontana': 1, ' Chris Williams': 1, 'Walt Disney': 1, ' Marcellite Garner': 1, ' Billy Bletcher': 1, ' Will Ryan': 1, ' Bob Bergen': 1, 'Ellie Kemper': 1, ' Rob Delaney': 1, ' Archie Yates': 1, ' Aisling Bea': 1, ' Kenan Thompson': 1, ' Tim Simons': 1, 'Dwayne Johnson': 1, ' Emily Blunt': 1, ' Edgar Ramirez': 1, ' Jack Whitehall': 1, ' Jesse Plemons': 1, ' Paul Giamatti': 1, 'Chris Hemsworth': 1, 'Josh Gad': 1, 'John Kahrs': 1, ' Kari Wahlgren': 2, 'Pete Docter': 1, ' Larry the Cable Guy': 1, ' Jack Dylan Grazer': 1, ' Domee Shi': 1, ' Angus MacLane': 1, 'Simu Liu': 1, ' Awkwafina': 1, ' Tony Leung': 1, ' Michelle Yeoh': 1, \" Meng'er Zhang\": 1, ' Ben Kingsley': 1, 'Avantika': 1, ' Michael Bishop': 1, ' Anna Cathcart': 1, ' Jahbril Cook': 1, ' Kerri Medders': 1, ' Aryan Simhadri': 1, 'Mandy Moore': 1, ' Zachary Levi': 1, ' Alan Dale': 1, ' Paul F. Tompkins': 1, ' Mark Allen Stewart': 1, 'Billy Connolly': 1, 'Billie Eilish': 1, ' FINNEAS': 1, ' Gustavo Dudamel': 1, ' Patrick Osborne': 1, ' Robert Rodriguez': 1, 'Kyla Pratt': 1, ' Tommy Davidson': 1, ' Paula Jai Parker': 1, ' JoMarie Payton': 1, ' Cedric the Entertainer': 1, 'Dan Castellaneta': 1, ' Nancy Cartwright': 1, ' Yeardley Smith': 1, ' Hank Azaria': 1, 'Jason Lee': 1, ' David Cross': 1, ' Jenny Slate': 1, ' Justin Long': 1, ' Matthew Gray Gubler': 1, ' Jesse McCartney': 1, 'Arnold Schwarzenegger': 1, ' Sinbad': 1, ' Phil Hartman': 1, ' Rita Wilson': 1, ' Robert Conrad': 1, ' Martin Mull': 1, 'Larry the Cable Guy': 1, ' Brian Stepanek': 1, ' Santino Marella': 1, ' Kennedi Clements': 1, ' Kirsten Robek': 1, ' Rachel Hayward': 1, 'Betty White': 1, ' Dave Foley': 1, ' Derek Richardson': 1, ' Sarah Chalke': 1, ' W. Morgan Sheppard': 1}\n",
      "Christopher Lloyd\n",
      " Danny Woodburn\n",
      " Craig Anton\n",
      " Michael Teigen\n",
      " Ben Giroux\n",
      " Paul Rae\n",
      "{'Chris Diamantopoulos': 1, ' Tony Anselmo': 1, ' Tress MacNeille': 2, ' Bill Farmer': 1, ' Russi Taylor': 2, ' Corey Burton': 1, 'Jim Varney': 1, ' Noelle Parker': 1, ' Douglas Seale': 1, 'Raymond Albert Romano': 1, ' John Leguizamo': 1, ' Denis Leary': 1, ' Queen Latifah': 1, 'Darren Criss': 1, ' Adam Lambert': 1, ' Derek Hough': 1, ' Alexander Jean': 1, ' Fall Out Boy': 1, ' Jimmie Allen': 1, 'John Lennon': 1, ' Paul McCartney': 1, ' George Harrison': 1, ' Ringo Starr': 1, 'Jacques Yves Cousteau': 1, ' Vincent Cassel': 1, 'Jeremy Renner': 1, ' Hailee Steinfeld': 1, ' Vera Farmiga': 1, ' Fra Fee': 1, ' Tony Dalton': 1, ' Zahn McClarnon': 1, 'Gary Muehlberger': 1, ' Mary Miller': 1, ' Curly Leach': 1, ' Sam Carlson': 1, ' Stuart Andrews': 1, ' David Squibb': 1, 'Dr. Ray Ball': 2, ' Dr. Lauren Smith': 2, ' Chris Massaro': 2, ' Tiffany Burns': 2, ' Mike Burns': 2, ' Melinda Mendolusky': 2, 'Don Hahn': 1, ' Kathryn Beaumont': 1, ' Pete Docter': 1, ' Kevin Feige': 1, ' Mark Hamill': 1, ' Bob Iger': 1, '': 2, 'Stacy Keach': 1, ' John Lasseter': 1, ' Brad Bird': 1, ' John Musker': 1, ' Ron Clements': 1, ' Frank Thomas': 1, 'Dr. Michelle Oakley': 1, ' Zachary Fine': 1, 'Michael B. Jordan': 1, 'Jack Dylan Grazer': 1, ' Marco Barricelli': 1, 'Mia Jenness': 1, ' Alyson Hannigan': 1, ' Rob Riggle': 1, ' Spencer Moss': 1, ' Dana Heath': 1, 'Carolina Domenech': 1, ' José Jiménez Zapiola': 1, ' Kevsho': 1, ' Elena Roger': 1, ' Clara Alonso': 1, ' Emilia Mernes': 1, 'Amy Adams': 1, ' Patrick Dempsey': 1, ' James Marsden': 1, ' Timothy Spall': 1, ' Idina Menzel': 2, ' Susan Sarandon': 1, 'Stephen Apostolina': 1, ' Kirk Baily': 1, ' Ben Bledsoe': 1, ' David Cowgill': 1, ' Terri Douglas': 1, ' Fuschia!': 1, 'Kristen Bell': 1, ' Jonathan Groff': 1, ' Josh Gad': 1, ' Santino Fontana': 1, ' Chris Williams': 1, 'Walt Disney': 1, ' Marcellite Garner': 1, ' Billy Bletcher': 1, ' Will Ryan': 1, ' Bob Bergen': 1, 'Ellie Kemper': 1, ' Rob Delaney': 1, ' Archie Yates': 1, ' Aisling Bea': 1, ' Kenan Thompson': 1, ' Tim Simons': 1, 'Dwayne Johnson': 1, ' Emily Blunt': 1, ' Edgar Ramirez': 1, ' Jack Whitehall': 1, ' Jesse Plemons': 1, ' Paul Giamatti': 1, 'Chris Hemsworth': 1, 'Josh Gad': 1, 'John Kahrs': 1, ' Kari Wahlgren': 2, 'Pete Docter': 1, ' Larry the Cable Guy': 1, ' Jack Dylan Grazer': 1, ' Domee Shi': 1, ' Angus MacLane': 1, 'Simu Liu': 1, ' Awkwafina': 1, ' Tony Leung': 1, ' Michelle Yeoh': 1, \" Meng'er Zhang\": 1, ' Ben Kingsley': 1, 'Avantika': 1, ' Michael Bishop': 1, ' Anna Cathcart': 1, ' Jahbril Cook': 1, ' Kerri Medders': 1, ' Aryan Simhadri': 1, 'Mandy Moore': 1, ' Zachary Levi': 1, ' Alan Dale': 1, ' Paul F. Tompkins': 1, ' Mark Allen Stewart': 1, 'Billy Connolly': 1, 'Billie Eilish': 1, ' FINNEAS': 1, ' Gustavo Dudamel': 1, ' Patrick Osborne': 1, ' Robert Rodriguez': 1, 'Kyla Pratt': 1, ' Tommy Davidson': 1, ' Paula Jai Parker': 1, ' JoMarie Payton': 1, ' Cedric the Entertainer': 1, 'Dan Castellaneta': 1, ' Nancy Cartwright': 1, ' Yeardley Smith': 1, ' Hank Azaria': 1, 'Jason Lee': 1, ' David Cross': 1, ' Jenny Slate': 1, ' Justin Long': 1, ' Matthew Gray Gubler': 1, ' Jesse McCartney': 1, 'Arnold Schwarzenegger': 1, ' Sinbad': 1, ' Phil Hartman': 1, ' Rita Wilson': 1, ' Robert Conrad': 1, ' Martin Mull': 1, 'Larry the Cable Guy': 1, ' Brian Stepanek': 1, ' Santino Marella': 1, ' Kennedi Clements': 1, ' Kirsten Robek': 1, ' Rachel Hayward': 1, 'Betty White': 1, ' Dave Foley': 1, ' Derek Richardson': 1, ' Sarah Chalke': 1, ' W. Morgan Sheppard': 1, 'Christopher Lloyd': 1, ' Danny Woodburn': 1, ' Craig Anton': 1, ' Michael Teigen': 1, ' Ben Giroux': 1, ' Paul Rae': 1}\n",
      "Dominic Scott Kay\n",
      " John Kapelos\n",
      " Lise Simms\n",
      " Mike Dopud\n",
      " Charles C. Stevenson Jr.\n",
      " Dylan Minnette\n",
      "{'Chris Diamantopoulos': 1, ' Tony Anselmo': 1, ' Tress MacNeille': 2, ' Bill Farmer': 1, ' Russi Taylor': 2, ' Corey Burton': 1, 'Jim Varney': 1, ' Noelle Parker': 1, ' Douglas Seale': 1, 'Raymond Albert Romano': 1, ' John Leguizamo': 1, ' Denis Leary': 1, ' Queen Latifah': 1, 'Darren Criss': 1, ' Adam Lambert': 1, ' Derek Hough': 1, ' Alexander Jean': 1, ' Fall Out Boy': 1, ' Jimmie Allen': 1, 'John Lennon': 1, ' Paul McCartney': 1, ' George Harrison': 1, ' Ringo Starr': 1, 'Jacques Yves Cousteau': 1, ' Vincent Cassel': 1, 'Jeremy Renner': 1, ' Hailee Steinfeld': 1, ' Vera Farmiga': 1, ' Fra Fee': 1, ' Tony Dalton': 1, ' Zahn McClarnon': 1, 'Gary Muehlberger': 1, ' Mary Miller': 1, ' Curly Leach': 1, ' Sam Carlson': 1, ' Stuart Andrews': 1, ' David Squibb': 1, 'Dr. Ray Ball': 2, ' Dr. Lauren Smith': 2, ' Chris Massaro': 2, ' Tiffany Burns': 2, ' Mike Burns': 2, ' Melinda Mendolusky': 2, 'Don Hahn': 1, ' Kathryn Beaumont': 1, ' Pete Docter': 1, ' Kevin Feige': 1, ' Mark Hamill': 1, ' Bob Iger': 1, '': 2, 'Stacy Keach': 1, ' John Lasseter': 1, ' Brad Bird': 1, ' John Musker': 1, ' Ron Clements': 1, ' Frank Thomas': 1, 'Dr. Michelle Oakley': 1, ' Zachary Fine': 1, 'Michael B. Jordan': 1, 'Jack Dylan Grazer': 1, ' Marco Barricelli': 1, 'Mia Jenness': 1, ' Alyson Hannigan': 1, ' Rob Riggle': 1, ' Spencer Moss': 1, ' Dana Heath': 1, 'Carolina Domenech': 1, ' José Jiménez Zapiola': 1, ' Kevsho': 1, ' Elena Roger': 1, ' Clara Alonso': 1, ' Emilia Mernes': 1, 'Amy Adams': 1, ' Patrick Dempsey': 1, ' James Marsden': 1, ' Timothy Spall': 1, ' Idina Menzel': 2, ' Susan Sarandon': 1, 'Stephen Apostolina': 1, ' Kirk Baily': 1, ' Ben Bledsoe': 1, ' David Cowgill': 1, ' Terri Douglas': 1, ' Fuschia!': 1, 'Kristen Bell': 1, ' Jonathan Groff': 1, ' Josh Gad': 1, ' Santino Fontana': 1, ' Chris Williams': 1, 'Walt Disney': 1, ' Marcellite Garner': 1, ' Billy Bletcher': 1, ' Will Ryan': 1, ' Bob Bergen': 1, 'Ellie Kemper': 1, ' Rob Delaney': 1, ' Archie Yates': 1, ' Aisling Bea': 1, ' Kenan Thompson': 1, ' Tim Simons': 1, 'Dwayne Johnson': 1, ' Emily Blunt': 1, ' Edgar Ramirez': 1, ' Jack Whitehall': 1, ' Jesse Plemons': 1, ' Paul Giamatti': 1, 'Chris Hemsworth': 1, 'Josh Gad': 1, 'John Kahrs': 1, ' Kari Wahlgren': 2, 'Pete Docter': 1, ' Larry the Cable Guy': 1, ' Jack Dylan Grazer': 1, ' Domee Shi': 1, ' Angus MacLane': 1, 'Simu Liu': 1, ' Awkwafina': 1, ' Tony Leung': 1, ' Michelle Yeoh': 1, \" Meng'er Zhang\": 1, ' Ben Kingsley': 1, 'Avantika': 1, ' Michael Bishop': 1, ' Anna Cathcart': 1, ' Jahbril Cook': 1, ' Kerri Medders': 1, ' Aryan Simhadri': 1, 'Mandy Moore': 1, ' Zachary Levi': 1, ' Alan Dale': 1, ' Paul F. Tompkins': 1, ' Mark Allen Stewart': 1, 'Billy Connolly': 1, 'Billie Eilish': 1, ' FINNEAS': 1, ' Gustavo Dudamel': 1, ' Patrick Osborne': 1, ' Robert Rodriguez': 1, 'Kyla Pratt': 1, ' Tommy Davidson': 1, ' Paula Jai Parker': 1, ' JoMarie Payton': 1, ' Cedric the Entertainer': 1, 'Dan Castellaneta': 1, ' Nancy Cartwright': 1, ' Yeardley Smith': 1, ' Hank Azaria': 1, 'Jason Lee': 1, ' David Cross': 1, ' Jenny Slate': 1, ' Justin Long': 1, ' Matthew Gray Gubler': 1, ' Jesse McCartney': 1, 'Arnold Schwarzenegger': 1, ' Sinbad': 1, ' Phil Hartman': 1, ' Rita Wilson': 1, ' Robert Conrad': 1, ' Martin Mull': 1, 'Larry the Cable Guy': 1, ' Brian Stepanek': 1, ' Santino Marella': 1, ' Kennedi Clements': 1, ' Kirsten Robek': 1, ' Rachel Hayward': 1, 'Betty White': 1, ' Dave Foley': 1, ' Derek Richardson': 1, ' Sarah Chalke': 1, ' W. Morgan Sheppard': 1, 'Christopher Lloyd': 1, ' Danny Woodburn': 1, ' Craig Anton': 1, ' Michael Teigen': 1, ' Ben Giroux': 1, ' Paul Rae': 1, 'Dominic Scott Kay': 1, ' John Kapelos': 1, ' Lise Simms': 1, ' Mike Dopud': 1, ' Charles C. Stevenson Jr.': 1, ' Dylan Minnette': 1}\n",
      "F.T. Anderson\n",
      " Diedrich Bader\n",
      " Field Cate\n",
      " Kendall Cross\n",
      " Mike Dopud\n",
      " Mark Downey\n",
      "{'Chris Diamantopoulos': 1, ' Tony Anselmo': 1, ' Tress MacNeille': 2, ' Bill Farmer': 1, ' Russi Taylor': 2, ' Corey Burton': 1, 'Jim Varney': 1, ' Noelle Parker': 1, ' Douglas Seale': 1, 'Raymond Albert Romano': 1, ' John Leguizamo': 1, ' Denis Leary': 1, ' Queen Latifah': 1, 'Darren Criss': 1, ' Adam Lambert': 1, ' Derek Hough': 1, ' Alexander Jean': 1, ' Fall Out Boy': 1, ' Jimmie Allen': 1, 'John Lennon': 1, ' Paul McCartney': 1, ' George Harrison': 1, ' Ringo Starr': 1, 'Jacques Yves Cousteau': 1, ' Vincent Cassel': 1, 'Jeremy Renner': 1, ' Hailee Steinfeld': 1, ' Vera Farmiga': 1, ' Fra Fee': 1, ' Tony Dalton': 1, ' Zahn McClarnon': 1, 'Gary Muehlberger': 1, ' Mary Miller': 1, ' Curly Leach': 1, ' Sam Carlson': 1, ' Stuart Andrews': 1, ' David Squibb': 1, 'Dr. Ray Ball': 2, ' Dr. Lauren Smith': 2, ' Chris Massaro': 2, ' Tiffany Burns': 2, ' Mike Burns': 2, ' Melinda Mendolusky': 2, 'Don Hahn': 1, ' Kathryn Beaumont': 1, ' Pete Docter': 1, ' Kevin Feige': 1, ' Mark Hamill': 1, ' Bob Iger': 1, '': 2, 'Stacy Keach': 1, ' John Lasseter': 1, ' Brad Bird': 1, ' John Musker': 1, ' Ron Clements': 1, ' Frank Thomas': 1, 'Dr. Michelle Oakley': 1, ' Zachary Fine': 1, 'Michael B. Jordan': 1, 'Jack Dylan Grazer': 1, ' Marco Barricelli': 1, 'Mia Jenness': 1, ' Alyson Hannigan': 1, ' Rob Riggle': 1, ' Spencer Moss': 1, ' Dana Heath': 1, 'Carolina Domenech': 1, ' José Jiménez Zapiola': 1, ' Kevsho': 1, ' Elena Roger': 1, ' Clara Alonso': 1, ' Emilia Mernes': 1, 'Amy Adams': 1, ' Patrick Dempsey': 1, ' James Marsden': 1, ' Timothy Spall': 1, ' Idina Menzel': 2, ' Susan Sarandon': 1, 'Stephen Apostolina': 1, ' Kirk Baily': 1, ' Ben Bledsoe': 1, ' David Cowgill': 1, ' Terri Douglas': 1, ' Fuschia!': 1, 'Kristen Bell': 1, ' Jonathan Groff': 1, ' Josh Gad': 1, ' Santino Fontana': 1, ' Chris Williams': 1, 'Walt Disney': 1, ' Marcellite Garner': 1, ' Billy Bletcher': 1, ' Will Ryan': 1, ' Bob Bergen': 1, 'Ellie Kemper': 1, ' Rob Delaney': 1, ' Archie Yates': 1, ' Aisling Bea': 1, ' Kenan Thompson': 1, ' Tim Simons': 1, 'Dwayne Johnson': 1, ' Emily Blunt': 1, ' Edgar Ramirez': 1, ' Jack Whitehall': 1, ' Jesse Plemons': 1, ' Paul Giamatti': 1, 'Chris Hemsworth': 1, 'Josh Gad': 1, 'John Kahrs': 1, ' Kari Wahlgren': 2, 'Pete Docter': 1, ' Larry the Cable Guy': 1, ' Jack Dylan Grazer': 1, ' Domee Shi': 1, ' Angus MacLane': 1, 'Simu Liu': 1, ' Awkwafina': 1, ' Tony Leung': 1, ' Michelle Yeoh': 1, \" Meng'er Zhang\": 1, ' Ben Kingsley': 1, 'Avantika': 1, ' Michael Bishop': 1, ' Anna Cathcart': 1, ' Jahbril Cook': 1, ' Kerri Medders': 1, ' Aryan Simhadri': 1, 'Mandy Moore': 1, ' Zachary Levi': 1, ' Alan Dale': 1, ' Paul F. Tompkins': 1, ' Mark Allen Stewart': 1, 'Billy Connolly': 1, 'Billie Eilish': 1, ' FINNEAS': 1, ' Gustavo Dudamel': 1, ' Patrick Osborne': 1, ' Robert Rodriguez': 1, 'Kyla Pratt': 1, ' Tommy Davidson': 1, ' Paula Jai Parker': 1, ' JoMarie Payton': 1, ' Cedric the Entertainer': 1, 'Dan Castellaneta': 1, ' Nancy Cartwright': 1, ' Yeardley Smith': 1, ' Hank Azaria': 1, 'Jason Lee': 1, ' David Cross': 1, ' Jenny Slate': 1, ' Justin Long': 1, ' Matthew Gray Gubler': 1, ' Jesse McCartney': 1, 'Arnold Schwarzenegger': 1, ' Sinbad': 1, ' Phil Hartman': 1, ' Rita Wilson': 1, ' Robert Conrad': 1, ' Martin Mull': 1, 'Larry the Cable Guy': 1, ' Brian Stepanek': 1, ' Santino Marella': 1, ' Kennedi Clements': 1, ' Kirsten Robek': 1, ' Rachel Hayward': 1, 'Betty White': 1, ' Dave Foley': 1, ' Derek Richardson': 1, ' Sarah Chalke': 1, ' W. Morgan Sheppard': 1, 'Christopher Lloyd': 1, ' Danny Woodburn': 1, ' Craig Anton': 1, ' Michael Teigen': 1, ' Ben Giroux': 1, ' Paul Rae': 1, 'Dominic Scott Kay': 1, ' John Kapelos': 1, ' Lise Simms': 1, ' Mike Dopud': 2, ' Charles C. Stevenson Jr.': 1, ' Dylan Minnette': 1, 'F.T. Anderson': 1, ' Diedrich Bader': 1, ' Field Cate': 1, ' Kendall Cross': 1, ' Mark Downey': 1}\n",
      "Resse Alexander\n",
      " Diedrich Bader\n",
      " Sahar Biniaz\n",
      " Jan Boss\n",
      " Ameko Eks Mass Carroll\n",
      " Melody Choi\n",
      "{'Chris Diamantopoulos': 1, ' Tony Anselmo': 1, ' Tress MacNeille': 2, ' Bill Farmer': 1, ' Russi Taylor': 2, ' Corey Burton': 1, 'Jim Varney': 1, ' Noelle Parker': 1, ' Douglas Seale': 1, 'Raymond Albert Romano': 1, ' John Leguizamo': 1, ' Denis Leary': 1, ' Queen Latifah': 1, 'Darren Criss': 1, ' Adam Lambert': 1, ' Derek Hough': 1, ' Alexander Jean': 1, ' Fall Out Boy': 1, ' Jimmie Allen': 1, 'John Lennon': 1, ' Paul McCartney': 1, ' George Harrison': 1, ' Ringo Starr': 1, 'Jacques Yves Cousteau': 1, ' Vincent Cassel': 1, 'Jeremy Renner': 1, ' Hailee Steinfeld': 1, ' Vera Farmiga': 1, ' Fra Fee': 1, ' Tony Dalton': 1, ' Zahn McClarnon': 1, 'Gary Muehlberger': 1, ' Mary Miller': 1, ' Curly Leach': 1, ' Sam Carlson': 1, ' Stuart Andrews': 1, ' David Squibb': 1, 'Dr. Ray Ball': 2, ' Dr. Lauren Smith': 2, ' Chris Massaro': 2, ' Tiffany Burns': 2, ' Mike Burns': 2, ' Melinda Mendolusky': 2, 'Don Hahn': 1, ' Kathryn Beaumont': 1, ' Pete Docter': 1, ' Kevin Feige': 1, ' Mark Hamill': 1, ' Bob Iger': 1, '': 2, 'Stacy Keach': 1, ' John Lasseter': 1, ' Brad Bird': 1, ' John Musker': 1, ' Ron Clements': 1, ' Frank Thomas': 1, 'Dr. Michelle Oakley': 1, ' Zachary Fine': 1, 'Michael B. Jordan': 1, 'Jack Dylan Grazer': 1, ' Marco Barricelli': 1, 'Mia Jenness': 1, ' Alyson Hannigan': 1, ' Rob Riggle': 1, ' Spencer Moss': 1, ' Dana Heath': 1, 'Carolina Domenech': 1, ' José Jiménez Zapiola': 1, ' Kevsho': 1, ' Elena Roger': 1, ' Clara Alonso': 1, ' Emilia Mernes': 1, 'Amy Adams': 1, ' Patrick Dempsey': 1, ' James Marsden': 1, ' Timothy Spall': 1, ' Idina Menzel': 2, ' Susan Sarandon': 1, 'Stephen Apostolina': 1, ' Kirk Baily': 1, ' Ben Bledsoe': 1, ' David Cowgill': 1, ' Terri Douglas': 1, ' Fuschia!': 1, 'Kristen Bell': 1, ' Jonathan Groff': 1, ' Josh Gad': 1, ' Santino Fontana': 1, ' Chris Williams': 1, 'Walt Disney': 1, ' Marcellite Garner': 1, ' Billy Bletcher': 1, ' Will Ryan': 1, ' Bob Bergen': 1, 'Ellie Kemper': 1, ' Rob Delaney': 1, ' Archie Yates': 1, ' Aisling Bea': 1, ' Kenan Thompson': 1, ' Tim Simons': 1, 'Dwayne Johnson': 1, ' Emily Blunt': 1, ' Edgar Ramirez': 1, ' Jack Whitehall': 1, ' Jesse Plemons': 1, ' Paul Giamatti': 1, 'Chris Hemsworth': 1, 'Josh Gad': 1, 'John Kahrs': 1, ' Kari Wahlgren': 2, 'Pete Docter': 1, ' Larry the Cable Guy': 1, ' Jack Dylan Grazer': 1, ' Domee Shi': 1, ' Angus MacLane': 1, 'Simu Liu': 1, ' Awkwafina': 1, ' Tony Leung': 1, ' Michelle Yeoh': 1, \" Meng'er Zhang\": 1, ' Ben Kingsley': 1, 'Avantika': 1, ' Michael Bishop': 1, ' Anna Cathcart': 1, ' Jahbril Cook': 1, ' Kerri Medders': 1, ' Aryan Simhadri': 1, 'Mandy Moore': 1, ' Zachary Levi': 1, ' Alan Dale': 1, ' Paul F. Tompkins': 1, ' Mark Allen Stewart': 1, 'Billy Connolly': 1, 'Billie Eilish': 1, ' FINNEAS': 1, ' Gustavo Dudamel': 1, ' Patrick Osborne': 1, ' Robert Rodriguez': 1, 'Kyla Pratt': 1, ' Tommy Davidson': 1, ' Paula Jai Parker': 1, ' JoMarie Payton': 1, ' Cedric the Entertainer': 1, 'Dan Castellaneta': 1, ' Nancy Cartwright': 1, ' Yeardley Smith': 1, ' Hank Azaria': 1, 'Jason Lee': 1, ' David Cross': 1, ' Jenny Slate': 1, ' Justin Long': 1, ' Matthew Gray Gubler': 1, ' Jesse McCartney': 1, 'Arnold Schwarzenegger': 1, ' Sinbad': 1, ' Phil Hartman': 1, ' Rita Wilson': 1, ' Robert Conrad': 1, ' Martin Mull': 1, 'Larry the Cable Guy': 1, ' Brian Stepanek': 1, ' Santino Marella': 1, ' Kennedi Clements': 1, ' Kirsten Robek': 1, ' Rachel Hayward': 1, 'Betty White': 1, ' Dave Foley': 1, ' Derek Richardson': 1, ' Sarah Chalke': 1, ' W. Morgan Sheppard': 1, 'Christopher Lloyd': 1, ' Danny Woodburn': 1, ' Craig Anton': 1, ' Michael Teigen': 1, ' Ben Giroux': 1, ' Paul Rae': 1, 'Dominic Scott Kay': 1, ' John Kapelos': 1, ' Lise Simms': 1, ' Mike Dopud': 2, ' Charles C. Stevenson Jr.': 1, ' Dylan Minnette': 1, 'F.T. Anderson': 1, ' Diedrich Bader': 2, ' Field Cate': 1, ' Kendall Cross': 1, ' Mark Downey': 1, 'Resse Alexander': 1, ' Sahar Biniaz': 1, ' Jan Boss': 1, ' Ameko Eks Mass Carroll': 1, ' Melody Choi': 1}\n",
      "James McAvoy\n",
      " Michael Fassbender\n",
      " Rose Byrne\n",
      " Jennifer Lawrence\n",
      " January Jones\n",
      " Nicholas Hoult\n",
      "{'Chris Diamantopoulos': 1, ' Tony Anselmo': 1, ' Tress MacNeille': 2, ' Bill Farmer': 1, ' Russi Taylor': 2, ' Corey Burton': 1, 'Jim Varney': 1, ' Noelle Parker': 1, ' Douglas Seale': 1, 'Raymond Albert Romano': 1, ' John Leguizamo': 1, ' Denis Leary': 1, ' Queen Latifah': 1, 'Darren Criss': 1, ' Adam Lambert': 1, ' Derek Hough': 1, ' Alexander Jean': 1, ' Fall Out Boy': 1, ' Jimmie Allen': 1, 'John Lennon': 1, ' Paul McCartney': 1, ' George Harrison': 1, ' Ringo Starr': 1, 'Jacques Yves Cousteau': 1, ' Vincent Cassel': 1, 'Jeremy Renner': 1, ' Hailee Steinfeld': 1, ' Vera Farmiga': 1, ' Fra Fee': 1, ' Tony Dalton': 1, ' Zahn McClarnon': 1, 'Gary Muehlberger': 1, ' Mary Miller': 1, ' Curly Leach': 1, ' Sam Carlson': 1, ' Stuart Andrews': 1, ' David Squibb': 1, 'Dr. Ray Ball': 2, ' Dr. Lauren Smith': 2, ' Chris Massaro': 2, ' Tiffany Burns': 2, ' Mike Burns': 2, ' Melinda Mendolusky': 2, 'Don Hahn': 1, ' Kathryn Beaumont': 1, ' Pete Docter': 1, ' Kevin Feige': 1, ' Mark Hamill': 1, ' Bob Iger': 1, '': 2, 'Stacy Keach': 1, ' John Lasseter': 1, ' Brad Bird': 1, ' John Musker': 1, ' Ron Clements': 1, ' Frank Thomas': 1, 'Dr. Michelle Oakley': 1, ' Zachary Fine': 1, 'Michael B. Jordan': 1, 'Jack Dylan Grazer': 1, ' Marco Barricelli': 1, 'Mia Jenness': 1, ' Alyson Hannigan': 1, ' Rob Riggle': 1, ' Spencer Moss': 1, ' Dana Heath': 1, 'Carolina Domenech': 1, ' José Jiménez Zapiola': 1, ' Kevsho': 1, ' Elena Roger': 1, ' Clara Alonso': 1, ' Emilia Mernes': 1, 'Amy Adams': 1, ' Patrick Dempsey': 1, ' James Marsden': 1, ' Timothy Spall': 1, ' Idina Menzel': 2, ' Susan Sarandon': 1, 'Stephen Apostolina': 1, ' Kirk Baily': 1, ' Ben Bledsoe': 1, ' David Cowgill': 1, ' Terri Douglas': 1, ' Fuschia!': 1, 'Kristen Bell': 1, ' Jonathan Groff': 1, ' Josh Gad': 1, ' Santino Fontana': 1, ' Chris Williams': 1, 'Walt Disney': 1, ' Marcellite Garner': 1, ' Billy Bletcher': 1, ' Will Ryan': 1, ' Bob Bergen': 1, 'Ellie Kemper': 1, ' Rob Delaney': 1, ' Archie Yates': 1, ' Aisling Bea': 1, ' Kenan Thompson': 1, ' Tim Simons': 1, 'Dwayne Johnson': 1, ' Emily Blunt': 1, ' Edgar Ramirez': 1, ' Jack Whitehall': 1, ' Jesse Plemons': 1, ' Paul Giamatti': 1, 'Chris Hemsworth': 1, 'Josh Gad': 1, 'John Kahrs': 1, ' Kari Wahlgren': 2, 'Pete Docter': 1, ' Larry the Cable Guy': 1, ' Jack Dylan Grazer': 1, ' Domee Shi': 1, ' Angus MacLane': 1, 'Simu Liu': 1, ' Awkwafina': 1, ' Tony Leung': 1, ' Michelle Yeoh': 1, \" Meng'er Zhang\": 1, ' Ben Kingsley': 1, 'Avantika': 1, ' Michael Bishop': 1, ' Anna Cathcart': 1, ' Jahbril Cook': 1, ' Kerri Medders': 1, ' Aryan Simhadri': 1, 'Mandy Moore': 1, ' Zachary Levi': 1, ' Alan Dale': 1, ' Paul F. Tompkins': 1, ' Mark Allen Stewart': 1, 'Billy Connolly': 1, 'Billie Eilish': 1, ' FINNEAS': 1, ' Gustavo Dudamel': 1, ' Patrick Osborne': 1, ' Robert Rodriguez': 1, 'Kyla Pratt': 1, ' Tommy Davidson': 1, ' Paula Jai Parker': 1, ' JoMarie Payton': 1, ' Cedric the Entertainer': 1, 'Dan Castellaneta': 1, ' Nancy Cartwright': 1, ' Yeardley Smith': 1, ' Hank Azaria': 1, 'Jason Lee': 1, ' David Cross': 1, ' Jenny Slate': 1, ' Justin Long': 1, ' Matthew Gray Gubler': 1, ' Jesse McCartney': 1, 'Arnold Schwarzenegger': 1, ' Sinbad': 1, ' Phil Hartman': 1, ' Rita Wilson': 1, ' Robert Conrad': 1, ' Martin Mull': 1, 'Larry the Cable Guy': 1, ' Brian Stepanek': 1, ' Santino Marella': 1, ' Kennedi Clements': 1, ' Kirsten Robek': 1, ' Rachel Hayward': 1, 'Betty White': 1, ' Dave Foley': 1, ' Derek Richardson': 1, ' Sarah Chalke': 1, ' W. Morgan Sheppard': 1, 'Christopher Lloyd': 1, ' Danny Woodburn': 1, ' Craig Anton': 1, ' Michael Teigen': 1, ' Ben Giroux': 1, ' Paul Rae': 1, 'Dominic Scott Kay': 1, ' John Kapelos': 1, ' Lise Simms': 1, ' Mike Dopud': 2, ' Charles C. Stevenson Jr.': 1, ' Dylan Minnette': 1, 'F.T. Anderson': 1, ' Diedrich Bader': 2, ' Field Cate': 1, ' Kendall Cross': 1, ' Mark Downey': 1, 'Resse Alexander': 1, ' Sahar Biniaz': 1, ' Jan Boss': 1, ' Ameko Eks Mass Carroll': 1, ' Melody Choi': 1, 'James McAvoy': 1, ' Michael Fassbender': 1, ' Rose Byrne': 1, ' Jennifer Lawrence': 1, ' January Jones': 1, ' Nicholas Hoult': 1}\n",
      "Justin Felbinger\n",
      " Amanda Leighton\n",
      " Bill Farmer\n",
      " Brenda Song\n",
      "{'Chris Diamantopoulos': 1, ' Tony Anselmo': 1, ' Tress MacNeille': 2, ' Bill Farmer': 2, ' Russi Taylor': 2, ' Corey Burton': 1, 'Jim Varney': 1, ' Noelle Parker': 1, ' Douglas Seale': 1, 'Raymond Albert Romano': 1, ' John Leguizamo': 1, ' Denis Leary': 1, ' Queen Latifah': 1, 'Darren Criss': 1, ' Adam Lambert': 1, ' Derek Hough': 1, ' Alexander Jean': 1, ' Fall Out Boy': 1, ' Jimmie Allen': 1, 'John Lennon': 1, ' Paul McCartney': 1, ' George Harrison': 1, ' Ringo Starr': 1, 'Jacques Yves Cousteau': 1, ' Vincent Cassel': 1, 'Jeremy Renner': 1, ' Hailee Steinfeld': 1, ' Vera Farmiga': 1, ' Fra Fee': 1, ' Tony Dalton': 1, ' Zahn McClarnon': 1, 'Gary Muehlberger': 1, ' Mary Miller': 1, ' Curly Leach': 1, ' Sam Carlson': 1, ' Stuart Andrews': 1, ' David Squibb': 1, 'Dr. Ray Ball': 2, ' Dr. Lauren Smith': 2, ' Chris Massaro': 2, ' Tiffany Burns': 2, ' Mike Burns': 2, ' Melinda Mendolusky': 2, 'Don Hahn': 1, ' Kathryn Beaumont': 1, ' Pete Docter': 1, ' Kevin Feige': 1, ' Mark Hamill': 1, ' Bob Iger': 1, '': 2, 'Stacy Keach': 1, ' John Lasseter': 1, ' Brad Bird': 1, ' John Musker': 1, ' Ron Clements': 1, ' Frank Thomas': 1, 'Dr. Michelle Oakley': 1, ' Zachary Fine': 1, 'Michael B. Jordan': 1, 'Jack Dylan Grazer': 1, ' Marco Barricelli': 1, 'Mia Jenness': 1, ' Alyson Hannigan': 1, ' Rob Riggle': 1, ' Spencer Moss': 1, ' Dana Heath': 1, 'Carolina Domenech': 1, ' José Jiménez Zapiola': 1, ' Kevsho': 1, ' Elena Roger': 1, ' Clara Alonso': 1, ' Emilia Mernes': 1, 'Amy Adams': 1, ' Patrick Dempsey': 1, ' James Marsden': 1, ' Timothy Spall': 1, ' Idina Menzel': 2, ' Susan Sarandon': 1, 'Stephen Apostolina': 1, ' Kirk Baily': 1, ' Ben Bledsoe': 1, ' David Cowgill': 1, ' Terri Douglas': 1, ' Fuschia!': 1, 'Kristen Bell': 1, ' Jonathan Groff': 1, ' Josh Gad': 1, ' Santino Fontana': 1, ' Chris Williams': 1, 'Walt Disney': 1, ' Marcellite Garner': 1, ' Billy Bletcher': 1, ' Will Ryan': 1, ' Bob Bergen': 1, 'Ellie Kemper': 1, ' Rob Delaney': 1, ' Archie Yates': 1, ' Aisling Bea': 1, ' Kenan Thompson': 1, ' Tim Simons': 1, 'Dwayne Johnson': 1, ' Emily Blunt': 1, ' Edgar Ramirez': 1, ' Jack Whitehall': 1, ' Jesse Plemons': 1, ' Paul Giamatti': 1, 'Chris Hemsworth': 1, 'Josh Gad': 1, 'John Kahrs': 1, ' Kari Wahlgren': 2, 'Pete Docter': 1, ' Larry the Cable Guy': 1, ' Jack Dylan Grazer': 1, ' Domee Shi': 1, ' Angus MacLane': 1, 'Simu Liu': 1, ' Awkwafina': 1, ' Tony Leung': 1, ' Michelle Yeoh': 1, \" Meng'er Zhang\": 1, ' Ben Kingsley': 1, 'Avantika': 1, ' Michael Bishop': 1, ' Anna Cathcart': 1, ' Jahbril Cook': 1, ' Kerri Medders': 1, ' Aryan Simhadri': 1, 'Mandy Moore': 1, ' Zachary Levi': 1, ' Alan Dale': 1, ' Paul F. Tompkins': 1, ' Mark Allen Stewart': 1, 'Billy Connolly': 1, 'Billie Eilish': 1, ' FINNEAS': 1, ' Gustavo Dudamel': 1, ' Patrick Osborne': 1, ' Robert Rodriguez': 1, 'Kyla Pratt': 1, ' Tommy Davidson': 1, ' Paula Jai Parker': 1, ' JoMarie Payton': 1, ' Cedric the Entertainer': 1, 'Dan Castellaneta': 1, ' Nancy Cartwright': 1, ' Yeardley Smith': 1, ' Hank Azaria': 1, 'Jason Lee': 1, ' David Cross': 1, ' Jenny Slate': 1, ' Justin Long': 1, ' Matthew Gray Gubler': 1, ' Jesse McCartney': 1, 'Arnold Schwarzenegger': 1, ' Sinbad': 1, ' Phil Hartman': 1, ' Rita Wilson': 1, ' Robert Conrad': 1, ' Martin Mull': 1, 'Larry the Cable Guy': 1, ' Brian Stepanek': 1, ' Santino Marella': 1, ' Kennedi Clements': 1, ' Kirsten Robek': 1, ' Rachel Hayward': 1, 'Betty White': 1, ' Dave Foley': 1, ' Derek Richardson': 1, ' Sarah Chalke': 1, ' W. Morgan Sheppard': 1, 'Christopher Lloyd': 1, ' Danny Woodburn': 1, ' Craig Anton': 1, ' Michael Teigen': 1, ' Ben Giroux': 1, ' Paul Rae': 1, 'Dominic Scott Kay': 1, ' John Kapelos': 1, ' Lise Simms': 1, ' Mike Dopud': 2, ' Charles C. Stevenson Jr.': 1, ' Dylan Minnette': 1, 'F.T. Anderson': 1, ' Diedrich Bader': 2, ' Field Cate': 1, ' Kendall Cross': 1, ' Mark Downey': 1, 'Resse Alexander': 1, ' Sahar Biniaz': 1, ' Jan Boss': 1, ' Ameko Eks Mass Carroll': 1, ' Melody Choi': 1, 'James McAvoy': 1, ' Michael Fassbender': 1, ' Rose Byrne': 1, ' Jennifer Lawrence': 1, ' January Jones': 1, ' Nicholas Hoult': 1, 'Justin Felbinger': 1, ' Amanda Leighton': 1, ' Brenda Song': 1}\n",
      "Joel Sartore\n",
      "{'Chris Diamantopoulos': 1, ' Tony Anselmo': 1, ' Tress MacNeille': 2, ' Bill Farmer': 2, ' Russi Taylor': 2, ' Corey Burton': 1, 'Jim Varney': 1, ' Noelle Parker': 1, ' Douglas Seale': 1, 'Raymond Albert Romano': 1, ' John Leguizamo': 1, ' Denis Leary': 1, ' Queen Latifah': 1, 'Darren Criss': 1, ' Adam Lambert': 1, ' Derek Hough': 1, ' Alexander Jean': 1, ' Fall Out Boy': 1, ' Jimmie Allen': 1, 'John Lennon': 1, ' Paul McCartney': 1, ' George Harrison': 1, ' Ringo Starr': 1, 'Jacques Yves Cousteau': 1, ' Vincent Cassel': 1, 'Jeremy Renner': 1, ' Hailee Steinfeld': 1, ' Vera Farmiga': 1, ' Fra Fee': 1, ' Tony Dalton': 1, ' Zahn McClarnon': 1, 'Gary Muehlberger': 1, ' Mary Miller': 1, ' Curly Leach': 1, ' Sam Carlson': 1, ' Stuart Andrews': 1, ' David Squibb': 1, 'Dr. Ray Ball': 2, ' Dr. Lauren Smith': 2, ' Chris Massaro': 2, ' Tiffany Burns': 2, ' Mike Burns': 2, ' Melinda Mendolusky': 2, 'Don Hahn': 1, ' Kathryn Beaumont': 1, ' Pete Docter': 1, ' Kevin Feige': 1, ' Mark Hamill': 1, ' Bob Iger': 1, '': 2, 'Stacy Keach': 1, ' John Lasseter': 1, ' Brad Bird': 1, ' John Musker': 1, ' Ron Clements': 1, ' Frank Thomas': 1, 'Dr. Michelle Oakley': 1, ' Zachary Fine': 1, 'Michael B. Jordan': 1, 'Jack Dylan Grazer': 1, ' Marco Barricelli': 1, 'Mia Jenness': 1, ' Alyson Hannigan': 1, ' Rob Riggle': 1, ' Spencer Moss': 1, ' Dana Heath': 1, 'Carolina Domenech': 1, ' José Jiménez Zapiola': 1, ' Kevsho': 1, ' Elena Roger': 1, ' Clara Alonso': 1, ' Emilia Mernes': 1, 'Amy Adams': 1, ' Patrick Dempsey': 1, ' James Marsden': 1, ' Timothy Spall': 1, ' Idina Menzel': 2, ' Susan Sarandon': 1, 'Stephen Apostolina': 1, ' Kirk Baily': 1, ' Ben Bledsoe': 1, ' David Cowgill': 1, ' Terri Douglas': 1, ' Fuschia!': 1, 'Kristen Bell': 1, ' Jonathan Groff': 1, ' Josh Gad': 1, ' Santino Fontana': 1, ' Chris Williams': 1, 'Walt Disney': 1, ' Marcellite Garner': 1, ' Billy Bletcher': 1, ' Will Ryan': 1, ' Bob Bergen': 1, 'Ellie Kemper': 1, ' Rob Delaney': 1, ' Archie Yates': 1, ' Aisling Bea': 1, ' Kenan Thompson': 1, ' Tim Simons': 1, 'Dwayne Johnson': 1, ' Emily Blunt': 1, ' Edgar Ramirez': 1, ' Jack Whitehall': 1, ' Jesse Plemons': 1, ' Paul Giamatti': 1, 'Chris Hemsworth': 1, 'Josh Gad': 1, 'John Kahrs': 1, ' Kari Wahlgren': 2, 'Pete Docter': 1, ' Larry the Cable Guy': 1, ' Jack Dylan Grazer': 1, ' Domee Shi': 1, ' Angus MacLane': 1, 'Simu Liu': 1, ' Awkwafina': 1, ' Tony Leung': 1, ' Michelle Yeoh': 1, \" Meng'er Zhang\": 1, ' Ben Kingsley': 1, 'Avantika': 1, ' Michael Bishop': 1, ' Anna Cathcart': 1, ' Jahbril Cook': 1, ' Kerri Medders': 1, ' Aryan Simhadri': 1, 'Mandy Moore': 1, ' Zachary Levi': 1, ' Alan Dale': 1, ' Paul F. Tompkins': 1, ' Mark Allen Stewart': 1, 'Billy Connolly': 1, 'Billie Eilish': 1, ' FINNEAS': 1, ' Gustavo Dudamel': 1, ' Patrick Osborne': 1, ' Robert Rodriguez': 1, 'Kyla Pratt': 1, ' Tommy Davidson': 1, ' Paula Jai Parker': 1, ' JoMarie Payton': 1, ' Cedric the Entertainer': 1, 'Dan Castellaneta': 1, ' Nancy Cartwright': 1, ' Yeardley Smith': 1, ' Hank Azaria': 1, 'Jason Lee': 1, ' David Cross': 1, ' Jenny Slate': 1, ' Justin Long': 1, ' Matthew Gray Gubler': 1, ' Jesse McCartney': 1, 'Arnold Schwarzenegger': 1, ' Sinbad': 1, ' Phil Hartman': 1, ' Rita Wilson': 1, ' Robert Conrad': 1, ' Martin Mull': 1, 'Larry the Cable Guy': 1, ' Brian Stepanek': 1, ' Santino Marella': 1, ' Kennedi Clements': 1, ' Kirsten Robek': 1, ' Rachel Hayward': 1, 'Betty White': 1, ' Dave Foley': 1, ' Derek Richardson': 1, ' Sarah Chalke': 1, ' W. Morgan Sheppard': 1, 'Christopher Lloyd': 1, ' Danny Woodburn': 1, ' Craig Anton': 1, ' Michael Teigen': 1, ' Ben Giroux': 1, ' Paul Rae': 1, 'Dominic Scott Kay': 1, ' John Kapelos': 1, ' Lise Simms': 1, ' Mike Dopud': 2, ' Charles C. Stevenson Jr.': 1, ' Dylan Minnette': 1, 'F.T. Anderson': 1, ' Diedrich Bader': 2, ' Field Cate': 1, ' Kendall Cross': 1, ' Mark Downey': 1, 'Resse Alexander': 1, ' Sahar Biniaz': 1, ' Jan Boss': 1, ' Ameko Eks Mass Carroll': 1, ' Melody Choi': 1, 'James McAvoy': 1, ' Michael Fassbender': 1, ' Rose Byrne': 1, ' Jennifer Lawrence': 1, ' January Jones': 1, ' Nicholas Hoult': 1, 'Justin Felbinger': 1, ' Amanda Leighton': 1, ' Brenda Song': 1, 'Joel Sartore': 1}\n",
      "\n",
      "{'Chris Diamantopoulos': 1, ' Tony Anselmo': 1, ' Tress MacNeille': 2, ' Bill Farmer': 2, ' Russi Taylor': 2, ' Corey Burton': 1, 'Jim Varney': 1, ' Noelle Parker': 1, ' Douglas Seale': 1, 'Raymond Albert Romano': 1, ' John Leguizamo': 1, ' Denis Leary': 1, ' Queen Latifah': 1, 'Darren Criss': 1, ' Adam Lambert': 1, ' Derek Hough': 1, ' Alexander Jean': 1, ' Fall Out Boy': 1, ' Jimmie Allen': 1, 'John Lennon': 1, ' Paul McCartney': 1, ' George Harrison': 1, ' Ringo Starr': 1, 'Jacques Yves Cousteau': 1, ' Vincent Cassel': 1, 'Jeremy Renner': 1, ' Hailee Steinfeld': 1, ' Vera Farmiga': 1, ' Fra Fee': 1, ' Tony Dalton': 1, ' Zahn McClarnon': 1, 'Gary Muehlberger': 1, ' Mary Miller': 1, ' Curly Leach': 1, ' Sam Carlson': 1, ' Stuart Andrews': 1, ' David Squibb': 1, 'Dr. Ray Ball': 2, ' Dr. Lauren Smith': 2, ' Chris Massaro': 2, ' Tiffany Burns': 2, ' Mike Burns': 2, ' Melinda Mendolusky': 2, 'Don Hahn': 1, ' Kathryn Beaumont': 1, ' Pete Docter': 1, ' Kevin Feige': 1, ' Mark Hamill': 1, ' Bob Iger': 1, '': 2, 'Stacy Keach': 1, ' John Lasseter': 1, ' Brad Bird': 1, ' John Musker': 1, ' Ron Clements': 1, ' Frank Thomas': 1, 'Dr. Michelle Oakley': 1, ' Zachary Fine': 1, 'Michael B. Jordan': 1, 'Jack Dylan Grazer': 1, ' Marco Barricelli': 1, 'Mia Jenness': 1, ' Alyson Hannigan': 1, ' Rob Riggle': 1, ' Spencer Moss': 1, ' Dana Heath': 1, 'Carolina Domenech': 1, ' José Jiménez Zapiola': 1, ' Kevsho': 1, ' Elena Roger': 1, ' Clara Alonso': 1, ' Emilia Mernes': 1, 'Amy Adams': 1, ' Patrick Dempsey': 1, ' James Marsden': 1, ' Timothy Spall': 1, ' Idina Menzel': 2, ' Susan Sarandon': 1, 'Stephen Apostolina': 1, ' Kirk Baily': 1, ' Ben Bledsoe': 1, ' David Cowgill': 1, ' Terri Douglas': 1, ' Fuschia!': 1, 'Kristen Bell': 1, ' Jonathan Groff': 1, ' Josh Gad': 1, ' Santino Fontana': 1, ' Chris Williams': 1, 'Walt Disney': 1, ' Marcellite Garner': 1, ' Billy Bletcher': 1, ' Will Ryan': 1, ' Bob Bergen': 1, 'Ellie Kemper': 1, ' Rob Delaney': 1, ' Archie Yates': 1, ' Aisling Bea': 1, ' Kenan Thompson': 1, ' Tim Simons': 1, 'Dwayne Johnson': 1, ' Emily Blunt': 1, ' Edgar Ramirez': 1, ' Jack Whitehall': 1, ' Jesse Plemons': 1, ' Paul Giamatti': 1, 'Chris Hemsworth': 1, 'Josh Gad': 1, 'John Kahrs': 1, ' Kari Wahlgren': 2, 'Pete Docter': 1, ' Larry the Cable Guy': 1, ' Jack Dylan Grazer': 1, ' Domee Shi': 1, ' Angus MacLane': 1, 'Simu Liu': 1, ' Awkwafina': 1, ' Tony Leung': 1, ' Michelle Yeoh': 1, \" Meng'er Zhang\": 1, ' Ben Kingsley': 1, 'Avantika': 1, ' Michael Bishop': 1, ' Anna Cathcart': 1, ' Jahbril Cook': 1, ' Kerri Medders': 1, ' Aryan Simhadri': 1, 'Mandy Moore': 1, ' Zachary Levi': 1, ' Alan Dale': 1, ' Paul F. Tompkins': 1, ' Mark Allen Stewart': 1, 'Billy Connolly': 1, 'Billie Eilish': 1, ' FINNEAS': 1, ' Gustavo Dudamel': 1, ' Patrick Osborne': 1, ' Robert Rodriguez': 1, 'Kyla Pratt': 1, ' Tommy Davidson': 1, ' Paula Jai Parker': 1, ' JoMarie Payton': 1, ' Cedric the Entertainer': 1, 'Dan Castellaneta': 1, ' Nancy Cartwright': 1, ' Yeardley Smith': 1, ' Hank Azaria': 1, 'Jason Lee': 1, ' David Cross': 1, ' Jenny Slate': 1, ' Justin Long': 1, ' Matthew Gray Gubler': 1, ' Jesse McCartney': 1, 'Arnold Schwarzenegger': 1, ' Sinbad': 1, ' Phil Hartman': 1, ' Rita Wilson': 1, ' Robert Conrad': 1, ' Martin Mull': 1, 'Larry the Cable Guy': 1, ' Brian Stepanek': 1, ' Santino Marella': 1, ' Kennedi Clements': 1, ' Kirsten Robek': 1, ' Rachel Hayward': 1, 'Betty White': 1, ' Dave Foley': 1, ' Derek Richardson': 1, ' Sarah Chalke': 1, ' W. Morgan Sheppard': 1, 'Christopher Lloyd': 1, ' Danny Woodburn': 1, ' Craig Anton': 1, ' Michael Teigen': 1, ' Ben Giroux': 1, ' Paul Rae': 1, 'Dominic Scott Kay': 1, ' John Kapelos': 1, ' Lise Simms': 1, ' Mike Dopud': 2, ' Charles C. Stevenson Jr.': 1, ' Dylan Minnette': 1, 'F.T. Anderson': 1, ' Diedrich Bader': 2, ' Field Cate': 1, ' Kendall Cross': 1, ' Mark Downey': 1, 'Resse Alexander': 1, ' Sahar Biniaz': 1, ' Jan Boss': 1, ' Ameko Eks Mass Carroll': 1, ' Melody Choi': 1, 'James McAvoy': 1, ' Michael Fassbender': 1, ' Rose Byrne': 1, ' Jennifer Lawrence': 1, ' January Jones': 1, ' Nicholas Hoult': 1, 'Justin Felbinger': 1, ' Amanda Leighton': 1, ' Brenda Song': 1, 'Joel Sartore': 1}\n",
      "\n",
      "{'Chris Diamantopoulos': 1, ' Tony Anselmo': 1, ' Tress MacNeille': 2, ' Bill Farmer': 2, ' Russi Taylor': 2, ' Corey Burton': 1, 'Jim Varney': 1, ' Noelle Parker': 1, ' Douglas Seale': 1, 'Raymond Albert Romano': 1, ' John Leguizamo': 1, ' Denis Leary': 1, ' Queen Latifah': 1, 'Darren Criss': 1, ' Adam Lambert': 1, ' Derek Hough': 1, ' Alexander Jean': 1, ' Fall Out Boy': 1, ' Jimmie Allen': 1, 'John Lennon': 1, ' Paul McCartney': 1, ' George Harrison': 1, ' Ringo Starr': 1, 'Jacques Yves Cousteau': 1, ' Vincent Cassel': 1, 'Jeremy Renner': 1, ' Hailee Steinfeld': 1, ' Vera Farmiga': 1, ' Fra Fee': 1, ' Tony Dalton': 1, ' Zahn McClarnon': 1, 'Gary Muehlberger': 1, ' Mary Miller': 1, ' Curly Leach': 1, ' Sam Carlson': 1, ' Stuart Andrews': 1, ' David Squibb': 1, 'Dr. Ray Ball': 2, ' Dr. Lauren Smith': 2, ' Chris Massaro': 2, ' Tiffany Burns': 2, ' Mike Burns': 2, ' Melinda Mendolusky': 2, 'Don Hahn': 1, ' Kathryn Beaumont': 1, ' Pete Docter': 1, ' Kevin Feige': 1, ' Mark Hamill': 1, ' Bob Iger': 1, '': 2, 'Stacy Keach': 1, ' John Lasseter': 1, ' Brad Bird': 1, ' John Musker': 1, ' Ron Clements': 1, ' Frank Thomas': 1, 'Dr. Michelle Oakley': 1, ' Zachary Fine': 1, 'Michael B. Jordan': 1, 'Jack Dylan Grazer': 1, ' Marco Barricelli': 1, 'Mia Jenness': 1, ' Alyson Hannigan': 1, ' Rob Riggle': 1, ' Spencer Moss': 1, ' Dana Heath': 1, 'Carolina Domenech': 1, ' José Jiménez Zapiola': 1, ' Kevsho': 1, ' Elena Roger': 1, ' Clara Alonso': 1, ' Emilia Mernes': 1, 'Amy Adams': 1, ' Patrick Dempsey': 1, ' James Marsden': 1, ' Timothy Spall': 1, ' Idina Menzel': 2, ' Susan Sarandon': 1, 'Stephen Apostolina': 1, ' Kirk Baily': 1, ' Ben Bledsoe': 1, ' David Cowgill': 1, ' Terri Douglas': 1, ' Fuschia!': 1, 'Kristen Bell': 1, ' Jonathan Groff': 1, ' Josh Gad': 1, ' Santino Fontana': 1, ' Chris Williams': 1, 'Walt Disney': 1, ' Marcellite Garner': 1, ' Billy Bletcher': 1, ' Will Ryan': 1, ' Bob Bergen': 1, 'Ellie Kemper': 1, ' Rob Delaney': 1, ' Archie Yates': 1, ' Aisling Bea': 1, ' Kenan Thompson': 1, ' Tim Simons': 1, 'Dwayne Johnson': 1, ' Emily Blunt': 1, ' Edgar Ramirez': 1, ' Jack Whitehall': 1, ' Jesse Plemons': 1, ' Paul Giamatti': 1, 'Chris Hemsworth': 1, 'Josh Gad': 1, 'John Kahrs': 1, ' Kari Wahlgren': 2, 'Pete Docter': 1, ' Larry the Cable Guy': 1, ' Jack Dylan Grazer': 1, ' Domee Shi': 1, ' Angus MacLane': 1, 'Simu Liu': 1, ' Awkwafina': 1, ' Tony Leung': 1, ' Michelle Yeoh': 1, \" Meng'er Zhang\": 1, ' Ben Kingsley': 1, 'Avantika': 1, ' Michael Bishop': 1, ' Anna Cathcart': 1, ' Jahbril Cook': 1, ' Kerri Medders': 1, ' Aryan Simhadri': 1, 'Mandy Moore': 1, ' Zachary Levi': 1, ' Alan Dale': 1, ' Paul F. Tompkins': 1, ' Mark Allen Stewart': 1, 'Billy Connolly': 1, 'Billie Eilish': 1, ' FINNEAS': 1, ' Gustavo Dudamel': 1, ' Patrick Osborne': 1, ' Robert Rodriguez': 1, 'Kyla Pratt': 1, ' Tommy Davidson': 1, ' Paula Jai Parker': 1, ' JoMarie Payton': 1, ' Cedric the Entertainer': 1, 'Dan Castellaneta': 1, ' Nancy Cartwright': 1, ' Yeardley Smith': 1, ' Hank Azaria': 1, 'Jason Lee': 1, ' David Cross': 1, ' Jenny Slate': 1, ' Justin Long': 1, ' Matthew Gray Gubler': 1, ' Jesse McCartney': 1, 'Arnold Schwarzenegger': 1, ' Sinbad': 1, ' Phil Hartman': 1, ' Rita Wilson': 1, ' Robert Conrad': 1, ' Martin Mull': 1, 'Larry the Cable Guy': 1, ' Brian Stepanek': 1, ' Santino Marella': 1, ' Kennedi Clements': 1, ' Kirsten Robek': 1, ' Rachel Hayward': 1, 'Betty White': 1, ' Dave Foley': 1, ' Derek Richardson': 1, ' Sarah Chalke': 1, ' W. Morgan Sheppard': 1, 'Christopher Lloyd': 1, ' Danny Woodburn': 1, ' Craig Anton': 1, ' Michael Teigen': 1, ' Ben Giroux': 1, ' Paul Rae': 1, 'Dominic Scott Kay': 1, ' John Kapelos': 1, ' Lise Simms': 1, ' Mike Dopud': 2, ' Charles C. Stevenson Jr.': 1, ' Dylan Minnette': 1, 'F.T. Anderson': 1, ' Diedrich Bader': 2, ' Field Cate': 1, ' Kendall Cross': 1, ' Mark Downey': 1, 'Resse Alexander': 1, ' Sahar Biniaz': 1, ' Jan Boss': 1, ' Ameko Eks Mass Carroll': 1, ' Melody Choi': 1, 'James McAvoy': 1, ' Michael Fassbender': 1, ' Rose Byrne': 1, ' Jennifer Lawrence': 1, ' January Jones': 1, ' Nicholas Hoult': 1, 'Justin Felbinger': 1, ' Amanda Leighton': 1, ' Brenda Song': 1, 'Joel Sartore': 1}\n",
      "Kevin Costner\n",
      " Maria Bello\n",
      " Morgan Saylor\n",
      " Martha Higareda\n",
      " Michael Aguero\n",
      " Sergio Avelar\n",
      "{'Chris Diamantopoulos': 1, ' Tony Anselmo': 1, ' Tress MacNeille': 2, ' Bill Farmer': 2, ' Russi Taylor': 2, ' Corey Burton': 1, 'Jim Varney': 1, ' Noelle Parker': 1, ' Douglas Seale': 1, 'Raymond Albert Romano': 1, ' John Leguizamo': 1, ' Denis Leary': 1, ' Queen Latifah': 1, 'Darren Criss': 1, ' Adam Lambert': 1, ' Derek Hough': 1, ' Alexander Jean': 1, ' Fall Out Boy': 1, ' Jimmie Allen': 1, 'John Lennon': 1, ' Paul McCartney': 1, ' George Harrison': 1, ' Ringo Starr': 1, 'Jacques Yves Cousteau': 1, ' Vincent Cassel': 1, 'Jeremy Renner': 1, ' Hailee Steinfeld': 1, ' Vera Farmiga': 1, ' Fra Fee': 1, ' Tony Dalton': 1, ' Zahn McClarnon': 1, 'Gary Muehlberger': 1, ' Mary Miller': 1, ' Curly Leach': 1, ' Sam Carlson': 1, ' Stuart Andrews': 1, ' David Squibb': 1, 'Dr. Ray Ball': 2, ' Dr. Lauren Smith': 2, ' Chris Massaro': 2, ' Tiffany Burns': 2, ' Mike Burns': 2, ' Melinda Mendolusky': 2, 'Don Hahn': 1, ' Kathryn Beaumont': 1, ' Pete Docter': 1, ' Kevin Feige': 1, ' Mark Hamill': 1, ' Bob Iger': 1, '': 2, 'Stacy Keach': 1, ' John Lasseter': 1, ' Brad Bird': 1, ' John Musker': 1, ' Ron Clements': 1, ' Frank Thomas': 1, 'Dr. Michelle Oakley': 1, ' Zachary Fine': 1, 'Michael B. Jordan': 1, 'Jack Dylan Grazer': 1, ' Marco Barricelli': 1, 'Mia Jenness': 1, ' Alyson Hannigan': 1, ' Rob Riggle': 1, ' Spencer Moss': 1, ' Dana Heath': 1, 'Carolina Domenech': 1, ' José Jiménez Zapiola': 1, ' Kevsho': 1, ' Elena Roger': 1, ' Clara Alonso': 1, ' Emilia Mernes': 1, 'Amy Adams': 1, ' Patrick Dempsey': 1, ' James Marsden': 1, ' Timothy Spall': 1, ' Idina Menzel': 2, ' Susan Sarandon': 1, 'Stephen Apostolina': 1, ' Kirk Baily': 1, ' Ben Bledsoe': 1, ' David Cowgill': 1, ' Terri Douglas': 1, ' Fuschia!': 1, 'Kristen Bell': 1, ' Jonathan Groff': 1, ' Josh Gad': 1, ' Santino Fontana': 1, ' Chris Williams': 1, 'Walt Disney': 1, ' Marcellite Garner': 1, ' Billy Bletcher': 1, ' Will Ryan': 1, ' Bob Bergen': 1, 'Ellie Kemper': 1, ' Rob Delaney': 1, ' Archie Yates': 1, ' Aisling Bea': 1, ' Kenan Thompson': 1, ' Tim Simons': 1, 'Dwayne Johnson': 1, ' Emily Blunt': 1, ' Edgar Ramirez': 1, ' Jack Whitehall': 1, ' Jesse Plemons': 1, ' Paul Giamatti': 1, 'Chris Hemsworth': 1, 'Josh Gad': 1, 'John Kahrs': 1, ' Kari Wahlgren': 2, 'Pete Docter': 1, ' Larry the Cable Guy': 1, ' Jack Dylan Grazer': 1, ' Domee Shi': 1, ' Angus MacLane': 1, 'Simu Liu': 1, ' Awkwafina': 1, ' Tony Leung': 1, ' Michelle Yeoh': 1, \" Meng'er Zhang\": 1, ' Ben Kingsley': 1, 'Avantika': 1, ' Michael Bishop': 1, ' Anna Cathcart': 1, ' Jahbril Cook': 1, ' Kerri Medders': 1, ' Aryan Simhadri': 1, 'Mandy Moore': 1, ' Zachary Levi': 1, ' Alan Dale': 1, ' Paul F. Tompkins': 1, ' Mark Allen Stewart': 1, 'Billy Connolly': 1, 'Billie Eilish': 1, ' FINNEAS': 1, ' Gustavo Dudamel': 1, ' Patrick Osborne': 1, ' Robert Rodriguez': 1, 'Kyla Pratt': 1, ' Tommy Davidson': 1, ' Paula Jai Parker': 1, ' JoMarie Payton': 1, ' Cedric the Entertainer': 1, 'Dan Castellaneta': 1, ' Nancy Cartwright': 1, ' Yeardley Smith': 1, ' Hank Azaria': 1, 'Jason Lee': 1, ' David Cross': 1, ' Jenny Slate': 1, ' Justin Long': 1, ' Matthew Gray Gubler': 1, ' Jesse McCartney': 1, 'Arnold Schwarzenegger': 1, ' Sinbad': 1, ' Phil Hartman': 1, ' Rita Wilson': 1, ' Robert Conrad': 1, ' Martin Mull': 1, 'Larry the Cable Guy': 1, ' Brian Stepanek': 1, ' Santino Marella': 1, ' Kennedi Clements': 1, ' Kirsten Robek': 1, ' Rachel Hayward': 1, 'Betty White': 1, ' Dave Foley': 1, ' Derek Richardson': 1, ' Sarah Chalke': 1, ' W. Morgan Sheppard': 1, 'Christopher Lloyd': 1, ' Danny Woodburn': 1, ' Craig Anton': 1, ' Michael Teigen': 1, ' Ben Giroux': 1, ' Paul Rae': 1, 'Dominic Scott Kay': 1, ' John Kapelos': 1, ' Lise Simms': 1, ' Mike Dopud': 2, ' Charles C. Stevenson Jr.': 1, ' Dylan Minnette': 1, 'F.T. Anderson': 1, ' Diedrich Bader': 2, ' Field Cate': 1, ' Kendall Cross': 1, ' Mark Downey': 1, 'Resse Alexander': 1, ' Sahar Biniaz': 1, ' Jan Boss': 1, ' Ameko Eks Mass Carroll': 1, ' Melody Choi': 1, 'James McAvoy': 1, ' Michael Fassbender': 1, ' Rose Byrne': 1, ' Jennifer Lawrence': 1, ' January Jones': 1, ' Nicholas Hoult': 1, 'Justin Felbinger': 1, ' Amanda Leighton': 1, ' Brenda Song': 1, 'Joel Sartore': 1, 'Kevin Costner': 1, ' Maria Bello': 1, ' Morgan Saylor': 1, ' Martha Higareda': 1, ' Michael Aguero': 1, ' Sergio Avelar': 1}\n",
      "Thomas Ian Nicholas\n",
      " Gary Busey\n",
      " Albert Hall\n",
      " Amy Morton\n",
      " Dan Hedaya\n",
      " Eddie Bracken\n",
      "{'Chris Diamantopoulos': 1, ' Tony Anselmo': 1, ' Tress MacNeille': 2, ' Bill Farmer': 2, ' Russi Taylor': 2, ' Corey Burton': 1, 'Jim Varney': 1, ' Noelle Parker': 1, ' Douglas Seale': 1, 'Raymond Albert Romano': 1, ' John Leguizamo': 1, ' Denis Leary': 1, ' Queen Latifah': 1, 'Darren Criss': 1, ' Adam Lambert': 1, ' Derek Hough': 1, ' Alexander Jean': 1, ' Fall Out Boy': 1, ' Jimmie Allen': 1, 'John Lennon': 1, ' Paul McCartney': 1, ' George Harrison': 1, ' Ringo Starr': 1, 'Jacques Yves Cousteau': 1, ' Vincent Cassel': 1, 'Jeremy Renner': 1, ' Hailee Steinfeld': 1, ' Vera Farmiga': 1, ' Fra Fee': 1, ' Tony Dalton': 1, ' Zahn McClarnon': 1, 'Gary Muehlberger': 1, ' Mary Miller': 1, ' Curly Leach': 1, ' Sam Carlson': 1, ' Stuart Andrews': 1, ' David Squibb': 1, 'Dr. Ray Ball': 2, ' Dr. Lauren Smith': 2, ' Chris Massaro': 2, ' Tiffany Burns': 2, ' Mike Burns': 2, ' Melinda Mendolusky': 2, 'Don Hahn': 1, ' Kathryn Beaumont': 1, ' Pete Docter': 1, ' Kevin Feige': 1, ' Mark Hamill': 1, ' Bob Iger': 1, '': 2, 'Stacy Keach': 1, ' John Lasseter': 1, ' Brad Bird': 1, ' John Musker': 1, ' Ron Clements': 1, ' Frank Thomas': 1, 'Dr. Michelle Oakley': 1, ' Zachary Fine': 1, 'Michael B. Jordan': 1, 'Jack Dylan Grazer': 1, ' Marco Barricelli': 1, 'Mia Jenness': 1, ' Alyson Hannigan': 1, ' Rob Riggle': 1, ' Spencer Moss': 1, ' Dana Heath': 1, 'Carolina Domenech': 1, ' José Jiménez Zapiola': 1, ' Kevsho': 1, ' Elena Roger': 1, ' Clara Alonso': 1, ' Emilia Mernes': 1, 'Amy Adams': 1, ' Patrick Dempsey': 1, ' James Marsden': 1, ' Timothy Spall': 1, ' Idina Menzel': 2, ' Susan Sarandon': 1, 'Stephen Apostolina': 1, ' Kirk Baily': 1, ' Ben Bledsoe': 1, ' David Cowgill': 1, ' Terri Douglas': 1, ' Fuschia!': 1, 'Kristen Bell': 1, ' Jonathan Groff': 1, ' Josh Gad': 1, ' Santino Fontana': 1, ' Chris Williams': 1, 'Walt Disney': 1, ' Marcellite Garner': 1, ' Billy Bletcher': 1, ' Will Ryan': 1, ' Bob Bergen': 1, 'Ellie Kemper': 1, ' Rob Delaney': 1, ' Archie Yates': 1, ' Aisling Bea': 1, ' Kenan Thompson': 1, ' Tim Simons': 1, 'Dwayne Johnson': 1, ' Emily Blunt': 1, ' Edgar Ramirez': 1, ' Jack Whitehall': 1, ' Jesse Plemons': 1, ' Paul Giamatti': 1, 'Chris Hemsworth': 1, 'Josh Gad': 1, 'John Kahrs': 1, ' Kari Wahlgren': 2, 'Pete Docter': 1, ' Larry the Cable Guy': 1, ' Jack Dylan Grazer': 1, ' Domee Shi': 1, ' Angus MacLane': 1, 'Simu Liu': 1, ' Awkwafina': 1, ' Tony Leung': 1, ' Michelle Yeoh': 1, \" Meng'er Zhang\": 1, ' Ben Kingsley': 1, 'Avantika': 1, ' Michael Bishop': 1, ' Anna Cathcart': 1, ' Jahbril Cook': 1, ' Kerri Medders': 1, ' Aryan Simhadri': 1, 'Mandy Moore': 1, ' Zachary Levi': 1, ' Alan Dale': 1, ' Paul F. Tompkins': 1, ' Mark Allen Stewart': 1, 'Billy Connolly': 1, 'Billie Eilish': 1, ' FINNEAS': 1, ' Gustavo Dudamel': 1, ' Patrick Osborne': 1, ' Robert Rodriguez': 1, 'Kyla Pratt': 1, ' Tommy Davidson': 1, ' Paula Jai Parker': 1, ' JoMarie Payton': 1, ' Cedric the Entertainer': 1, 'Dan Castellaneta': 1, ' Nancy Cartwright': 1, ' Yeardley Smith': 1, ' Hank Azaria': 1, 'Jason Lee': 1, ' David Cross': 1, ' Jenny Slate': 1, ' Justin Long': 1, ' Matthew Gray Gubler': 1, ' Jesse McCartney': 1, 'Arnold Schwarzenegger': 1, ' Sinbad': 1, ' Phil Hartman': 1, ' Rita Wilson': 1, ' Robert Conrad': 1, ' Martin Mull': 1, 'Larry the Cable Guy': 1, ' Brian Stepanek': 1, ' Santino Marella': 1, ' Kennedi Clements': 1, ' Kirsten Robek': 1, ' Rachel Hayward': 1, 'Betty White': 1, ' Dave Foley': 1, ' Derek Richardson': 1, ' Sarah Chalke': 1, ' W. Morgan Sheppard': 1, 'Christopher Lloyd': 1, ' Danny Woodburn': 1, ' Craig Anton': 1, ' Michael Teigen': 1, ' Ben Giroux': 1, ' Paul Rae': 1, 'Dominic Scott Kay': 1, ' John Kapelos': 1, ' Lise Simms': 1, ' Mike Dopud': 2, ' Charles C. Stevenson Jr.': 1, ' Dylan Minnette': 1, 'F.T. Anderson': 1, ' Diedrich Bader': 2, ' Field Cate': 1, ' Kendall Cross': 1, ' Mark Downey': 1, 'Resse Alexander': 1, ' Sahar Biniaz': 1, ' Jan Boss': 1, ' Ameko Eks Mass Carroll': 1, ' Melody Choi': 1, 'James McAvoy': 1, ' Michael Fassbender': 1, ' Rose Byrne': 1, ' Jennifer Lawrence': 1, ' January Jones': 1, ' Nicholas Hoult': 1, 'Justin Felbinger': 1, ' Amanda Leighton': 1, ' Brenda Song': 1, 'Joel Sartore': 1, 'Kevin Costner': 1, ' Maria Bello': 1, ' Morgan Saylor': 1, ' Martha Higareda': 1, ' Michael Aguero': 1, ' Sergio Avelar': 1, 'Thomas Ian Nicholas': 1, ' Gary Busey': 1, ' Albert Hall': 1, ' Amy Morton': 1, ' Dan Hedaya': 1, ' Eddie Bracken': 1}\n",
      "Gino Conforti\n",
      " Barbara Cook\n",
      " Jodi Benson\n",
      " Will Ryan\n",
      " June Foray\n",
      " Kenneth Mars\n",
      "{'Chris Diamantopoulos': 1, ' Tony Anselmo': 1, ' Tress MacNeille': 2, ' Bill Farmer': 2, ' Russi Taylor': 2, ' Corey Burton': 1, 'Jim Varney': 1, ' Noelle Parker': 1, ' Douglas Seale': 1, 'Raymond Albert Romano': 1, ' John Leguizamo': 1, ' Denis Leary': 1, ' Queen Latifah': 1, 'Darren Criss': 1, ' Adam Lambert': 1, ' Derek Hough': 1, ' Alexander Jean': 1, ' Fall Out Boy': 1, ' Jimmie Allen': 1, 'John Lennon': 1, ' Paul McCartney': 1, ' George Harrison': 1, ' Ringo Starr': 1, 'Jacques Yves Cousteau': 1, ' Vincent Cassel': 1, 'Jeremy Renner': 1, ' Hailee Steinfeld': 1, ' Vera Farmiga': 1, ' Fra Fee': 1, ' Tony Dalton': 1, ' Zahn McClarnon': 1, 'Gary Muehlberger': 1, ' Mary Miller': 1, ' Curly Leach': 1, ' Sam Carlson': 1, ' Stuart Andrews': 1, ' David Squibb': 1, 'Dr. Ray Ball': 2, ' Dr. Lauren Smith': 2, ' Chris Massaro': 2, ' Tiffany Burns': 2, ' Mike Burns': 2, ' Melinda Mendolusky': 2, 'Don Hahn': 1, ' Kathryn Beaumont': 1, ' Pete Docter': 1, ' Kevin Feige': 1, ' Mark Hamill': 1, ' Bob Iger': 1, '': 2, 'Stacy Keach': 1, ' John Lasseter': 1, ' Brad Bird': 1, ' John Musker': 1, ' Ron Clements': 1, ' Frank Thomas': 1, 'Dr. Michelle Oakley': 1, ' Zachary Fine': 1, 'Michael B. Jordan': 1, 'Jack Dylan Grazer': 1, ' Marco Barricelli': 1, 'Mia Jenness': 1, ' Alyson Hannigan': 1, ' Rob Riggle': 1, ' Spencer Moss': 1, ' Dana Heath': 1, 'Carolina Domenech': 1, ' José Jiménez Zapiola': 1, ' Kevsho': 1, ' Elena Roger': 1, ' Clara Alonso': 1, ' Emilia Mernes': 1, 'Amy Adams': 1, ' Patrick Dempsey': 1, ' James Marsden': 1, ' Timothy Spall': 1, ' Idina Menzel': 2, ' Susan Sarandon': 1, 'Stephen Apostolina': 1, ' Kirk Baily': 1, ' Ben Bledsoe': 1, ' David Cowgill': 1, ' Terri Douglas': 1, ' Fuschia!': 1, 'Kristen Bell': 1, ' Jonathan Groff': 1, ' Josh Gad': 1, ' Santino Fontana': 1, ' Chris Williams': 1, 'Walt Disney': 1, ' Marcellite Garner': 1, ' Billy Bletcher': 1, ' Will Ryan': 2, ' Bob Bergen': 1, 'Ellie Kemper': 1, ' Rob Delaney': 1, ' Archie Yates': 1, ' Aisling Bea': 1, ' Kenan Thompson': 1, ' Tim Simons': 1, 'Dwayne Johnson': 1, ' Emily Blunt': 1, ' Edgar Ramirez': 1, ' Jack Whitehall': 1, ' Jesse Plemons': 1, ' Paul Giamatti': 1, 'Chris Hemsworth': 1, 'Josh Gad': 1, 'John Kahrs': 1, ' Kari Wahlgren': 2, 'Pete Docter': 1, ' Larry the Cable Guy': 1, ' Jack Dylan Grazer': 1, ' Domee Shi': 1, ' Angus MacLane': 1, 'Simu Liu': 1, ' Awkwafina': 1, ' Tony Leung': 1, ' Michelle Yeoh': 1, \" Meng'er Zhang\": 1, ' Ben Kingsley': 1, 'Avantika': 1, ' Michael Bishop': 1, ' Anna Cathcart': 1, ' Jahbril Cook': 1, ' Kerri Medders': 1, ' Aryan Simhadri': 1, 'Mandy Moore': 1, ' Zachary Levi': 1, ' Alan Dale': 1, ' Paul F. Tompkins': 1, ' Mark Allen Stewart': 1, 'Billy Connolly': 1, 'Billie Eilish': 1, ' FINNEAS': 1, ' Gustavo Dudamel': 1, ' Patrick Osborne': 1, ' Robert Rodriguez': 1, 'Kyla Pratt': 1, ' Tommy Davidson': 1, ' Paula Jai Parker': 1, ' JoMarie Payton': 1, ' Cedric the Entertainer': 1, 'Dan Castellaneta': 1, ' Nancy Cartwright': 1, ' Yeardley Smith': 1, ' Hank Azaria': 1, 'Jason Lee': 1, ' David Cross': 1, ' Jenny Slate': 1, ' Justin Long': 1, ' Matthew Gray Gubler': 1, ' Jesse McCartney': 1, 'Arnold Schwarzenegger': 1, ' Sinbad': 1, ' Phil Hartman': 1, ' Rita Wilson': 1, ' Robert Conrad': 1, ' Martin Mull': 1, 'Larry the Cable Guy': 1, ' Brian Stepanek': 1, ' Santino Marella': 1, ' Kennedi Clements': 1, ' Kirsten Robek': 1, ' Rachel Hayward': 1, 'Betty White': 1, ' Dave Foley': 1, ' Derek Richardson': 1, ' Sarah Chalke': 1, ' W. Morgan Sheppard': 1, 'Christopher Lloyd': 1, ' Danny Woodburn': 1, ' Craig Anton': 1, ' Michael Teigen': 1, ' Ben Giroux': 1, ' Paul Rae': 1, 'Dominic Scott Kay': 1, ' John Kapelos': 1, ' Lise Simms': 1, ' Mike Dopud': 2, ' Charles C. Stevenson Jr.': 1, ' Dylan Minnette': 1, 'F.T. Anderson': 1, ' Diedrich Bader': 2, ' Field Cate': 1, ' Kendall Cross': 1, ' Mark Downey': 1, 'Resse Alexander': 1, ' Sahar Biniaz': 1, ' Jan Boss': 1, ' Ameko Eks Mass Carroll': 1, ' Melody Choi': 1, 'James McAvoy': 1, ' Michael Fassbender': 1, ' Rose Byrne': 1, ' Jennifer Lawrence': 1, ' January Jones': 1, ' Nicholas Hoult': 1, 'Justin Felbinger': 1, ' Amanda Leighton': 1, ' Brenda Song': 1, 'Joel Sartore': 1, 'Kevin Costner': 1, ' Maria Bello': 1, ' Morgan Saylor': 1, ' Martha Higareda': 1, ' Michael Aguero': 1, ' Sergio Avelar': 1, 'Thomas Ian Nicholas': 1, ' Gary Busey': 1, ' Albert Hall': 1, ' Amy Morton': 1, ' Dan Hedaya': 1, ' Eddie Bracken': 1, 'Gino Conforti': 1, ' Barbara Cook': 1, ' Jodi Benson': 1, ' June Foray': 1, ' Kenneth Mars': 1}\n",
      "Kyle Breitkopf\n",
      " Jacob Ursomarzo\n",
      " Addison Holley\n",
      "{'Chris Diamantopoulos': 1, ' Tony Anselmo': 1, ' Tress MacNeille': 2, ' Bill Farmer': 2, ' Russi Taylor': 2, ' Corey Burton': 1, 'Jim Varney': 1, ' Noelle Parker': 1, ' Douglas Seale': 1, 'Raymond Albert Romano': 1, ' John Leguizamo': 1, ' Denis Leary': 1, ' Queen Latifah': 1, 'Darren Criss': 1, ' Adam Lambert': 1, ' Derek Hough': 1, ' Alexander Jean': 1, ' Fall Out Boy': 1, ' Jimmie Allen': 1, 'John Lennon': 1, ' Paul McCartney': 1, ' George Harrison': 1, ' Ringo Starr': 1, 'Jacques Yves Cousteau': 1, ' Vincent Cassel': 1, 'Jeremy Renner': 1, ' Hailee Steinfeld': 1, ' Vera Farmiga': 1, ' Fra Fee': 1, ' Tony Dalton': 1, ' Zahn McClarnon': 1, 'Gary Muehlberger': 1, ' Mary Miller': 1, ' Curly Leach': 1, ' Sam Carlson': 1, ' Stuart Andrews': 1, ' David Squibb': 1, 'Dr. Ray Ball': 2, ' Dr. Lauren Smith': 2, ' Chris Massaro': 2, ' Tiffany Burns': 2, ' Mike Burns': 2, ' Melinda Mendolusky': 2, 'Don Hahn': 1, ' Kathryn Beaumont': 1, ' Pete Docter': 1, ' Kevin Feige': 1, ' Mark Hamill': 1, ' Bob Iger': 1, '': 2, 'Stacy Keach': 1, ' John Lasseter': 1, ' Brad Bird': 1, ' John Musker': 1, ' Ron Clements': 1, ' Frank Thomas': 1, 'Dr. Michelle Oakley': 1, ' Zachary Fine': 1, 'Michael B. Jordan': 1, 'Jack Dylan Grazer': 1, ' Marco Barricelli': 1, 'Mia Jenness': 1, ' Alyson Hannigan': 1, ' Rob Riggle': 1, ' Spencer Moss': 1, ' Dana Heath': 1, 'Carolina Domenech': 1, ' José Jiménez Zapiola': 1, ' Kevsho': 1, ' Elena Roger': 1, ' Clara Alonso': 1, ' Emilia Mernes': 1, 'Amy Adams': 1, ' Patrick Dempsey': 1, ' James Marsden': 1, ' Timothy Spall': 1, ' Idina Menzel': 2, ' Susan Sarandon': 1, 'Stephen Apostolina': 1, ' Kirk Baily': 1, ' Ben Bledsoe': 1, ' David Cowgill': 1, ' Terri Douglas': 1, ' Fuschia!': 1, 'Kristen Bell': 1, ' Jonathan Groff': 1, ' Josh Gad': 1, ' Santino Fontana': 1, ' Chris Williams': 1, 'Walt Disney': 1, ' Marcellite Garner': 1, ' Billy Bletcher': 1, ' Will Ryan': 2, ' Bob Bergen': 1, 'Ellie Kemper': 1, ' Rob Delaney': 1, ' Archie Yates': 1, ' Aisling Bea': 1, ' Kenan Thompson': 1, ' Tim Simons': 1, 'Dwayne Johnson': 1, ' Emily Blunt': 1, ' Edgar Ramirez': 1, ' Jack Whitehall': 1, ' Jesse Plemons': 1, ' Paul Giamatti': 1, 'Chris Hemsworth': 1, 'Josh Gad': 1, 'John Kahrs': 1, ' Kari Wahlgren': 2, 'Pete Docter': 1, ' Larry the Cable Guy': 1, ' Jack Dylan Grazer': 1, ' Domee Shi': 1, ' Angus MacLane': 1, 'Simu Liu': 1, ' Awkwafina': 1, ' Tony Leung': 1, ' Michelle Yeoh': 1, \" Meng'er Zhang\": 1, ' Ben Kingsley': 1, 'Avantika': 1, ' Michael Bishop': 1, ' Anna Cathcart': 1, ' Jahbril Cook': 1, ' Kerri Medders': 1, ' Aryan Simhadri': 1, 'Mandy Moore': 1, ' Zachary Levi': 1, ' Alan Dale': 1, ' Paul F. Tompkins': 1, ' Mark Allen Stewart': 1, 'Billy Connolly': 1, 'Billie Eilish': 1, ' FINNEAS': 1, ' Gustavo Dudamel': 1, ' Patrick Osborne': 1, ' Robert Rodriguez': 1, 'Kyla Pratt': 1, ' Tommy Davidson': 1, ' Paula Jai Parker': 1, ' JoMarie Payton': 1, ' Cedric the Entertainer': 1, 'Dan Castellaneta': 1, ' Nancy Cartwright': 1, ' Yeardley Smith': 1, ' Hank Azaria': 1, 'Jason Lee': 1, ' David Cross': 1, ' Jenny Slate': 1, ' Justin Long': 1, ' Matthew Gray Gubler': 1, ' Jesse McCartney': 1, 'Arnold Schwarzenegger': 1, ' Sinbad': 1, ' Phil Hartman': 1, ' Rita Wilson': 1, ' Robert Conrad': 1, ' Martin Mull': 1, 'Larry the Cable Guy': 1, ' Brian Stepanek': 1, ' Santino Marella': 1, ' Kennedi Clements': 1, ' Kirsten Robek': 1, ' Rachel Hayward': 1, 'Betty White': 1, ' Dave Foley': 1, ' Derek Richardson': 1, ' Sarah Chalke': 1, ' W. Morgan Sheppard': 1, 'Christopher Lloyd': 1, ' Danny Woodburn': 1, ' Craig Anton': 1, ' Michael Teigen': 1, ' Ben Giroux': 1, ' Paul Rae': 1, 'Dominic Scott Kay': 1, ' John Kapelos': 1, ' Lise Simms': 1, ' Mike Dopud': 2, ' Charles C. Stevenson Jr.': 1, ' Dylan Minnette': 1, 'F.T. Anderson': 1, ' Diedrich Bader': 2, ' Field Cate': 1, ' Kendall Cross': 1, ' Mark Downey': 1, 'Resse Alexander': 1, ' Sahar Biniaz': 1, ' Jan Boss': 1, ' Ameko Eks Mass Carroll': 1, ' Melody Choi': 1, 'James McAvoy': 1, ' Michael Fassbender': 1, ' Rose Byrne': 1, ' Jennifer Lawrence': 1, ' January Jones': 1, ' Nicholas Hoult': 1, 'Justin Felbinger': 1, ' Amanda Leighton': 1, ' Brenda Song': 1, 'Joel Sartore': 1, 'Kevin Costner': 1, ' Maria Bello': 1, ' Morgan Saylor': 1, ' Martha Higareda': 1, ' Michael Aguero': 1, ' Sergio Avelar': 1, 'Thomas Ian Nicholas': 1, ' Gary Busey': 1, ' Albert Hall': 1, ' Amy Morton': 1, ' Dan Hedaya': 1, ' Eddie Bracken': 1, 'Gino Conforti': 1, ' Barbara Cook': 1, ' Jodi Benson': 1, ' June Foray': 1, ' Kenneth Mars': 1, 'Kyle Breitkopf': 1, ' Jacob Ursomarzo': 1, ' Addison Holley': 1}\n",
      "\n",
      "{'Chris Diamantopoulos': 1, ' Tony Anselmo': 1, ' Tress MacNeille': 2, ' Bill Farmer': 2, ' Russi Taylor': 2, ' Corey Burton': 1, 'Jim Varney': 1, ' Noelle Parker': 1, ' Douglas Seale': 1, 'Raymond Albert Romano': 1, ' John Leguizamo': 1, ' Denis Leary': 1, ' Queen Latifah': 1, 'Darren Criss': 1, ' Adam Lambert': 1, ' Derek Hough': 1, ' Alexander Jean': 1, ' Fall Out Boy': 1, ' Jimmie Allen': 1, 'John Lennon': 1, ' Paul McCartney': 1, ' George Harrison': 1, ' Ringo Starr': 1, 'Jacques Yves Cousteau': 1, ' Vincent Cassel': 1, 'Jeremy Renner': 1, ' Hailee Steinfeld': 1, ' Vera Farmiga': 1, ' Fra Fee': 1, ' Tony Dalton': 1, ' Zahn McClarnon': 1, 'Gary Muehlberger': 1, ' Mary Miller': 1, ' Curly Leach': 1, ' Sam Carlson': 1, ' Stuart Andrews': 1, ' David Squibb': 1, 'Dr. Ray Ball': 2, ' Dr. Lauren Smith': 2, ' Chris Massaro': 2, ' Tiffany Burns': 2, ' Mike Burns': 2, ' Melinda Mendolusky': 2, 'Don Hahn': 1, ' Kathryn Beaumont': 1, ' Pete Docter': 1, ' Kevin Feige': 1, ' Mark Hamill': 1, ' Bob Iger': 1, '': 2, 'Stacy Keach': 1, ' John Lasseter': 1, ' Brad Bird': 1, ' John Musker': 1, ' Ron Clements': 1, ' Frank Thomas': 1, 'Dr. Michelle Oakley': 1, ' Zachary Fine': 1, 'Michael B. Jordan': 1, 'Jack Dylan Grazer': 1, ' Marco Barricelli': 1, 'Mia Jenness': 1, ' Alyson Hannigan': 1, ' Rob Riggle': 1, ' Spencer Moss': 1, ' Dana Heath': 1, 'Carolina Domenech': 1, ' José Jiménez Zapiola': 1, ' Kevsho': 1, ' Elena Roger': 1, ' Clara Alonso': 1, ' Emilia Mernes': 1, 'Amy Adams': 1, ' Patrick Dempsey': 1, ' James Marsden': 1, ' Timothy Spall': 1, ' Idina Menzel': 2, ' Susan Sarandon': 1, 'Stephen Apostolina': 1, ' Kirk Baily': 1, ' Ben Bledsoe': 1, ' David Cowgill': 1, ' Terri Douglas': 1, ' Fuschia!': 1, 'Kristen Bell': 1, ' Jonathan Groff': 1, ' Josh Gad': 1, ' Santino Fontana': 1, ' Chris Williams': 1, 'Walt Disney': 1, ' Marcellite Garner': 1, ' Billy Bletcher': 1, ' Will Ryan': 2, ' Bob Bergen': 1, 'Ellie Kemper': 1, ' Rob Delaney': 1, ' Archie Yates': 1, ' Aisling Bea': 1, ' Kenan Thompson': 1, ' Tim Simons': 1, 'Dwayne Johnson': 1, ' Emily Blunt': 1, ' Edgar Ramirez': 1, ' Jack Whitehall': 1, ' Jesse Plemons': 1, ' Paul Giamatti': 1, 'Chris Hemsworth': 1, 'Josh Gad': 1, 'John Kahrs': 1, ' Kari Wahlgren': 2, 'Pete Docter': 1, ' Larry the Cable Guy': 1, ' Jack Dylan Grazer': 1, ' Domee Shi': 1, ' Angus MacLane': 1, 'Simu Liu': 1, ' Awkwafina': 1, ' Tony Leung': 1, ' Michelle Yeoh': 1, \" Meng'er Zhang\": 1, ' Ben Kingsley': 1, 'Avantika': 1, ' Michael Bishop': 1, ' Anna Cathcart': 1, ' Jahbril Cook': 1, ' Kerri Medders': 1, ' Aryan Simhadri': 1, 'Mandy Moore': 1, ' Zachary Levi': 1, ' Alan Dale': 1, ' Paul F. Tompkins': 1, ' Mark Allen Stewart': 1, 'Billy Connolly': 1, 'Billie Eilish': 1, ' FINNEAS': 1, ' Gustavo Dudamel': 1, ' Patrick Osborne': 1, ' Robert Rodriguez': 1, 'Kyla Pratt': 1, ' Tommy Davidson': 1, ' Paula Jai Parker': 1, ' JoMarie Payton': 1, ' Cedric the Entertainer': 1, 'Dan Castellaneta': 1, ' Nancy Cartwright': 1, ' Yeardley Smith': 1, ' Hank Azaria': 1, 'Jason Lee': 1, ' David Cross': 1, ' Jenny Slate': 1, ' Justin Long': 1, ' Matthew Gray Gubler': 1, ' Jesse McCartney': 1, 'Arnold Schwarzenegger': 1, ' Sinbad': 1, ' Phil Hartman': 1, ' Rita Wilson': 1, ' Robert Conrad': 1, ' Martin Mull': 1, 'Larry the Cable Guy': 1, ' Brian Stepanek': 1, ' Santino Marella': 1, ' Kennedi Clements': 1, ' Kirsten Robek': 1, ' Rachel Hayward': 1, 'Betty White': 1, ' Dave Foley': 1, ' Derek Richardson': 1, ' Sarah Chalke': 1, ' W. Morgan Sheppard': 1, 'Christopher Lloyd': 1, ' Danny Woodburn': 1, ' Craig Anton': 1, ' Michael Teigen': 1, ' Ben Giroux': 1, ' Paul Rae': 1, 'Dominic Scott Kay': 1, ' John Kapelos': 1, ' Lise Simms': 1, ' Mike Dopud': 2, ' Charles C. Stevenson Jr.': 1, ' Dylan Minnette': 1, 'F.T. Anderson': 1, ' Diedrich Bader': 2, ' Field Cate': 1, ' Kendall Cross': 1, ' Mark Downey': 1, 'Resse Alexander': 1, ' Sahar Biniaz': 1, ' Jan Boss': 1, ' Ameko Eks Mass Carroll': 1, ' Melody Choi': 1, 'James McAvoy': 1, ' Michael Fassbender': 1, ' Rose Byrne': 1, ' Jennifer Lawrence': 1, ' January Jones': 1, ' Nicholas Hoult': 1, 'Justin Felbinger': 1, ' Amanda Leighton': 1, ' Brenda Song': 1, 'Joel Sartore': 1, 'Kevin Costner': 1, ' Maria Bello': 1, ' Morgan Saylor': 1, ' Martha Higareda': 1, ' Michael Aguero': 1, ' Sergio Avelar': 1, 'Thomas Ian Nicholas': 1, ' Gary Busey': 1, ' Albert Hall': 1, ' Amy Morton': 1, ' Dan Hedaya': 1, ' Eddie Bracken': 1, 'Gino Conforti': 1, ' Barbara Cook': 1, ' Jodi Benson': 1, ' June Foray': 1, ' Kenneth Mars': 1, 'Kyle Breitkopf': 1, ' Jacob Ursomarzo': 1, ' Addison Holley': 1}\n"
     ]
    }
   ],
   "source": [
    "import json\n",
    "j = open('/Users/shubhangigupta/Desktop/log_filedndjson_file/data.json',\"r\")\n",
    "j_l=json.load(j)\n",
    "cast_dict={}\n",
    "count = 1\n",
    "l = []\n",
    "for i in j_l[:60]:\n",
    "    l=i['cast'].split(',')\n",
    "\n",
    "    for j in range(len(l)):\n",
    "        print(l[j])\n",
    "        if l[j] in cast_dict:\n",
    "            cast_dict[l[j]]= count+1\n",
    "        else:\n",
    "            cast_dict[l[j]] = count\n",
    "        if l[j]==\"\":\n",
    "            continue\n",
    "   \n",
    "\n",
    "#     f = open(\"myfile.txt\", \"w\")\n",
    "    \n",
    "# print(type(j_l))\n",
    "\n",
    "# for i in j_l:\n",
    "#     if i['type']=='TV Show':\n",
    "#         print(i['show_id'],i['type'] )"
   ]
  },
  {
   "cell_type": "code",
   "execution_count": null,
   "id": "2dee3044",
   "metadata": {},
   "outputs": [],
   "source": []
  },
  {
   "cell_type": "code",
   "execution_count": 182,
   "id": "8a5ebd3e",
   "metadata": {},
   "outputs": [
    {
     "ename": "IllegalArgumentException",
     "evalue": "Can not create a Path from an empty string",
     "output_type": "error",
     "traceback": [
      "\u001b[0;31m---------------------------------------------------------------------------\u001b[0m",
      "\u001b[0;31mIllegalArgumentException\u001b[0m                  Traceback (most recent call last)",
      "Input \u001b[0;32mIn [182]\u001b[0m, in \u001b[0;36m<cell line: 2>\u001b[0;34m()\u001b[0m\n\u001b[1;32m      1\u001b[0m \u001b[38;5;66;03m## Read file in pyspark\u001b[39;00m\n\u001b[0;32m----> 2\u001b[0m \u001b[43mspark\u001b[49m\u001b[38;5;241;43m.\u001b[39;49m\u001b[43mread\u001b[49m\u001b[38;5;241;43m.\u001b[39;49m\u001b[43mjson\u001b[49m\u001b[43m(\u001b[49m\u001b[38;5;124;43m\"\u001b[39;49m\u001b[38;5;124;43m\"\u001b[39;49m\u001b[43m)\u001b[49m\n\u001b[1;32m      3\u001b[0m spark\u001b[38;5;241m.\u001b[39mread\u001b[38;5;241m.\u001b[39mformat(\u001b[38;5;124m'\u001b[39m\u001b[38;5;124mcsv\u001b[39m\u001b[38;5;124m'\u001b[39m)\u001b[38;5;241m.\u001b[39mload(\u001b[38;5;124m'\u001b[39m\u001b[38;5;124mpath\u001b[39m\u001b[38;5;124m'\u001b[39m, \u001b[38;5;28mformat\u001b[39m\u001b[38;5;241m=\u001b[39mnone, schema\u001b[38;5;241m=\u001b[39mnone, header\u001b[38;5;241m=\u001b[39m\u001b[38;5;28;01mNone\u001b[39;00m)\n\u001b[1;32m      4\u001b[0m spark\u001b[38;5;241m.\u001b[39mread\u001b[38;5;241m.\u001b[39mschema(Schema)\u001b[38;5;241m.\u001b[39mcsv(\u001b[38;5;124m'\u001b[39m\u001b[38;5;124mpath\u001b[39m\u001b[38;5;124m'\u001b[39m,sep(\u001b[38;5;124m'\u001b[39m\u001b[38;5;124m,\u001b[39m\u001b[38;5;124m'\u001b[39m))\n",
      "File \u001b[0;32m~/hadoop/spark-3.3.0-bin-hadoop3/python/pyspark/sql/readwriter.py:284\u001b[0m, in \u001b[0;36mDataFrameReader.json\u001b[0;34m(self, path, schema, primitivesAsString, prefersDecimal, allowComments, allowUnquotedFieldNames, allowSingleQuotes, allowNumericLeadingZero, allowBackslashEscapingAnyCharacter, mode, columnNameOfCorruptRecord, dateFormat, timestampFormat, multiLine, allowUnquotedControlChars, lineSep, samplingRatio, dropFieldIfAllNull, encoding, locale, pathGlobFilter, recursiveFileLookup, modifiedBefore, modifiedAfter, allowNonNumericNumbers)\u001b[0m\n\u001b[1;32m    282\u001b[0m \u001b[38;5;28;01mif\u001b[39;00m \u001b[38;5;28mtype\u001b[39m(path) \u001b[38;5;241m==\u001b[39m \u001b[38;5;28mlist\u001b[39m:\n\u001b[1;32m    283\u001b[0m     \u001b[38;5;28;01massert\u001b[39;00m \u001b[38;5;28mself\u001b[39m\u001b[38;5;241m.\u001b[39m_spark\u001b[38;5;241m.\u001b[39m_sc\u001b[38;5;241m.\u001b[39m_jvm \u001b[38;5;129;01mis\u001b[39;00m \u001b[38;5;129;01mnot\u001b[39;00m \u001b[38;5;28;01mNone\u001b[39;00m\n\u001b[0;32m--> 284\u001b[0m     \u001b[38;5;28;01mreturn\u001b[39;00m \u001b[38;5;28mself\u001b[39m\u001b[38;5;241m.\u001b[39m_df(\u001b[38;5;28;43mself\u001b[39;49m\u001b[38;5;241;43m.\u001b[39;49m\u001b[43m_jreader\u001b[49m\u001b[38;5;241;43m.\u001b[39;49m\u001b[43mjson\u001b[49m\u001b[43m(\u001b[49m\u001b[38;5;28;43mself\u001b[39;49m\u001b[38;5;241;43m.\u001b[39;49m\u001b[43m_spark\u001b[49m\u001b[38;5;241;43m.\u001b[39;49m\u001b[43m_sc\u001b[49m\u001b[38;5;241;43m.\u001b[39;49m\u001b[43m_jvm\u001b[49m\u001b[38;5;241;43m.\u001b[39;49m\u001b[43mPythonUtils\u001b[49m\u001b[38;5;241;43m.\u001b[39;49m\u001b[43mtoSeq\u001b[49m\u001b[43m(\u001b[49m\u001b[43mpath\u001b[49m\u001b[43m)\u001b[49m\u001b[43m)\u001b[49m)\n\u001b[1;32m    285\u001b[0m \u001b[38;5;28;01melif\u001b[39;00m \u001b[38;5;28misinstance\u001b[39m(path, RDD):\n\u001b[1;32m    287\u001b[0m     \u001b[38;5;28;01mdef\u001b[39;00m \u001b[38;5;21mfunc\u001b[39m(iterator: Iterable) \u001b[38;5;241m-\u001b[39m\u001b[38;5;241m>\u001b[39m Iterable:\n",
      "File \u001b[0;32m~/hadoop/spark-3.3.0-bin-hadoop3/python/lib/py4j-0.10.9.5-src.zip/py4j/java_gateway.py:1321\u001b[0m, in \u001b[0;36mJavaMember.__call__\u001b[0;34m(self, *args)\u001b[0m\n\u001b[1;32m   1315\u001b[0m command \u001b[38;5;241m=\u001b[39m proto\u001b[38;5;241m.\u001b[39mCALL_COMMAND_NAME \u001b[38;5;241m+\u001b[39m\\\n\u001b[1;32m   1316\u001b[0m     \u001b[38;5;28mself\u001b[39m\u001b[38;5;241m.\u001b[39mcommand_header \u001b[38;5;241m+\u001b[39m\\\n\u001b[1;32m   1317\u001b[0m     args_command \u001b[38;5;241m+\u001b[39m\\\n\u001b[1;32m   1318\u001b[0m     proto\u001b[38;5;241m.\u001b[39mEND_COMMAND_PART\n\u001b[1;32m   1320\u001b[0m answer \u001b[38;5;241m=\u001b[39m \u001b[38;5;28mself\u001b[39m\u001b[38;5;241m.\u001b[39mgateway_client\u001b[38;5;241m.\u001b[39msend_command(command)\n\u001b[0;32m-> 1321\u001b[0m return_value \u001b[38;5;241m=\u001b[39m \u001b[43mget_return_value\u001b[49m\u001b[43m(\u001b[49m\n\u001b[1;32m   1322\u001b[0m \u001b[43m    \u001b[49m\u001b[43manswer\u001b[49m\u001b[43m,\u001b[49m\u001b[43m \u001b[49m\u001b[38;5;28;43mself\u001b[39;49m\u001b[38;5;241;43m.\u001b[39;49m\u001b[43mgateway_client\u001b[49m\u001b[43m,\u001b[49m\u001b[43m \u001b[49m\u001b[38;5;28;43mself\u001b[39;49m\u001b[38;5;241;43m.\u001b[39;49m\u001b[43mtarget_id\u001b[49m\u001b[43m,\u001b[49m\u001b[43m \u001b[49m\u001b[38;5;28;43mself\u001b[39;49m\u001b[38;5;241;43m.\u001b[39;49m\u001b[43mname\u001b[49m\u001b[43m)\u001b[49m\n\u001b[1;32m   1324\u001b[0m \u001b[38;5;28;01mfor\u001b[39;00m temp_arg \u001b[38;5;129;01min\u001b[39;00m temp_args:\n\u001b[1;32m   1325\u001b[0m     temp_arg\u001b[38;5;241m.\u001b[39m_detach()\n",
      "File \u001b[0;32m~/hadoop/spark-3.3.0-bin-hadoop3/python/pyspark/sql/utils.py:196\u001b[0m, in \u001b[0;36mcapture_sql_exception.<locals>.deco\u001b[0;34m(*a, **kw)\u001b[0m\n\u001b[1;32m    192\u001b[0m converted \u001b[38;5;241m=\u001b[39m convert_exception(e\u001b[38;5;241m.\u001b[39mjava_exception)\n\u001b[1;32m    193\u001b[0m \u001b[38;5;28;01mif\u001b[39;00m \u001b[38;5;129;01mnot\u001b[39;00m \u001b[38;5;28misinstance\u001b[39m(converted, UnknownException):\n\u001b[1;32m    194\u001b[0m     \u001b[38;5;66;03m# Hide where the exception came from that shows a non-Pythonic\u001b[39;00m\n\u001b[1;32m    195\u001b[0m     \u001b[38;5;66;03m# JVM exception message.\u001b[39;00m\n\u001b[0;32m--> 196\u001b[0m     \u001b[38;5;28;01mraise\u001b[39;00m converted \u001b[38;5;28;01mfrom\u001b[39;00m \u001b[38;5;28mNone\u001b[39m\n\u001b[1;32m    197\u001b[0m \u001b[38;5;28;01melse\u001b[39;00m:\n\u001b[1;32m    198\u001b[0m     \u001b[38;5;28;01mraise\u001b[39;00m\n",
      "\u001b[0;31mIllegalArgumentException\u001b[0m: Can not create a Path from an empty string"
     ]
    }
   ],
   "source": [
    "## Read file in pyspark\n",
    "spark.read.json(\"\")\n",
    "spark.read.format('csv').load('path', format=none, schema=none, header=None)\n",
    "spark.read.schema(Schema).csv('path',sep(','))\n",
    "spark.read.csv('path',schema=Schema)\n",
    "spark.read.parquet()\n",
    "spark.read.option('inferschema',True).csv(path).toDF(*columns)\n",
    "spark.read.option('sep','|').option('header',None).option('inferschema',True).csv('path').toDF(*columns)\n",
    "options('sep':'|','header':none,'inferschema':True)\n",
    "spark.read.options(**options).format('csv').load(path).toDF(*columns)"
   ]
  },
  {
   "cell_type": "code",
   "execution_count": null,
   "id": "623c3676",
   "metadata": {},
   "outputs": [],
   "source": [
    "## Read file in python\n",
    "\n",
    "#json:\n",
    "\n",
    "import json\n",
    "j=open(path)\n",
    "data = json.load(j)\n",
    "\n",
    "#csv\n",
    "\n",
    "import csv\n",
    "j=    open(path)\n",
    "data = json.readlines(j)\n",
    "# json.splitlines()"
   ]
  },
  {
   "cell_type": "code",
   "execution_count": 183,
   "id": "7f5ffffc",
   "metadata": {},
   "outputs": [
    {
     "ename": "NameError",
     "evalue": "name 'path' is not defined",
     "output_type": "error",
     "traceback": [
      "\u001b[0;31m---------------------------------------------------------------------------\u001b[0m",
      "\u001b[0;31mNameError\u001b[0m                                 Traceback (most recent call last)",
      "Input \u001b[0;32mIn [183]\u001b[0m, in \u001b[0;36m<cell line: 3>\u001b[0;34m()\u001b[0m\n\u001b[1;32m      1\u001b[0m \u001b[38;5;66;03m##write files in python\u001b[39;00m\n\u001b[0;32m----> 3\u001b[0m df\u001b[38;5;241m.\u001b[39mwrite\u001b[38;5;241m.\u001b[39mjson(\u001b[43mpath\u001b[49m, mode\u001b[38;5;241m=\u001b[39m\u001b[38;5;124m'\u001b[39m\u001b[38;5;124moverwrite\u001b[39m\u001b[38;5;124m'\u001b[39m)\n\u001b[1;32m      4\u001b[0m df\u001b[38;5;241m.\u001b[39mwrite\u001b[38;5;241m.\u001b[39mformat(\u001b[38;5;124m'\u001b[39m\u001b[38;5;124mJson\u001b[39m\u001b[38;5;124m'\u001b[39m)\u001b[38;5;241m.\u001b[39msave(path, mode\u001b[38;5;241m=\u001b[39m\u001b[38;5;124m'\u001b[39m\u001b[38;5;124moverwrite\u001b[39m\u001b[38;5;124m'\u001b[39m)\n\u001b[1;32m      6\u001b[0m \u001b[38;5;66;03m## while writing the data into csv \u001b[39;00m\n",
      "\u001b[0;31mNameError\u001b[0m: name 'path' is not defined"
     ]
    }
   ],
   "source": [
    "##write files in python\n",
    "\n",
    "df.write.json(path, mode='overwrite')\n",
    "df.write.format('Json').save(path, mode='overwrite')\n",
    "\n",
    "## while writing the data into csv \n",
    "df.coalesce(1).write.csv(path, mode='overwrite',header=True)\n",
    "df.write.format('csv').save(path, mode='overwrite', header=True)\n",
    "df.coalesce(1).write.csv(path, mode='overwrite',header=True,compression=gzip)\n",
    "df.write.mode('overwrite').csv(path,sep='|',compression='gzip')\n",
    "\n",
    "## mode doesn't come in option or options\n",
    "\n",
    "df.coalesce(1).write.mode('overwrite').option('compression','gzip').option('header',True).option('sep','|').csv(path)\n",
    "df.coalesce(1).write.mode('overwrite').options(compression='gzip',header=True, compression='gzip').option('sep','|').csv(path)"
   ]
  },
  {
   "cell_type": "code",
   "execution_count": null,
   "id": "3c96cb34",
   "metadata": {},
   "outputs": [],
   "source": [
    "f.write(\"Now the file has more content!\")\n",
    "f.close()\n",
    "\n",
    "#Create a file called \"myfile.txt\":\n",
    "f = open(\"myfile.txt\", \"x\")\n",
    "\n",
    "#Create a new file if it does not exist:\n",
    "f = open(\"myfile.txt\", \"w\")"
   ]
  },
  {
   "cell_type": "code",
   "execution_count": 211,
   "id": "231534a7",
   "metadata": {},
   "outputs": [],
   "source": [
    "film_df=spark.read.format('parquet').load('/Users/shubhangigupta/Desktop/log_filedndjson_file/parquet_file/part-00000-19900f4e-29e8-442d-b1c5-c225cb45b5d9-c000.snappy.parquet')"
   ]
  },
  {
   "cell_type": "code",
   "execution_count": 212,
   "id": "6f3e3965",
   "metadata": {},
   "outputs": [
    {
     "name": "stdout",
     "output_type": "stream",
     "text": [
      "+--------------------+----+-----------------+--------------------+--------------------+----------+--------------------+------+------------+-------+--------------------+-------+\n",
      "|                cast|  ct|       date_added|         description|            director|  duration|           listed_in|rating|release_year|show_id|               title|   type|\n",
      "+--------------------+----+-----------------+--------------------+--------------------+----------+--------------------+------+------------+-------+--------------------+-------+\n",
      "|Chris Diamantopou...|null|November 26, 2021|Join Mickey and t...|Alonso Ramirez Ra...|    23 min|   Animation, Family|  TV-G|        2016|     s1|Duck the Halls: A...|  Movie|\n",
      "|Jim Varney, Noell...|null|November 26, 2021|Santa Claus passe...|         John Cherry|    91 min|              Comedy|    PG|        1988|     s2|Ernest Saves Chri...|  Movie|\n",
      "|Raymond Albert Ro...|null|November 26, 2021|Sid the Sloth is ...|        Karen Disher|    23 min|Animation, Comedy...|  TV-G|        2011|     s3|Ice Age: A Mammot...|  Movie|\n",
      "|Darren Criss, Ada...|null|November 26, 2021|This is real life...|     Hamish Hamilton|    41 min|             Musical| TV-PG|        2021|     s4|The Queen Family ...|  Movie|\n",
      "|John Lennon, Paul...|null|November 25, 2021|A three-part docu...|                    |  1 Season|Docuseries, Histo...|      |        2021|     s5|The Beatles: Get ...|TV Show|\n",
      "|Jacques Yves Cous...|null|November 24, 2021|An inside look at...|          Liz Garbus|    94 min|Biographical, Doc...| PG-13|        2021|     s6|   Becoming Cousteau|  Movie|\n",
      "|Jeremy Renner, Ha...|null|November 24, 2021|Clint Barton/Hawk...|                    |  1 Season|Action-Adventure,...| TV-14|        2021|     s7|             Hawkeye|TV Show|\n",
      "|Gary Muehlberger,...|null|November 24, 2021|Residents of Port...|                    | 2 Seasons|Docuseries, Reali...| TV-14|        2015|     s8|Port Protection A...|TV Show|\n",
      "|Dr. Ray Ball, Dr....|null|November 24, 2021|A day in the life...|                    | 2 Seasons|Animals & Nature,...| TV-PG|        2019|     s9|Secrets of the Zo...|TV Show|\n",
      "|Dr. Ray Ball, Dr....|null|November 19, 2021|Celebrate the hol...|    Kirk R. Thatcher|    45 min|Comedy, Family, M...|     G|        2008|    s10|A Muppets Christm...|  Movie|\n",
      "|Don Hahn, Kathryn...|null|November 19, 2021|Explore the treas...|          John Gleim|    59 min|         Documentary| TV-PG|        2020|    s11|Adventure Thru th...|  Movie|\n",
      "|                    |null|November 19, 2021|Check out Daveed ...|                    |     4 min|Comedy, Family, M...|  TV-G|        2020|    s12|  Puppy for Hanukkah|  Movie|\n",
      "|Stacy Keach, John...|null|November 19, 2021|A groundbreaking ...|       Leslie Iwerks|    91 min| Documentary, Family|     G|        2007|    s13|     The Pixar Story|  Movie|\n",
      "|Dr. Michelle Oakl...|null|November 17, 2021|Meet Dr. Michelle...|                    |10 Seasons|Action-Adventure,...| TV-PG|        2013|    s14|Dr. Oakley, Yukon...|TV Show|\n",
      "|   Michael B. Jordan|null|November 12, 2021|Epic, grand portr...|                    |     2 min|    Animals & Nature| TV-PG|        2021|    s15|America the Beaut...|  Movie|\n",
      "|                    |null|November 12, 2021|“Baymax!” premier...|                    |     1 min|           Animation|  TV-G|        2021|    s16|             Baymax!|  Movie|\n",
      "|Jack Dylan Grazer...|null|November 12, 2021|Fun-loving sea mo...|      McKenna Harris|     8 min|Animation, Comedy...| TV-PG|        2021|    s17|        Ciao Alberto|  Movie|\n",
      "|Mia Jenness, Alys...|null|November 12, 2021|Nancy makes every...|                    | 3 Seasons|     Animation, Kids| TV-PG|        2018|    s18|  Disney Fancy Nancy|TV Show|\n",
      "|Carolina Domenech...|null|November 12, 2021|Allegra is ready ...|                    |  1 Season|Comedy, Coming of...| TV-PG|        2021|    s19|  Disney Intertwined|TV Show|\n",
      "|Amy Adams, Patric...|null|November 12, 2021|An animated princ...|          Kevin Lima|   110 min|Comedy, Family, F...|    PG|        2007|    s20|           Enchanted|  Movie|\n",
      "+--------------------+----+-----------------+--------------------+--------------------+----------+--------------------+------+------------+-------+--------------------+-------+\n",
      "only showing top 20 rows\n",
      "\n"
     ]
    }
   ],
   "source": [
    "film_df.show()"
   ]
  },
  {
   "cell_type": "code",
   "execution_count": 189,
   "id": "9e2a302b",
   "metadata": {},
   "outputs": [],
   "source": [
    "from pyspark.sql.functions import col"
   ]
  },
  {
   "cell_type": "code",
   "execution_count": 48,
   "id": "f4c7a593",
   "metadata": {},
   "outputs": [
    {
     "name": "stdout",
     "output_type": "stream",
     "text": [
      "root\n",
      " |-- itemInfo: struct (nullable = true)\n",
      " |    |-- itemStruct: struct (nullable = true)\n",
      " |    |    |-- adAuthorization: boolean (nullable = true)\n",
      " |    |    |-- adLabelVersion: long (nullable = true)\n",
      " |    |    |-- author: struct (nullable = true)\n",
      " |    |    |    |-- avatarLarger: string (nullable = true)\n",
      " |    |    |    |-- avatarMedium: string (nullable = true)\n",
      " |    |    |    |-- avatarThumb: string (nullable = true)\n",
      " |    |    |    |-- commentSetting: long (nullable = true)\n",
      " |    |    |    |-- downloadSetting: long (nullable = true)\n",
      " |    |    |    |-- duetSetting: long (nullable = true)\n",
      " |    |    |    |-- ftc: boolean (nullable = true)\n",
      " |    |    |    |-- id: string (nullable = true)\n",
      " |    |    |    |-- isADVirtual: boolean (nullable = true)\n",
      " |    |    |    |-- nickname: string (nullable = true)\n",
      " |    |    |    |-- openFavorite: boolean (nullable = true)\n",
      " |    |    |    |-- privateAccount: boolean (nullable = true)\n",
      " |    |    |    |-- relation: long (nullable = true)\n",
      " |    |    |    |-- secUid: string (nullable = true)\n",
      " |    |    |    |-- secret: boolean (nullable = true)\n",
      " |    |    |    |-- signature: string (nullable = true)\n",
      " |    |    |    |-- stitchSetting: long (nullable = true)\n",
      " |    |    |    |-- ttSeller: boolean (nullable = true)\n",
      " |    |    |    |-- uniqueId: string (nullable = true)\n",
      " |    |    |    |-- verified: boolean (nullable = true)\n",
      " |    |    |-- authorStats: struct (nullable = true)\n",
      " |    |    |    |-- diggCount: long (nullable = true)\n",
      " |    |    |    |-- followerCount: long (nullable = true)\n",
      " |    |    |    |-- followingCount: long (nullable = true)\n",
      " |    |    |    |-- heart: long (nullable = true)\n",
      " |    |    |    |-- heartCount: long (nullable = true)\n",
      " |    |    |    |-- videoCount: long (nullable = true)\n",
      " |    |    |-- challenges: array (nullable = true)\n",
      " |    |    |    |-- element: struct (containsNull = true)\n",
      " |    |    |    |    |-- coverLarger: string (nullable = true)\n",
      " |    |    |    |    |-- coverMedium: string (nullable = true)\n",
      " |    |    |    |    |-- coverThumb: string (nullable = true)\n",
      " |    |    |    |    |-- desc: string (nullable = true)\n",
      " |    |    |    |    |-- id: string (nullable = true)\n",
      " |    |    |    |    |-- isCommerce: boolean (nullable = true)\n",
      " |    |    |    |    |-- profileLarger: string (nullable = true)\n",
      " |    |    |    |    |-- profileMedium: string (nullable = true)\n",
      " |    |    |    |    |-- profileThumb: string (nullable = true)\n",
      " |    |    |    |    |-- stats: struct (nullable = true)\n",
      " |    |    |    |    |    |-- videoCount: long (nullable = true)\n",
      " |    |    |    |    |    |-- viewCount: long (nullable = true)\n",
      " |    |    |    |    |-- title: string (nullable = true)\n",
      " |    |    |-- createTime: long (nullable = true)\n",
      " |    |    |-- desc: string (nullable = true)\n",
      " |    |    |-- digged: boolean (nullable = true)\n",
      " |    |    |-- duetDisplay: long (nullable = true)\n",
      " |    |    |-- duetEnabled: boolean (nullable = true)\n",
      " |    |    |-- duetInfo: struct (nullable = true)\n",
      " |    |    |    |-- duetFromId: string (nullable = true)\n",
      " |    |    |-- forFriend: boolean (nullable = true)\n",
      " |    |    |-- id: string (nullable = true)\n",
      " |    |    |-- isActivityItem: boolean (nullable = true)\n",
      " |    |    |-- isAd: boolean (nullable = true)\n",
      " |    |    |-- itemCommentStatus: long (nullable = true)\n",
      " |    |    |-- itemMute: boolean (nullable = true)\n",
      " |    |    |-- music: struct (nullable = true)\n",
      " |    |    |    |-- album: string (nullable = true)\n",
      " |    |    |    |-- authorName: string (nullable = true)\n",
      " |    |    |    |-- coverLarge: string (nullable = true)\n",
      " |    |    |    |-- coverMedium: string (nullable = true)\n",
      " |    |    |    |-- coverThumb: string (nullable = true)\n",
      " |    |    |    |-- duration: long (nullable = true)\n",
      " |    |    |    |-- id: string (nullable = true)\n",
      " |    |    |    |-- original: boolean (nullable = true)\n",
      " |    |    |    |-- playUrl: string (nullable = true)\n",
      " |    |    |    |-- title: string (nullable = true)\n",
      " |    |    |-- officalItem: boolean (nullable = true)\n",
      " |    |    |-- originalItem: boolean (nullable = true)\n",
      " |    |    |-- privateItem: boolean (nullable = true)\n",
      " |    |    |-- secret: boolean (nullable = true)\n",
      " |    |    |-- shareEnabled: boolean (nullable = true)\n",
      " |    |    |-- showNotPass: boolean (nullable = true)\n",
      " |    |    |-- stats: struct (nullable = true)\n",
      " |    |    |    |-- commentCount: long (nullable = true)\n",
      " |    |    |    |-- diggCount: long (nullable = true)\n",
      " |    |    |    |-- playCount: long (nullable = true)\n",
      " |    |    |    |-- shareCount: long (nullable = true)\n",
      " |    |    |-- stickersOnItem: array (nullable = true)\n",
      " |    |    |    |-- element: struct (containsNull = true)\n",
      " |    |    |    |    |-- stickerText: array (nullable = true)\n",
      " |    |    |    |    |    |-- element: string (containsNull = true)\n",
      " |    |    |    |    |-- stickerType: long (nullable = true)\n",
      " |    |    |-- stitchDisplay: long (nullable = true)\n",
      " |    |    |-- stitchEnabled: boolean (nullable = true)\n",
      " |    |    |-- textExtra: array (nullable = true)\n",
      " |    |    |    |-- element: struct (containsNull = true)\n",
      " |    |    |    |    |-- awemeId: string (nullable = true)\n",
      " |    |    |    |    |-- end: long (nullable = true)\n",
      " |    |    |    |    |-- hashtagId: string (nullable = true)\n",
      " |    |    |    |    |-- hashtagName: string (nullable = true)\n",
      " |    |    |    |    |-- isCommerce: boolean (nullable = true)\n",
      " |    |    |    |    |-- secUid: string (nullable = true)\n",
      " |    |    |    |    |-- start: long (nullable = true)\n",
      " |    |    |    |    |-- subType: long (nullable = true)\n",
      " |    |    |    |    |-- type: long (nullable = true)\n",
      " |    |    |    |    |-- userId: string (nullable = true)\n",
      " |    |    |    |    |-- userUniqueId: string (nullable = true)\n",
      " |    |    |-- video: struct (nullable = true)\n",
      " |    |    |    |-- bitrate: long (nullable = true)\n",
      " |    |    |    |-- codecType: string (nullable = true)\n",
      " |    |    |    |-- cover: string (nullable = true)\n",
      " |    |    |    |-- definition: string (nullable = true)\n",
      " |    |    |    |-- downloadAddr: string (nullable = true)\n",
      " |    |    |    |-- duration: long (nullable = true)\n",
      " |    |    |    |-- dynamicCover: string (nullable = true)\n",
      " |    |    |    |-- encodeUserTag: string (nullable = true)\n",
      " |    |    |    |-- encodedType: string (nullable = true)\n",
      " |    |    |    |-- format: string (nullable = true)\n",
      " |    |    |    |-- height: long (nullable = true)\n",
      " |    |    |    |-- id: string (nullable = true)\n",
      " |    |    |    |-- originCover: string (nullable = true)\n",
      " |    |    |    |-- playAddr: string (nullable = true)\n",
      " |    |    |    |-- ratio: string (nullable = true)\n",
      " |    |    |    |-- reflowCover: string (nullable = true)\n",
      " |    |    |    |-- shareCover: array (nullable = true)\n",
      " |    |    |    |    |-- element: string (containsNull = true)\n",
      " |    |    |    |-- videoQuality: string (nullable = true)\n",
      " |    |    |    |-- width: long (nullable = true)\n",
      " |    |    |    |-- zoomCover: struct (nullable = true)\n",
      " |    |    |    |    |-- 240: string (nullable = true)\n",
      " |    |    |    |    |-- 480: string (nullable = true)\n",
      " |    |    |    |    |-- 720: string (nullable = true)\n",
      " |    |    |    |    |-- 960: string (nullable = true)\n",
      " |    |    |-- vl1: boolean (nullable = true)\n",
      " |-- shareMeta: struct (nullable = true)\n",
      " |    |-- desc: string (nullable = true)\n",
      " |    |-- title: string (nullable = true)\n",
      " |-- statusCode: long (nullable = true)\n",
      "\n"
     ]
    }
   ],
   "source": [
    "# import json\n",
    "# import pandas as pd\n",
    "# f = open('/Users/shubhangigupta/Desktop/log_filedndjson_file/tiktok.json','r')\n",
    "# j_l=json.load(f)\n",
    "# print(j_l)     \n",
    "           \n",
    "df = spark.read.format('json').load('/Users/shubhangigupta/Desktop/log_filedndjson_file/tiktok_jl.json')\n",
    "df.printSchema()\n",
    "\n",
    "            \n",
    "#             list_data.append(json.loads(v))\n",
    "            \n",
    "# print(list_data)\n",
    "            \n",
    "#         with open(\"/Users/shubhangigupta/Desktop/log_filedndjson_file/tiktok_items.json\", \"w\") as outfile:\n",
    "#             json.dump(v, outfile)   \n",
    "        \n",
    "    \n",
    "# df = spark.read.json('/Users/shubhangigupta/Desktop/log_filedndjson_file/tiktok_item.json', multiLine=True)\n",
    "\n",
    "# df.printSchema()"
   ]
  },
  {
   "cell_type": "code",
   "execution_count": 6,
   "id": "12bcbf60",
   "metadata": {},
   "outputs": [
    {
     "name": "stderr",
     "output_type": "stream",
     "text": [
      "\r\n",
      "[Stage 0:>                                                          (0 + 1) / 1]\r\n",
      "\r\n",
      "                                                                                \r"
     ]
    },
    {
     "name": "stdout",
     "output_type": "stream",
     "text": [
      "22/08/22 10:43:32 WARN package: Truncated the string representation of a plan since it was too large. This behavior can be adjusted by setting 'spark.sql.debug.maxToStringFields'.\n"
     ]
    }
   ],
   "source": [
    "df = spark.read.format('json').load('/Users/shubhangigupta/Desktop/log_filedndjson_file/tiktok.json')"
   ]
  },
  {
   "cell_type": "code",
   "execution_count": 7,
   "id": "fb387b40",
   "metadata": {},
   "outputs": [
    {
     "name": "stdout",
     "output_type": "stream",
     "text": [
      "+--------------------+--------------------+----------+\n",
      "|            itemInfo|           shareMeta|statusCode|\n",
      "+--------------------+--------------------+----------+\n",
      "|{{false, 0, {http...|{Can you guess wh...|         0|\n",
      "+--------------------+--------------------+----------+\n",
      "\n"
     ]
    }
   ],
   "source": [
    "df.show()"
   ]
  },
  {
   "cell_type": "markdown",
   "id": "d3970aae",
   "metadata": {},
   "source": [
    "##  Data Skew – Control Number of Records per Partition File"
   ]
  },
  {
   "cell_type": "code",
   "execution_count": null,
   "id": "04ca210e",
   "metadata": {},
   "outputs": [],
   "source": [
    "df.write.option(\"header\",True) \\\n",
    "        .option(\"maxRecordsPerFile\", 2) \\\n",
    "        .partitionBy(\"state\") \\\n",
    "        .mode(\"overwrite\") \\\n",
    "        .csv(\"/tmp/zipcodes-state\")"
   ]
  },
  {
   "cell_type": "markdown",
   "id": "bf8b2ef2",
   "metadata": {},
   "source": [
    "## Data Aggregations"
   ]
  }
 ],
 "metadata": {
  "kernelspec": {
   "display_name": "Python 3.10.4 64-bit",
   "language": "python",
   "name": "python3"
  },
  "language_info": {
   "codemirror_mode": {
    "name": "ipython",
    "version": 3
   },
   "file_extension": ".py",
   "mimetype": "text/x-python",
   "name": "python",
   "nbconvert_exporter": "python",
   "pygments_lexer": "ipython3",
   "version": "3.10.4"
  },
  "vscode": {
   "interpreter": {
    "hash": "7e1998ff7f8aa20ada591c520b972326324e5ea05489af9e422744c7c09f6dad"
   }
  }
 },
 "nbformat": 4,
 "nbformat_minor": 5
}
